{
 "cells": [
  {
   "cell_type": "code",
   "execution_count": 17,
   "metadata": {},
   "outputs": [
    {
     "name": "stderr",
     "output_type": "stream",
     "text": [
      "[nltk_data] Downloading package stopwords to\n",
      "[nltk_data]     C:\\Users\\catra\\AppData\\Roaming\\nltk_data...\n",
      "[nltk_data]   Package stopwords is already up-to-date!\n"
     ]
    },
    {
     "data": {
      "text/plain": [
       "True"
      ]
     },
     "execution_count": 17,
     "metadata": {},
     "output_type": "execute_result"
    }
   ],
   "source": [
    "import nltk\n",
    "nltk.download(\"stopwords\")"
   ]
  },
  {
   "cell_type": "code",
   "execution_count": 18,
   "metadata": {},
   "outputs": [],
   "source": [
    "import json\n",
    "with open('songs.json', 'r') as json_file:\n",
    "    data = json.load(json_file)"
   ]
  },
  {
   "cell_type": "code",
   "execution_count": 19,
   "metadata": {},
   "outputs": [
    {
     "data": {
      "text/plain": [
       "13"
      ]
     },
     "execution_count": 19,
     "metadata": {},
     "output_type": "execute_result"
    }
   ],
   "source": [
    "len(data)"
   ]
  },
  {
   "cell_type": "code",
   "execution_count": 20,
   "metadata": {},
   "outputs": [
    {
     "data": {
      "text/plain": [
       "{'songName': 'Hurt',\n",
       " 'spotifyLink': 'https://open.spotify.com/track/1lo9k4PrxFd5Np4cAxXoKo?si=881892db7eaa4a71',\n",
       " 'genre': 'Rock',\n",
       " 'lyrics': \"I hurt myself today\\nTo see if I still feel\\nI focus on the pain\\nThe only thing that's real\\nThe needle tears a hole\\nThe old familiar sting\\nTry to kill it all away\\nBut I remember everything\\nWhat have I become?\\nMy sweetest friend\\nEveryone I know goes away\\nIn the end\\nAnd you could have it all\\nMy empire of dirt\\nI will let you down\\nI will make you hurt\\nI wear this crown of thorns\\nUpon my liar's chair\\nFull of broken thoughts\\nI cannot repair\\nBeneath the stains of time\\nThe feelings disappear\\nYou are someone else\\nI'm still right here\\nWhat have I become?\\nMy sweetest friend\\nEveryone I know goes away\\nIn the end\\nAnd you could have it all\\nMy empire of dirt\\nI will let you down\\nI will make you hurt\\nIf I could start again\\nA million miles away\\nI would keep myself\\nI would find a way\",\n",
       " 'mood': '100stress'}"
      ]
     },
     "execution_count": 20,
     "metadata": {},
     "output_type": "execute_result"
    }
   ],
   "source": [
    "data[0]"
   ]
  },
  {
   "cell_type": "code",
   "execution_count": 21,
   "metadata": {},
   "outputs": [],
   "source": [
    "# convert prediction to value\n",
    "\n",
    "def pred_to_mh(pred):\n",
    "    label_mapping = {\n",
    "        0: \"Stressed\",\n",
    "        1: \"Depressed\",\n",
    "        2: \"Neutral\",\n",
    "        3: \"Happy\",\n",
    "        4: \"Studious\"\n",
    "    }\n",
    "\n",
    "    return label_mapping[pred]\n",
    "\n",
    "result = pred_to_mh(3)"
   ]
  },
  {
   "cell_type": "code",
   "execution_count": 22,
   "metadata": {},
   "outputs": [
    {
     "data": {
      "text/plain": [
       "'Happy'"
      ]
     },
     "execution_count": 22,
     "metadata": {},
     "output_type": "execute_result"
    }
   ],
   "source": [
    "result"
   ]
  },
  {
   "cell_type": "code",
   "execution_count": 23,
   "metadata": {},
   "outputs": [],
   "source": [
    "word_list = {\n",
    "    \"Stressed\": \n",
    "        [\"stress\", \"uneasy\", \"nervous\", \"discomfort\", \"inconvenient\", \"Anxious\", \"Exhausting\", \"Intense\", \n",
    "         \"Panic\", \"Unmanageable\", \"Breakdown\"],\n",
    "    \n",
    "    \"Depressed\":\n",
    "        [\"Melancholic\", \"Somber\", \"Blue\", \"Gloomy\", \"depression\", \"rain\", \"Overwhelming\", \"Desperate\", \n",
    "         \"Suicidal\", \"Paralyzed\", \"Incapacitating\", \"Unbearable\", \"Devastated\", \"cry\", \"tears\", \"pain\"],\n",
    "    \n",
    "    \"Neutral\":\n",
    "        [\"bored\", \"simple\", \"pleasant\", \"normal\", \"neutral\"],\n",
    "        \n",
    "    \"Happy\":\n",
    "        [\"Stable\", \"Calm\", \"Satisfied\", \"Happy\", \"Content\", \"Manic\", \"Euphoric\", \"Ecstatic\", \"Party\",\n",
    "         \"Dance\", \"excited\"],\n",
    "        \n",
    "    \"Studious\":\n",
    "        [\"smart\", \"study\", \"brain\", \"school\", \"grades\", \"graduation\", \"homework\", \"scholar\", \"work\",\n",
    "         \"writing\", \"teacher\", \"students\", \"reading\", \"intelligent\", \"education\"]\n",
    "}"
   ]
  },
  {
   "cell_type": "code",
   "execution_count": 24,
   "metadata": {},
   "outputs": [
    {
     "data": {
      "text/plain": [
       "['hurt today see still feel focus pain thing real needle tears hole old familiar sting try kill away remember everything become sweetest friend everyone know goes away end could empire dirt make hurt wear crown thorns upon liars chair full broken thoughts cannot repair beneath stains time feelings disappear someone else still right become sweetest friend everyone know goes away end could empire dirt make hurt could start million miles away would keep would find way',\n",
       " 'wasted times spent someone else wasnt even half reminiscin felt niscin felt even though life hell seem forget want belong give love pullin gettin sprung aint cause lot dont make run blowin spot cause aint business catchin feelings anyway aint business catchin feelings catchin feelings girls want youre winnin winnin youve beginnin ooh yeah yeah know right talkin talkin hope know dick still option cause ill beat ill beat yeah took time learn way body functions equestrian ride like champion ride baby sex get high without substance belong belong give love give love pullin gettin sprung gettin sprung aint cause lot lot dont make run blowin spot blowin spot cause aint business catchin feelings anyway aint business catchin feelings feelings catchin feelings aint business catchin feelings aint business catchin feelings catchin feefeefeefee feelings aint business catchin feelings aint business catchin feelings catchin feefeefeefee wake dont wanna wake dont wanna wake aint layin next dont wanna wake dont wanna wake dont wanna wake aint layin next meee oh',\n",
       " 'ohh anybody see war fight never found way regardless feel wrong moment feel wrong storm morning light feel frozen nobody side surely aint right surely aint right ohh anybody see war fight never found way regardless feel wrong moment feel wrong feel wrong moment feel wrong ohh anybody see war fight never found way regardless feel wrong moment feel wrong',\n",
       " 'confusion eyes says shes lost control shes clinging nearest passerby shes lost control gave away secrets past said ive lost control voice told act said ive lost control turned around took hand said ive lost control ill never know understand said ive lost control screamed kicking side said ive lost control seized floor thought shed die said ive lost control shes lost control shes lost control shes lost control shes lost control phone friend state case shes lost control showed errors mistakes said ive lost control expressed many different ways lost control walked upon edge escape laughed ive lost control shes lost control shes lost control shes lost control shes lost control',\n",
       " 'aint sunshine shes gone warm shes away aint sunshine shes gone shes always gone long anytime shes goes away wonder time shes gone wonder shes gone stay aint sunshine shes gone house aint home anytime goes away know know know know know know know know know know know know know know know know know know know know know know know know know know hey oughta leave young thing alone aint sunshine shes gone woh woh aint sunshine shes gone darkness every day aint sunshine shes gone house aint home anytime goes away anytime goes away anytime goes away anytime goes away',\n",
       " 'angie angie dark clouds disappear angie angie lead us lovin souls money coats satisfied angie angie never tried angie youre beautiful aint time goodbye angie still love remember nights cried dreams held close seemed go smoke whisper ear angie angie lead us oh angie dont wish oh kisses still taste sweet hate sadness eyes angie angie aint time said goodbye lovin souls money coats satisfied angie still love baby everywhere look see eyes aint woman comes close come baby dry eyes angie angie aint good alive angie angie never tried',\n",
       " 'perfect picture head beautiful dress look happy ever go standing alone rain like kinda movie used hate wish could take back time know time real hate singing song hate strong hate youre gone hate flaws hate love someone else hate everything hate everything right doubts thought could work gave needed promised forever forever dont last long standing alone rain like kinda movie used hate wish could take back time know time real hate singing song hate strong hate youre gone hate flaws hate love someone else hate everything hate everything right really wish way erase beautiful memories killing oh baby hate singing song hate strong hate youre gone hate flaws hate love someone else hate everything hate everything right hate everything hate everything right',\n",
       " 'night walk dead solitary style crash cemetery gates dress husband hates way mark grave search lights find us drinking mausoleum door found bathroom floor miss miss far collision kiss made hard back home run singing songs make slit wrists isnt much fun staring loaded gun wont stop dying wont stop lying want ill keep crying get deserve always want miss miss far collision kiss made hard way way way way way way way way miss miss far collision kiss made hard miss miss far collision kiss made hard made hard way way way way way way way way way',\n",
       " 'peru para peru para peru para peru para peru para peru para peru para omoge girl wan capture soul omoge make wan wombolobo peru para peru peru para loo even peru dey para tonight jozi jozi jozi mon korin fun wan jo si jo si playin jokin jokin third album loadin mi okin fagbo molly duty lowkey wan wan mi wan gan wan mi ni wa mi ni wa mi san francisco jamming ni wa mi ni wa mi flew miami peru peru para para peru peru para loo even peru dey para pour bottle wanna level level nevеr get enough get еnough slow whine rush hear music youre tonight rolling party til closing since ring finger still frozen love slow motion wanna feel yeah somethin magic eyes yeah girl love way ride happens every time arrive right girl want life yeah theres heaven right never leave side stay tonight tonight wan see wan see west london evening givin feelings leavin fly la next weekend next weekend peru nah girl id rather go find somewhere quiet youll glow ill get lost eyes omoge girl capture soul omoge make wanna take home peru para peru peru para woo loo loo even peru dey para peru para peru peru para loo even peru dey para peru para peru peru para loo even peru dey para',\n",
       " 'buddy youre boy make big noise playing street gonna big man someday mud face big disgrace kicking place singin rock rock buddy youre young man hard man shouting street gonna take world someday blood face big disgrace waving banner place rock sing rock buddy youre old man poor man pleading eyes gonna make peace someday mud face big disgrace somebody better back place rock sing rock everybody rock hmm rock alright',\n",
       " 'might seem crazy sunshine shes take break hot air balloon could go space air like dont care baby way huh happy clap along feel like room without roof happy clap along feel like happiness truth happy clap along know happiness happy clap along feel like wanna come bad news talking yeah well give dont hold back yeah well probably warn ill fine yeah offense dont waste time heres clap along feel like room without roof happy clap along feel like happiness truth happy clap along know happiness happy clap along feel like wanna uh bring nothing bring levels high bring nothing bring said bring nothing bring levels high bring nothing bring said clap along feel like room without roof happy clap along feel like happiness truth happy clap along know happiness happy clap along feel like wanna clap along feel like room without roof happy clap along feel like happiness truth happy clap along know happiness happy clap along feel like wanna uh bring happy happy happy happy nothing happy happy happy happy bring levels high bring happy happy happy happy nothing happy happy happy happy bring said clap along feel like room without roof happy clap along feel like happiness truth happy clap along know happiness ayy ayy ayy happy clap along feel like wanna clap along feel like room without roof happy clap along feel like happiness truth happy clap along know happiness hey happy clap along feel like wanna come',\n",
       " 'yeah straight student friends cool kids ooh following rules rubric yeah freestyle bus lit yeah everybody like oh damn whos whos raising steaks like ruths chris yeah clockwork shine like kubrick yeah yeah heard music think hot like mucus pick side never switch get backbone girl one hit bat phone brr hey turn rap flow cash flow cash cow game lasso five figures week show yet nah yeah home set turn tiktok rolex views coachella damn make money streams cause right exploit cause know better work smarter harder know still gogetter go scroll back gram see ay aint overnight minute ay world gave lemons turned lemonade juice made brand like minute maid yeah straight student friends cool kids ooh following rules rubric freestyle bus lit everybody like oh damn whos whos ship dont sink loose lips whats row boat cruise ship mm whats penny stock blue chip oh whats npc blue tick ah whole life felt protagonist like bilbo baggins mm name weight dragging big scale like dragon skin ah headed top go kill said gonna pop kidding never stop chilling way attached yeah caught feeling shot roof aint ceiling boom hit hook reel like fishing line hit ground running blowing finish line everybody crowd bounce finish lines make dance like finnish prime minister face innocent flow sinister pay dividends hold prisoners try verse phone dnd please visitors yeah straight student friends cool kids ooh following rules rubric yeah freestyle bus lit everybody like oh damn whos whos raising steaks like ruths chris yeah clockwork shine like kubrick yeah yeah heard music think hot like mucus one hunnid graham',\n",
       " 'together together together everyone together together come lets fun together every time together together come lets right time celebration finally figured yeah yeah dreams limitations come everyone special way make strong strong different good way togethers belong together know stars see together shows stand hand hand make dreams come true everybody together together together everyone together together come lets fun together every time together together come lets right yeah speaking one voice going rock house rock house partys oh everybody make noise come scream shout arrived stuck together champions one together together know stars see together oh shows stand hand hand make dreams come together together reach fly know inside make together everyone see theres chance take wildcats sing along yeah really going wildcats house everybody wildcats everywhere wave hands air way lets get time show world together oh know stars see together together shows stand hand hand make dreams come together reach fly know inside make together see theres chance take wildcats everywhere wave hands air way lets get come everyone']"
      ]
     },
     "execution_count": 24,
     "metadata": {},
     "output_type": "execute_result"
    }
   ],
   "source": [
    "# clean (remove stopwords and whatnot)\n",
    "import re\n",
    "from nltk.corpus import stopwords\n",
    "\n",
    "list_of_words = word_list[result]\n",
    "list_of_song_lyrics = [song_record[\"lyrics\"] for song_record in data]\n",
    "\n",
    "stop_words = set(stopwords.words(\"english\"))\n",
    "stop_words.update({'im', 'em', 'on', 'say', 'cant', 'bout', 'about', \n",
    "                   'that', 'thats', 'put', 'askin', 'weve', 'got', 'could'\n",
    "                   'would', 'let'})\n",
    "\n",
    "def remove_stopwords(text):\n",
    "    text_without_newlines = text.replace(\"\\n\", \" \")\n",
    "    words = text_without_newlines.split()\n",
    "    filtered_words = [word for word in words if word.lower() not in stop_words]\n",
    "    return \" \".join(filtered_words)\n",
    "\n",
    "def clean_all(list):    \n",
    "    cleaned_lists = []\n",
    "    for text in list:\n",
    "        filtered_text_list = text.lower()\n",
    "        filtered_text_list = re.sub(r'[^\\w\\s]', '', filtered_text_list)\n",
    "        filtered_text_list = remove_stopwords(filtered_text_list)\n",
    "        cleaned_lists.append(filtered_text_list)\n",
    "    return cleaned_lists\n",
    "\n",
    "list_of_song_lyrics = clean_all(list_of_song_lyrics)\n",
    "list_of_song_lyrics"
   ]
  },
  {
   "cell_type": "code",
   "execution_count": 25,
   "metadata": {},
   "outputs": [
    {
     "data": {
      "text/plain": [
       "['stable', 'calm', 'satisfied', 'happy', 'content']"
      ]
     },
     "execution_count": 25,
     "metadata": {},
     "output_type": "execute_result"
    }
   ],
   "source": [
    "list_of_words = clean_all(list_of_words)\n",
    "list_of_words[:5]"
   ]
  },
  {
   "cell_type": "code",
   "execution_count": 26,
   "metadata": {},
   "outputs": [
    {
     "data": {
      "text/plain": [
       "596"
      ]
     },
     "execution_count": 26,
     "metadata": {},
     "output_type": "execute_result"
    }
   ],
   "source": [
    "def build_corpus(list_of_words, list_of_song_lyrics):\n",
    "    corpus = []\n",
    "    \n",
    "    for word in list_of_words:\n",
    "        corpus.append(word)\n",
    "    for song_lyrics in list_of_song_lyrics:\n",
    "        for word in song_lyrics.split():\n",
    "            corpus.append(word)\n",
    "            \n",
    "    corpus = list(set(corpus))\n",
    "    return corpus\n",
    "\n",
    "corpus = build_corpus(list_of_words, list_of_song_lyrics)\n",
    "len(corpus)"
   ]
  },
  {
   "cell_type": "code",
   "execution_count": 27,
   "metadata": {},
   "outputs": [
    {
     "data": {
      "text/plain": [
       "array([-6.9636069e-03, -2.4585116e-03, -8.0229370e-03,  7.5005279e-03,\n",
       "        6.1274157e-03,  5.2584694e-03,  8.3778575e-03, -6.9653272e-04,\n",
       "       -9.3127284e-03,  9.1156662e-03, -4.9285362e-03,  7.8479899e-03,\n",
       "        5.5338596e-03, -1.0790766e-03, -7.6642158e-03, -1.4598024e-03,\n",
       "        6.2535368e-03, -6.9660828e-03,  1.4420962e-03, -7.9518585e-03,\n",
       "        8.7213479e-03, -2.8557885e-03,  9.4373021e-03, -5.7080747e-03,\n",
       "       -9.7177243e-03, -8.6279036e-03, -4.0748348e-03,  4.7095944e-03,\n",
       "       -2.4193883e-04,  9.2235124e-03,  3.1092144e-03,  3.7477673e-03,\n",
       "        2.9963492e-03,  8.1486488e-03, -2.3967146e-03,  7.4073388e-03,\n",
       "       -9.5367134e-03,  2.9210865e-03, -6.8166968e-04,  4.5225740e-04,\n",
       "        6.8430100e-03, -2.8419732e-03, -2.3567795e-03, -1.0047674e-04,\n",
       "       -4.9769162e-04, -3.5749613e-03,  6.2444829e-03, -6.5586674e-03,\n",
       "        7.8919996e-03, -9.3460083e-05,  2.6088404e-03,  3.2231498e-03,\n",
       "       -2.8165340e-04,  1.7063022e-03, -3.1406546e-03,  4.7564553e-03,\n",
       "        2.4301052e-04, -3.2805956e-03, -8.7145744e-03, -9.9980794e-03,\n",
       "        3.1277776e-04, -5.7468102e-03, -1.1096597e-03, -4.2060935e-03,\n",
       "       -8.6388253e-03,  1.0620963e-03,  5.9110904e-03, -2.2109700e-03,\n",
       "       -7.1708169e-03,  3.1534373e-03, -3.8468599e-04, -5.5211424e-03,\n",
       "       -1.1056293e-03, -6.3965440e-04, -3.1830894e-03, -9.9550774e-03,\n",
       "        7.6385941e-03,  3.7260079e-03, -2.5292134e-03,  7.3071741e-03,\n",
       "        4.5459031e-04,  7.1731522e-03, -1.5475631e-03,  7.4936678e-03,\n",
       "       -4.2631626e-05, -6.0773613e-03, -4.7158506e-03,  9.6284244e-03,\n",
       "        5.8106182e-04,  1.0274005e-03,  8.4502874e-03, -6.2884046e-03,\n",
       "       -1.7638588e-03, -8.1789196e-03, -6.6747544e-03, -8.5804872e-03,\n",
       "        3.9306106e-03,  2.7393461e-03,  5.6154132e-03,  2.5717581e-03],\n",
       "      dtype=float32)"
      ]
     },
     "execution_count": 27,
     "metadata": {},
     "output_type": "execute_result"
    }
   ],
   "source": [
    "import gensim\n",
    "from gensim.models import word2vec\n",
    "\n",
    "sentences = [word.split() for word in corpus]\n",
    "\n",
    "model = word2vec.Word2Vec(sentences, vector_size=100, window=5, min_count=1, sg=0)\n",
    "\n",
    "model.save(\"word2vec.model\")\n",
    "\n",
    "model.wv[\"war\"]"
   ]
  },
  {
   "cell_type": "code",
   "execution_count": 28,
   "metadata": {},
   "outputs": [
    {
     "data": {
      "text/plain": [
       "['stable']"
      ]
     },
     "execution_count": 28,
     "metadata": {},
     "output_type": "execute_result"
    }
   ],
   "source": [
    "sentences = [word.split() for word in list_of_words]\n",
    "sentences[0]"
   ]
  },
  {
   "cell_type": "code",
   "execution_count": 29,
   "metadata": {},
   "outputs": [],
   "source": [
    "def word_embed(list, song = True):\n",
    "    word_embeddings = []\n",
    "    song_embeddings = []\n",
    "    sentences = [word.split() for word in list]\n",
    "    \n",
    "    for sentence in sentences:\n",
    "        word_embeddings.append(model.wv[sentence])\n",
    "        \n",
    "    if song:\n",
    "         for sentence_embeddings in word_embeddings:\n",
    "            song_embedding = np.mean(sentence_embeddings, axis=0)     \n",
    "            song_embeddings.append(song_embedding) \n",
    "         return song_embeddings  \n",
    "    \n",
    "    else:\n",
    "        return word_embeddings"
   ]
  },
  {
   "cell_type": "code",
   "execution_count": 30,
   "metadata": {},
   "outputs": [
    {
     "data": {
      "text/plain": [
       "'Hurt'"
      ]
     },
     "execution_count": 30,
     "metadata": {},
     "output_type": "execute_result"
    }
   ],
   "source": [
    "import numpy as np\n",
    "from sklearn.metrics.pairwise import cosine_similarity\n",
    "\n",
    "list_of_words_embeddings = word_embed(list_of_words)\n",
    "song_lyrics_embeddings = word_embed(list_of_song_lyrics)\n",
    "\n",
    "list_avg_embedding = np.mean(song_lyrics_embeddings, axis=0)\n",
    "\n",
    "similarities = [cosine_similarity([list_avg_embedding], [word_embedding])[0][0] for word_embedding in list_of_words_embeddings]\n",
    "\n",
    "best_match_index = np.argmax(similarities)\n",
    "\n",
    "best_matching_song = data[best_match_index]['songName']\n",
    "\n",
    "best_matching_song"
   ]
  },
  {
   "cell_type": "code",
   "execution_count": 31,
   "metadata": {},
   "outputs": [
    {
     "data": {
      "text/plain": [
       "[0.16187689,\n",
       " 0.04182033,\n",
       " 0.018520445,\n",
       " -0.028878463,\n",
       " -0.049142774,\n",
       " 0.11702032,\n",
       " -0.13277635,\n",
       " 0.09121998,\n",
       " -0.031889968,\n",
       " -0.016548418,\n",
       " 0.030261124]"
      ]
     },
     "execution_count": 31,
     "metadata": {},
     "output_type": "execute_result"
    }
   ],
   "source": [
    "similarities"
   ]
  },
  {
   "cell_type": "code",
   "execution_count": 33,
   "metadata": {},
   "outputs": [
    {
     "data": {
      "text/plain": [
       "11"
      ]
     },
     "execution_count": 33,
     "metadata": {},
     "output_type": "execute_result"
    }
   ],
   "source": [
    "len(similarities)"
   ]
  }
 ],
 "metadata": {
  "kernelspec": {
   "display_name": "brainwave_project",
   "language": "python",
   "name": "python3"
  },
  "language_info": {
   "codemirror_mode": {
    "name": "ipython",
    "version": 3
   },
   "file_extension": ".py",
   "mimetype": "text/x-python",
   "name": "python",
   "nbconvert_exporter": "python",
   "pygments_lexer": "ipython3",
   "version": "3.10.13"
  }
 },
 "nbformat": 4,
 "nbformat_minor": 2
}
