{
 "cells": [
  {
   "cell_type": "code",
   "execution_count": 1,
   "metadata": {},
   "outputs": [],
   "source": [
    "import json\n",
    "with open('songs.json', 'r') as json_file:\n",
    "    data = json.load(json_file)"
   ]
  },
  {
   "cell_type": "code",
   "execution_count": 6,
   "metadata": {},
   "outputs": [
    {
     "data": {
      "text/plain": [
       "{'songName': 'Hurt',\n",
       " 'spotifyLink': 'https://open.spotify.com/track/1lo9k4PrxFd5Np4cAxXoKo?si=881892db7eaa4a71',\n",
       " 'genre': 'Rock',\n",
       " 'lyrics': \"I hurt myself today\\nTo see if I still feel\\nI focus on the pain\\nThe only thing that's real\\nThe needle tears a hole\\nThe old familiar sting\\nTry to kill it all away\\nBut I remember everything\\nWhat have I become?\\nMy sweetest friend\\nEveryone I know goes away\\nIn the end\\nAnd you could have it all\\nMy empire of dirt\\nI will let you down\\nI will make you hurt\\nI wear this crown of thorns\\nUpon my liar's chair\\nFull of broken thoughts\\nI cannot repair\\nBeneath the stains of time\\nThe feelings disappear\\nYou are someone else\\nI'm still right here\\nWhat have I become?\\nMy sweetest friend\\nEveryone I know goes away\\nIn the end\\nAnd you could have it all\\nMy empire of dirt\\nI will let you down\\nI will make you hurt\\nIf I could start again\\nA million miles away\\nI would keep myself\\nI would find a way\",\n",
       " 'mood': '100stress'}"
      ]
     },
     "execution_count": 6,
     "metadata": {},
     "output_type": "execute_result"
    }
   ],
   "source": [
    "data[0]"
   ]
  },
  {
   "cell_type": "code",
   "execution_count": 7,
   "metadata": {},
   "outputs": [],
   "source": [
    "# convert prediction to value\n",
    "\n",
    "def pred_to_mh(pred):\n",
    "    label_mapping = {\n",
    "        0: \"Stressed\",\n",
    "        1: \"Depressed\",\n",
    "        2: \"Neutral\",\n",
    "        3: \"Happy\",\n",
    "        4: \"Studious\"\n",
    "    }\n",
    "\n",
    "    return label_mapping[pred]\n",
    "\n",
    "result = pred_to_mh(1)"
   ]
  },
  {
   "cell_type": "code",
   "execution_count": 8,
   "metadata": {},
   "outputs": [
    {
     "data": {
      "text/plain": [
       "'Depressed'"
      ]
     },
     "execution_count": 8,
     "metadata": {},
     "output_type": "execute_result"
    }
   ],
   "source": [
    "result"
   ]
  },
  {
   "cell_type": "code",
   "execution_count": null,
   "metadata": {},
   "outputs": [],
   "source": [
    "word_list = {\n",
    "    \"Stressed\": \n",
    "        [\"stress\", \"uneasy\", \"nervous\", \"discomfort\", \"inconvenient\", \"Anxious\", \"Exhausting\", \"Intense\", \n",
    "         \"Panic\", \"Unmanageable\", \"Breakdown\"],\n",
    "    \n",
    "    \"Depressed\":\n",
    "        [\"Melancholic\", \"Somber\", \"Blue\", \"Gloomy, depression\", \"rain\", \"Overwhelming\", \"Desperate\", \n",
    "         \"Suicidal\", \"Paralyzed\", \"Incapacitating\", \"Unbearable\", \"Devastated\", \"cry\", \"tears\", \"pain\"],\n",
    "    \n",
    "    \"Neutral\":\n",
    "        [\"bored\", \"simple\", \"pleasant\", \"normal\", \"neutral\"],\n",
    "        \n",
    "    \"Happy\":\n",
    "        [\"Stable\", \"Calm\", \"Satisfied\", \"Happy\", \"Content\", \"Manic\", \"Euphoric\", \"Ecstatic\", \"Party\",\n",
    "         \"Dance\", \"excited\"],\n",
    "        \n",
    "    \"Studious\":\n",
    "        [\"smart\", \"study\", \"brain\", \"school\", \"grades\", \"graduation\", \"homework\", \"scholar\", \"work\",\n",
    "         \"writing\", \"teacher\", \"students\", \"reading\", \"intelligent\", \"education\"]\n",
    "}"
   ]
  },
  {
   "cell_type": "code",
   "execution_count": null,
   "metadata": {},
   "outputs": [],
   "source": []
  }
 ],
 "metadata": {
  "kernelspec": {
   "display_name": "brainwave_project",
   "language": "python",
   "name": "python3"
  },
  "language_info": {
   "codemirror_mode": {
    "name": "ipython",
    "version": 3
   },
   "file_extension": ".py",
   "mimetype": "text/x-python",
   "name": "python",
   "nbconvert_exporter": "python",
   "pygments_lexer": "ipython3",
   "version": "3.10.13"
  }
 },
 "nbformat": 4,
 "nbformat_minor": 2
}
