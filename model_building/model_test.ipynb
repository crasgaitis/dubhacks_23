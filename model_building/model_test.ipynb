{
 "cells": [
  {
   "cell_type": "code",
   "execution_count": 1,
   "metadata": {},
   "outputs": [],
   "source": [
    "import re\n",
    "import numpy\n",
    "import pandas as pd"
   ]
  },
  {
   "cell_type": "markdown",
   "metadata": {},
   "source": [
    "### Mega dataset"
   ]
  },
  {
   "cell_type": "code",
   "execution_count": 2,
   "metadata": {},
   "outputs": [],
   "source": [
    "def compute_average(group_name, df):\n",
    "    group_columns = [col for col in df.columns if group_name in col]\n",
    "    return df[group_columns].mean(axis=1)"
   ]
  },
  {
   "cell_type": "code",
   "execution_count": 3,
   "metadata": {},
   "outputs": [
    {
     "data": {
      "text/html": [
       "<div>\n",
       "<style scoped>\n",
       "    .dataframe tbody tr th:only-of-type {\n",
       "        vertical-align: middle;\n",
       "    }\n",
       "\n",
       "    .dataframe tbody tr th {\n",
       "        vertical-align: top;\n",
       "    }\n",
       "\n",
       "    .dataframe thead th {\n",
       "        text-align: right;\n",
       "    }\n",
       "</style>\n",
       "<table border=\"1\" class=\"dataframe\">\n",
       "  <thead>\n",
       "    <tr style=\"text-align: right;\">\n",
       "      <th></th>\n",
       "      <th>specific.disorder</th>\n",
       "      <th>Alpha</th>\n",
       "      <th>Beta</th>\n",
       "      <th>Delta</th>\n",
       "      <th>Theta</th>\n",
       "    </tr>\n",
       "  </thead>\n",
       "  <tbody>\n",
       "    <tr>\n",
       "      <th>31</th>\n",
       "      <td>Acute stress disorder</td>\n",
       "      <td>38.488424</td>\n",
       "      <td>40.882201</td>\n",
       "      <td>39.141091</td>\n",
       "      <td>45.713918</td>\n",
       "    </tr>\n",
       "    <tr>\n",
       "      <th>32</th>\n",
       "      <td>Acute stress disorder</td>\n",
       "      <td>47.368559</td>\n",
       "      <td>48.817112</td>\n",
       "      <td>56.639885</td>\n",
       "      <td>50.719569</td>\n",
       "    </tr>\n",
       "    <tr>\n",
       "      <th>33</th>\n",
       "      <td>Acute stress disorder</td>\n",
       "      <td>51.872822</td>\n",
       "      <td>22.322245</td>\n",
       "      <td>23.398190</td>\n",
       "      <td>37.223425</td>\n",
       "    </tr>\n",
       "    <tr>\n",
       "      <th>34</th>\n",
       "      <td>Acute stress disorder</td>\n",
       "      <td>36.092599</td>\n",
       "      <td>32.847147</td>\n",
       "      <td>35.471763</td>\n",
       "      <td>43.941132</td>\n",
       "    </tr>\n",
       "    <tr>\n",
       "      <th>35</th>\n",
       "      <td>Acute stress disorder</td>\n",
       "      <td>28.514535</td>\n",
       "      <td>29.422266</td>\n",
       "      <td>33.819716</td>\n",
       "      <td>28.055607</td>\n",
       "    </tr>\n",
       "  </tbody>\n",
       "</table>\n",
       "</div>"
      ],
      "text/plain": [
       "        specific.disorder      Alpha       Beta      Delta      Theta\n",
       "31  Acute stress disorder  38.488424  40.882201  39.141091  45.713918\n",
       "32  Acute stress disorder  47.368559  48.817112  56.639885  50.719569\n",
       "33  Acute stress disorder  51.872822  22.322245  23.398190  37.223425\n",
       "34  Acute stress disorder  36.092599  32.847147  35.471763  43.941132\n",
       "35  Acute stress disorder  28.514535  29.422266  33.819716  28.055607"
      ]
     },
     "execution_count": 3,
     "metadata": {},
     "output_type": "execute_result"
    }
   ],
   "source": [
    "df2 = pd.read_csv('../build_dataset/paper_data.csv')\n",
    "\n",
    "# Initialize a new DataFrame to store the average values\n",
    "paper_df = pd.DataFrame()\n",
    "\n",
    "# Sort\n",
    "df2 = df2[df2['specific.disorder'].isin(['Acute stress disorder', 'Healthy control', 'Depressive disorder'])]\n",
    "\n",
    "paper_df['specific.disorder'] = df2['specific.disorder']\n",
    "\n",
    "# Iterate through each group and compute the average\n",
    "groups = ['alpha', 'beta', 'delta', 'theta']\n",
    "for group in groups:\n",
    "    paper_df[f'{group}'] = compute_average(group, df2)\n",
    "\n",
    "new_column_names = {'alpha': 'Alpha', 'beta': 'Beta', 'theta': 'Theta', 'delta': 'Delta'}\n",
    "paper_df.rename(columns=new_column_names, inplace=True)\n",
    "\n",
    "paper_df.head()"
   ]
  },
  {
   "cell_type": "code",
   "execution_count": 4,
   "metadata": {},
   "outputs": [
    {
     "data": {
      "text/html": [
       "<div>\n",
       "<style scoped>\n",
       "    .dataframe tbody tr th:only-of-type {\n",
       "        vertical-align: middle;\n",
       "    }\n",
       "\n",
       "    .dataframe tbody tr th {\n",
       "        vertical-align: top;\n",
       "    }\n",
       "\n",
       "    .dataframe thead th {\n",
       "        text-align: right;\n",
       "    }\n",
       "</style>\n",
       "<table border=\"1\" class=\"dataframe\">\n",
       "  <thead>\n",
       "    <tr style=\"text-align: right;\">\n",
       "      <th></th>\n",
       "      <th>Delta</th>\n",
       "      <th>Theta</th>\n",
       "      <th>Alpha</th>\n",
       "      <th>Beta</th>\n",
       "      <th>specific.disorder</th>\n",
       "    </tr>\n",
       "  </thead>\n",
       "  <tbody>\n",
       "    <tr>\n",
       "      <th>0</th>\n",
       "      <td>12.245460</td>\n",
       "      <td>8.674308</td>\n",
       "      <td>7.131809</td>\n",
       "      <td>10.013944</td>\n",
       "      <td>happy</td>\n",
       "    </tr>\n",
       "    <tr>\n",
       "      <th>1</th>\n",
       "      <td>18.082690</td>\n",
       "      <td>15.852509</td>\n",
       "      <td>12.739708</td>\n",
       "      <td>14.830145</td>\n",
       "      <td>happy</td>\n",
       "    </tr>\n",
       "    <tr>\n",
       "      <th>2</th>\n",
       "      <td>18.653089</td>\n",
       "      <td>15.062034</td>\n",
       "      <td>11.989570</td>\n",
       "      <td>15.140479</td>\n",
       "      <td>happy</td>\n",
       "    </tr>\n",
       "    <tr>\n",
       "      <th>3</th>\n",
       "      <td>21.838218</td>\n",
       "      <td>17.541182</td>\n",
       "      <td>13.624017</td>\n",
       "      <td>17.053419</td>\n",
       "      <td>happy</td>\n",
       "    </tr>\n",
       "    <tr>\n",
       "      <th>4</th>\n",
       "      <td>22.067904</td>\n",
       "      <td>17.228788</td>\n",
       "      <td>14.240932</td>\n",
       "      <td>17.332920</td>\n",
       "      <td>happy</td>\n",
       "    </tr>\n",
       "  </tbody>\n",
       "</table>\n",
       "</div>"
      ],
      "text/plain": [
       "       Delta      Theta      Alpha       Beta specific.disorder\n",
       "0  12.245460   8.674308   7.131809  10.013944             happy\n",
       "1  18.082690  15.852509  12.739708  14.830145             happy\n",
       "2  18.653089  15.062034  11.989570  15.140479             happy\n",
       "3  21.838218  17.541182  13.624017  17.053419             happy\n",
       "4  22.067904  17.228788  14.240932  17.332920             happy"
      ]
     },
     "execution_count": 4,
     "metadata": {},
     "output_type": "execute_result"
    }
   ],
   "source": [
    "import pandas as pd\n",
    "\n",
    "df1 = pd.read_csv('../build_dataset/mega_preprocessed_data.csv')\n",
    "\n",
    "df = pd.concat([df1, paper_df], axis=0, ignore_index=True)\n",
    "df.head()"
   ]
  },
  {
   "cell_type": "code",
   "execution_count": 6,
   "metadata": {},
   "outputs": [
    {
     "data": {
      "text/plain": [
       "Depressive disorder      199\n",
       "Healthy control           95\n",
       "Acute stress disorder     38\n",
       "happy                      6\n",
       "Name: specific.disorder, dtype: int64"
      ]
     },
     "execution_count": 6,
     "metadata": {},
     "output_type": "execute_result"
    }
   ],
   "source": [
    "df['specific.disorder'].value_counts()"
   ]
  },
  {
   "cell_type": "code",
   "execution_count": 5,
   "metadata": {},
   "outputs": [
    {
     "name": "stdout",
     "output_type": "stream",
     "text": [
      "<class 'pandas.core.frame.DataFrame'>\n",
      "RangeIndex: 338 entries, 0 to 337\n",
      "Data columns (total 5 columns):\n",
      " #   Column             Non-Null Count  Dtype  \n",
      "---  ------             --------------  -----  \n",
      " 0   Delta              338 non-null    float64\n",
      " 1   Theta              338 non-null    float64\n",
      " 2   Alpha              338 non-null    float64\n",
      " 3   Beta               338 non-null    float64\n",
      " 4   specific.disorder  338 non-null    object \n",
      "dtypes: float64(4), object(1)\n",
      "memory usage: 13.3+ KB\n"
     ]
    }
   ],
   "source": [
    "df.info()"
   ]
  },
  {
   "cell_type": "code",
   "execution_count": null,
   "metadata": {},
   "outputs": [],
   "source": []
  }
 ],
 "metadata": {
  "kernelspec": {
   "display_name": "brainwave_project",
   "language": "python",
   "name": "python3"
  },
  "language_info": {
   "codemirror_mode": {
    "name": "ipython",
    "version": 3
   },
   "file_extension": ".py",
   "mimetype": "text/x-python",
   "name": "python",
   "nbconvert_exporter": "python",
   "pygments_lexer": "ipython3",
   "version": "3.10.13"
  }
 },
 "nbformat": 4,
 "nbformat_minor": 2
}
