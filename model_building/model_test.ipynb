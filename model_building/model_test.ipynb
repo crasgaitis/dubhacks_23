{
 "cells": [
  {
   "cell_type": "code",
   "execution_count": 37,
   "metadata": {},
   "outputs": [],
   "source": [
    "import re\n",
    "import numpy as np\n",
    "import pandas as pd"
   ]
  },
  {
   "cell_type": "markdown",
   "metadata": {},
   "source": [
    "### Mega dataset"
   ]
  },
  {
   "cell_type": "code",
   "execution_count": 38,
   "metadata": {},
   "outputs": [],
   "source": [
    "def compute_average(group_name, df):\n",
    "    group_columns = [col for col in df.columns if group_name in col]\n",
    "    return df[group_columns].mean(axis=1)"
   ]
  },
  {
   "cell_type": "code",
   "execution_count": 39,
   "metadata": {},
   "outputs": [
    {
     "data": {
      "text/html": [
       "<div>\n",
       "<style scoped>\n",
       "    .dataframe tbody tr th:only-of-type {\n",
       "        vertical-align: middle;\n",
       "    }\n",
       "\n",
       "    .dataframe tbody tr th {\n",
       "        vertical-align: top;\n",
       "    }\n",
       "\n",
       "    .dataframe thead th {\n",
       "        text-align: right;\n",
       "    }\n",
       "</style>\n",
       "<table border=\"1\" class=\"dataframe\">\n",
       "  <thead>\n",
       "    <tr style=\"text-align: right;\">\n",
       "      <th></th>\n",
       "      <th>specific.disorder</th>\n",
       "      <th>Alpha</th>\n",
       "      <th>Beta</th>\n",
       "      <th>Delta</th>\n",
       "      <th>Theta</th>\n",
       "    </tr>\n",
       "  </thead>\n",
       "  <tbody>\n",
       "    <tr>\n",
       "      <th>31</th>\n",
       "      <td>Acute stress disorder</td>\n",
       "      <td>38.488424</td>\n",
       "      <td>40.882201</td>\n",
       "      <td>39.141091</td>\n",
       "      <td>45.713918</td>\n",
       "    </tr>\n",
       "    <tr>\n",
       "      <th>32</th>\n",
       "      <td>Acute stress disorder</td>\n",
       "      <td>47.368559</td>\n",
       "      <td>48.817112</td>\n",
       "      <td>56.639885</td>\n",
       "      <td>50.719569</td>\n",
       "    </tr>\n",
       "    <tr>\n",
       "      <th>33</th>\n",
       "      <td>Acute stress disorder</td>\n",
       "      <td>51.872822</td>\n",
       "      <td>22.322245</td>\n",
       "      <td>23.398190</td>\n",
       "      <td>37.223425</td>\n",
       "    </tr>\n",
       "    <tr>\n",
       "      <th>34</th>\n",
       "      <td>Acute stress disorder</td>\n",
       "      <td>36.092599</td>\n",
       "      <td>32.847147</td>\n",
       "      <td>35.471763</td>\n",
       "      <td>43.941132</td>\n",
       "    </tr>\n",
       "    <tr>\n",
       "      <th>35</th>\n",
       "      <td>Acute stress disorder</td>\n",
       "      <td>28.514535</td>\n",
       "      <td>29.422266</td>\n",
       "      <td>33.819716</td>\n",
       "      <td>28.055607</td>\n",
       "    </tr>\n",
       "  </tbody>\n",
       "</table>\n",
       "</div>"
      ],
      "text/plain": [
       "        specific.disorder      Alpha       Beta      Delta      Theta\n",
       "31  Acute stress disorder  38.488424  40.882201  39.141091  45.713918\n",
       "32  Acute stress disorder  47.368559  48.817112  56.639885  50.719569\n",
       "33  Acute stress disorder  51.872822  22.322245  23.398190  37.223425\n",
       "34  Acute stress disorder  36.092599  32.847147  35.471763  43.941132\n",
       "35  Acute stress disorder  28.514535  29.422266  33.819716  28.055607"
      ]
     },
     "execution_count": 39,
     "metadata": {},
     "output_type": "execute_result"
    }
   ],
   "source": [
    "df2 = pd.read_csv('../build_dataset/paper_data.csv')\n",
    "\n",
    "paper_df = pd.DataFrame()\n",
    "\n",
    "# Sort\n",
    "df2 = df2[df2['specific.disorder'].isin(['Acute stress disorder', 'Healthy control', 'Depressive disorder'])]\n",
    "\n",
    "paper_df['specific.disorder'] = df2['specific.disorder']\n",
    "\n",
    "groups = ['alpha', 'beta', 'delta', 'theta']\n",
    "for group in groups:\n",
    "    paper_df[f'{group}'] = compute_average(group, df2)\n",
    "\n",
    "new_column_names = {'alpha': 'Alpha', 'beta': 'Beta', 'theta': 'Theta', 'delta': 'Delta'}\n",
    "paper_df.rename(columns=new_column_names, inplace=True)\n",
    "\n",
    "paper_df.head()"
   ]
  },
  {
   "cell_type": "code",
   "execution_count": 40,
   "metadata": {},
   "outputs": [
    {
     "data": {
      "text/html": [
       "<div>\n",
       "<style scoped>\n",
       "    .dataframe tbody tr th:only-of-type {\n",
       "        vertical-align: middle;\n",
       "    }\n",
       "\n",
       "    .dataframe tbody tr th {\n",
       "        vertical-align: top;\n",
       "    }\n",
       "\n",
       "    .dataframe thead th {\n",
       "        text-align: right;\n",
       "    }\n",
       "</style>\n",
       "<table border=\"1\" class=\"dataframe\">\n",
       "  <thead>\n",
       "    <tr style=\"text-align: right;\">\n",
       "      <th></th>\n",
       "      <th>Delta</th>\n",
       "      <th>Theta</th>\n",
       "      <th>Alpha</th>\n",
       "      <th>Beta</th>\n",
       "      <th>specific.disorder</th>\n",
       "    </tr>\n",
       "  </thead>\n",
       "  <tbody>\n",
       "    <tr>\n",
       "      <th>0</th>\n",
       "      <td>12.245460</td>\n",
       "      <td>8.674308</td>\n",
       "      <td>7.131809</td>\n",
       "      <td>10.013944</td>\n",
       "      <td>happy</td>\n",
       "    </tr>\n",
       "    <tr>\n",
       "      <th>1</th>\n",
       "      <td>18.082690</td>\n",
       "      <td>15.852509</td>\n",
       "      <td>12.739708</td>\n",
       "      <td>14.830145</td>\n",
       "      <td>happy</td>\n",
       "    </tr>\n",
       "    <tr>\n",
       "      <th>2</th>\n",
       "      <td>18.653089</td>\n",
       "      <td>15.062034</td>\n",
       "      <td>11.989570</td>\n",
       "      <td>15.140479</td>\n",
       "      <td>happy</td>\n",
       "    </tr>\n",
       "    <tr>\n",
       "      <th>3</th>\n",
       "      <td>21.838218</td>\n",
       "      <td>17.541182</td>\n",
       "      <td>13.624017</td>\n",
       "      <td>17.053419</td>\n",
       "      <td>happy</td>\n",
       "    </tr>\n",
       "    <tr>\n",
       "      <th>4</th>\n",
       "      <td>22.067904</td>\n",
       "      <td>17.228788</td>\n",
       "      <td>14.240932</td>\n",
       "      <td>17.332920</td>\n",
       "      <td>happy</td>\n",
       "    </tr>\n",
       "  </tbody>\n",
       "</table>\n",
       "</div>"
      ],
      "text/plain": [
       "       Delta      Theta      Alpha       Beta specific.disorder\n",
       "0  12.245460   8.674308   7.131809  10.013944             happy\n",
       "1  18.082690  15.852509  12.739708  14.830145             happy\n",
       "2  18.653089  15.062034  11.989570  15.140479             happy\n",
       "3  21.838218  17.541182  13.624017  17.053419             happy\n",
       "4  22.067904  17.228788  14.240932  17.332920             happy"
      ]
     },
     "execution_count": 40,
     "metadata": {},
     "output_type": "execute_result"
    }
   ],
   "source": [
    "import pandas as pd\n",
    "\n",
    "df1 = pd.read_csv('../build_dataset/mega_preprocessed_data.csv')\n",
    "\n",
    "df = pd.concat([df1, paper_df], axis=0, ignore_index=True)\n",
    "df.head()"
   ]
  },
  {
   "cell_type": "code",
   "execution_count": 41,
   "metadata": {},
   "outputs": [
    {
     "data": {
      "text/plain": [
       "Depressive disorder      199\n",
       "Healthy control           95\n",
       "Acute stress disorder     38\n",
       "studious                  14\n",
       "happy                      6\n",
       "Name: specific.disorder, dtype: int64"
      ]
     },
     "execution_count": 41,
     "metadata": {},
     "output_type": "execute_result"
    }
   ],
   "source": [
    "df['specific.disorder'].value_counts()"
   ]
  },
  {
   "cell_type": "code",
   "execution_count": 42,
   "metadata": {},
   "outputs": [
    {
     "name": "stdout",
     "output_type": "stream",
     "text": [
      "<class 'pandas.core.frame.DataFrame'>\n",
      "RangeIndex: 352 entries, 0 to 351\n",
      "Data columns (total 5 columns):\n",
      " #   Column             Non-Null Count  Dtype  \n",
      "---  ------             --------------  -----  \n",
      " 0   Delta              352 non-null    float64\n",
      " 1   Theta              352 non-null    float64\n",
      " 2   Alpha              352 non-null    float64\n",
      " 3   Beta               352 non-null    float64\n",
      " 4   specific.disorder  352 non-null    object \n",
      "dtypes: float64(4), object(1)\n",
      "memory usage: 13.9+ KB\n"
     ]
    }
   ],
   "source": [
    "df.info()"
   ]
  },
  {
   "cell_type": "code",
   "execution_count": 43,
   "metadata": {},
   "outputs": [
    {
     "name": "stdout",
     "output_type": "stream",
     "text": [
      "       Delta      Theta      Alpha       Beta specific.disorder\n",
      "0  12.245460   8.674308   7.131809  10.013944             happy\n",
      "1  18.082690  15.852509  12.739708  14.830145             happy\n",
      "2  18.653089  15.062034  11.989570  15.140479             happy\n",
      "3  21.838218  17.541182  13.624017  17.053419             happy\n",
      "4  22.067904  17.228788  14.240932  17.332920             happy\n"
     ]
    }
   ],
   "source": [
    "print(df.head())"
   ]
  },
  {
   "cell_type": "code",
   "execution_count": 44,
   "metadata": {},
   "outputs": [
    {
     "data": {
      "text/plain": [
       "Depressive disorder      199\n",
       "Healthy control           95\n",
       "Acute stress disorder     38\n",
       "studious                  14\n",
       "happy                      6\n",
       "Name: specific.disorder, dtype: int64"
      ]
     },
     "execution_count": 44,
     "metadata": {},
     "output_type": "execute_result"
    }
   ],
   "source": [
    "df['specific.disorder'].value_counts()"
   ]
  },
  {
   "cell_type": "markdown",
   "metadata": {},
   "source": [
    "### Build model"
   ]
  },
  {
   "cell_type": "code",
   "execution_count": 45,
   "metadata": {},
   "outputs": [
    {
     "name": "stdout",
     "output_type": "stream",
     "text": [
      "Accuracy: 54.93%\n"
     ]
    }
   ],
   "source": [
    "import pandas as pd\n",
    "import xgboost as xgb\n",
    "from sklearn.model_selection import train_test_split\n",
    "from sklearn.preprocessing import LabelEncoder\n",
    "from sklearn.metrics import accuracy_score\n",
    "\n",
    "X = df[['Delta', 'Theta', 'Alpha', 'Beta']]\n",
    "y = df['specific.disorder']\n",
    "\n",
    "label_encoder = LabelEncoder()\n",
    "y = label_encoder.fit_transform(y)\n",
    "\n",
    "X_train, X_test, y_train, y_test = train_test_split(X, y, test_size=0.2, random_state=42)\n",
    "\n",
    "model = xgb.XGBClassifier(objective='multi:softmax')\n",
    "\n",
    "# Train the model\n",
    "model.fit(X_train, y_train)\n",
    "\n",
    "# Make predictions on the test data\n",
    "y_pred = model.predict(X_test)\n",
    "\n",
    "# Evaluate the model\n",
    "accuracy = accuracy_score(y_test, y_pred)\n",
    "print(\"Accuracy: %.2f%%\" % (accuracy * 100))\n"
   ]
  },
  {
   "cell_type": "code",
   "execution_count": 46,
   "metadata": {},
   "outputs": [
    {
     "name": "stdout",
     "output_type": "stream",
     "text": [
      "Label Encoding Mapping:\n",
      "Acute stress disorder -> 0\n",
      "Depressive disorder -> 1\n",
      "Healthy control -> 2\n",
      "happy -> 3\n",
      "studious -> 4\n"
     ]
    }
   ],
   "source": [
    "encoding_mapping = dict(zip(label_encoder.classes_, label_encoder.transform(label_encoder.classes_)))\n",
    "\n",
    "# Print the mapping\n",
    "print(\"Label Encoding Mapping:\")\n",
    "for class_name, encoded_value in encoding_mapping.items():\n",
    "    print(f\"{class_name} -> {encoded_value}\")"
   ]
  },
  {
   "cell_type": "code",
   "execution_count": 47,
   "metadata": {},
   "outputs": [
    {
     "data": {
      "text/plain": [
       "array([1, 1, 1, 1, 2, 2, 1, 1, 1, 1, 1, 2, 1, 1, 1, 2, 2, 2, 1, 1, 2, 1,\n",
       "       1, 2, 1, 2, 2, 4, 1, 2, 1, 1, 1, 2, 1, 2, 1, 1, 1, 1, 2, 1, 2, 2,\n",
       "       3, 1, 2, 1, 1, 1, 1, 1, 3, 1, 1, 1, 1, 1, 1, 1, 1, 2, 1, 1, 1, 1,\n",
       "       1, 1, 1, 2, 1])"
      ]
     },
     "execution_count": 47,
     "metadata": {},
     "output_type": "execute_result"
    }
   ],
   "source": [
    "y_pred"
   ]
  },
  {
   "cell_type": "markdown",
   "metadata": {},
   "source": [
    "#### Optuna"
   ]
  },
  {
   "cell_type": "code",
   "execution_count": 28,
   "metadata": {},
   "outputs": [
    {
     "name": "stderr",
     "output_type": "stream",
     "text": [
      "[I 2023-10-14 14:46:52,180] A new study created in memory with name: no-name-450a8dd6-871f-4cd5-bc37-6ca5db307c86\n",
      "[I 2023-10-14 14:46:52,535] Trial 0 finished with value: 0.5633802816901409 and parameters: {'max_depth': 8, 'learning_rate': 0.0817895288865087, 'n_estimators': 121, 'min_child_weight': 6}. Best is trial 0 with value: 0.5633802816901409.\n",
      "[I 2023-10-14 14:46:52,829] Trial 1 finished with value: 0.4788732394366197 and parameters: {'max_depth': 8, 'learning_rate': 0.019200356360620622, 'n_estimators': 99, 'min_child_weight': 5}. Best is trial 0 with value: 0.5633802816901409.\n",
      "[I 2023-10-14 14:46:52,975] Trial 2 finished with value: 0.49295774647887325 and parameters: {'max_depth': 5, 'learning_rate': 0.010728192709063318, 'n_estimators': 72, 'min_child_weight': 6}. Best is trial 0 with value: 0.5633802816901409.\n",
      "[I 2023-10-14 14:46:53,290] Trial 3 finished with value: 0.4788732394366197 and parameters: {'max_depth': 7, 'learning_rate': 0.08376593388411818, 'n_estimators': 198, 'min_child_weight': 5}. Best is trial 0 with value: 0.5633802816901409.\n",
      "[I 2023-10-14 14:46:53,552] Trial 4 finished with value: 0.5211267605633803 and parameters: {'max_depth': 4, 'learning_rate': 0.12184859247019435, 'n_estimators': 185, 'min_child_weight': 2}. Best is trial 0 with value: 0.5633802816901409.\n",
      "[I 2023-10-14 14:46:53,713] Trial 5 finished with value: 0.5352112676056338 and parameters: {'max_depth': 7, 'learning_rate': 0.2642787303334677, 'n_estimators': 76, 'min_child_weight': 1}. Best is trial 0 with value: 0.5633802816901409.\n",
      "[I 2023-10-14 14:46:53,805] Trial 6 finished with value: 0.4788732394366197 and parameters: {'max_depth': 9, 'learning_rate': 0.06461137567422373, 'n_estimators': 51, 'min_child_weight': 10}. Best is trial 0 with value: 0.5633802816901409.\n",
      "[I 2023-10-14 14:46:54,050] Trial 7 finished with value: 0.5492957746478874 and parameters: {'max_depth': 10, 'learning_rate': 0.11978467962965561, 'n_estimators': 134, 'min_child_weight': 3}. Best is trial 0 with value: 0.5633802816901409.\n",
      "[I 2023-10-14 14:46:54,179] Trial 8 finished with value: 0.49295774647887325 and parameters: {'max_depth': 8, 'learning_rate': 0.26216843348817226, 'n_estimators': 76, 'min_child_weight': 9}. Best is trial 0 with value: 0.5633802816901409.\n",
      "[I 2023-10-14 14:46:54,390] Trial 9 finished with value: 0.5070422535211268 and parameters: {'max_depth': 6, 'learning_rate': 0.1562601216209764, 'n_estimators': 140, 'min_child_weight': 6}. Best is trial 0 with value: 0.5633802816901409.\n",
      "[I 2023-10-14 14:46:54,645] Trial 10 finished with value: 0.5492957746478874 and parameters: {'max_depth': 3, 'learning_rate': 0.18667023348060108, 'n_estimators': 160, 'min_child_weight': 8}. Best is trial 0 with value: 0.5633802816901409.\n",
      "[I 2023-10-14 14:46:54,934] Trial 11 finished with value: 0.5352112676056338 and parameters: {'max_depth': 10, 'learning_rate': 0.10761653966653419, 'n_estimators': 123, 'min_child_weight': 3}. Best is trial 0 with value: 0.5633802816901409.\n",
      "[I 2023-10-14 14:46:55,184] Trial 12 finished with value: 0.5492957746478874 and parameters: {'max_depth': 10, 'learning_rate': 0.16000403955375103, 'n_estimators': 121, 'min_child_weight': 3}. Best is trial 0 with value: 0.5633802816901409.\n",
      "[I 2023-10-14 14:46:55,450] Trial 13 finished with value: 0.4788732394366197 and parameters: {'max_depth': 9, 'learning_rate': 0.05719137372892559, 'n_estimators': 141, 'min_child_weight': 4}. Best is trial 0 with value: 0.5633802816901409.\n",
      "[I 2023-10-14 14:46:55,647] Trial 14 finished with value: 0.5070422535211268 and parameters: {'max_depth': 9, 'learning_rate': 0.11633833946080803, 'n_estimators': 101, 'min_child_weight': 7}. Best is trial 0 with value: 0.5633802816901409.\n",
      "[I 2023-10-14 14:46:55,915] Trial 15 finished with value: 0.4647887323943662 and parameters: {'max_depth': 10, 'learning_rate': 0.19429999871677334, 'n_estimators': 156, 'min_child_weight': 4}. Best is trial 0 with value: 0.5633802816901409.\n",
      "[I 2023-10-14 14:46:56,269] Trial 16 finished with value: 0.5492957746478874 and parameters: {'max_depth': 8, 'learning_rate': 0.08869636803028166, 'n_estimators': 173, 'min_child_weight': 1}. Best is trial 0 with value: 0.5633802816901409.\n",
      "[I 2023-10-14 14:46:56,518] Trial 17 finished with value: 0.49295774647887325 and parameters: {'max_depth': 6, 'learning_rate': 0.05666384568282721, 'n_estimators': 106, 'min_child_weight': 7}. Best is trial 0 with value: 0.5633802816901409.\n",
      "[I 2023-10-14 14:46:56,820] Trial 18 finished with value: 0.5633802816901409 and parameters: {'max_depth': 9, 'learning_rate': 0.12547226290666608, 'n_estimators': 143, 'min_child_weight': 3}. Best is trial 0 with value: 0.5633802816901409.\n",
      "[I 2023-10-14 14:46:57,090] Trial 19 finished with value: 0.4788732394366197 and parameters: {'max_depth': 8, 'learning_rate': 0.1327653976659717, 'n_estimators': 157, 'min_child_weight': 4}. Best is trial 0 with value: 0.5633802816901409.\n",
      "[I 2023-10-14 14:46:57,295] Trial 20 finished with value: 0.5070422535211268 and parameters: {'max_depth': 7, 'learning_rate': 0.038343721090291966, 'n_estimators': 114, 'min_child_weight': 7}. Best is trial 0 with value: 0.5633802816901409.\n",
      "[I 2023-10-14 14:46:57,578] Trial 21 finished with value: 0.5352112676056338 and parameters: {'max_depth': 9, 'learning_rate': 0.09244440957846381, 'n_estimators': 141, 'min_child_weight': 3}. Best is trial 0 with value: 0.5633802816901409.\n",
      "[I 2023-10-14 14:46:57,862] Trial 22 finished with value: 0.4788732394366197 and parameters: {'max_depth': 10, 'learning_rate': 0.13944919741272885, 'n_estimators': 134, 'min_child_weight': 2}. Best is trial 0 with value: 0.5633802816901409.\n",
      "[I 2023-10-14 14:46:58,140] Trial 23 finished with value: 0.5352112676056338 and parameters: {'max_depth': 9, 'learning_rate': 0.09635928609712313, 'n_estimators': 129, 'min_child_weight': 2}. Best is trial 0 with value: 0.5633802816901409.\n",
      "[I 2023-10-14 14:46:58,376] Trial 24 finished with value: 0.4647887323943662 and parameters: {'max_depth': 8, 'learning_rate': 0.06739097832012649, 'n_estimators': 92, 'min_child_weight': 5}. Best is trial 0 with value: 0.5633802816901409.\n",
      "[I 2023-10-14 14:46:58,770] Trial 25 finished with value: 0.4788732394366197 and parameters: {'max_depth': 10, 'learning_rate': 0.11706055115450478, 'n_estimators': 152, 'min_child_weight': 4}. Best is trial 0 with value: 0.5633802816901409.\n",
      "[I 2023-10-14 14:46:58,993] Trial 26 finished with value: 0.5070422535211268 and parameters: {'max_depth': 9, 'learning_rate': 0.1411561546612181, 'n_estimators': 113, 'min_child_weight': 6}. Best is trial 0 with value: 0.5633802816901409.\n",
      "[I 2023-10-14 14:46:59,148] Trial 27 finished with value: 0.5633802816901409 and parameters: {'max_depth': 7, 'learning_rate': 0.07729691006113872, 'n_estimators': 88, 'min_child_weight': 3}. Best is trial 0 with value: 0.5633802816901409.\n",
      "[I 2023-10-14 14:46:59,307] Trial 28 finished with value: 0.4788732394366197 and parameters: {'max_depth': 6, 'learning_rate': 0.0782537469987943, 'n_estimators': 89, 'min_child_weight': 2}. Best is trial 0 with value: 0.5633802816901409.\n",
      "[I 2023-10-14 14:46:59,415] Trial 29 finished with value: 0.4788732394366197 and parameters: {'max_depth': 5, 'learning_rate': 0.03084685727666764, 'n_estimators': 52, 'min_child_weight': 5}. Best is trial 0 with value: 0.5633802816901409.\n",
      "[I 2023-10-14 14:46:59,590] Trial 30 finished with value: 0.5774647887323944 and parameters: {'max_depth': 7, 'learning_rate': 0.029592243618975854, 'n_estimators': 91, 'min_child_weight': 1}. Best is trial 30 with value: 0.5774647887323944.\n",
      "[I 2023-10-14 14:46:59,745] Trial 31 finished with value: 0.5774647887323944 and parameters: {'max_depth': 7, 'learning_rate': 0.03983902077230846, 'n_estimators': 87, 'min_child_weight': 1}. Best is trial 30 with value: 0.5774647887323944.\n",
      "[I 2023-10-14 14:46:59,900] Trial 32 finished with value: 0.49295774647887325 and parameters: {'max_depth': 8, 'learning_rate': 0.01680665030972145, 'n_estimators': 69, 'min_child_weight': 1}. Best is trial 30 with value: 0.5774647887323944.\n",
      "[I 2023-10-14 14:47:00,081] Trial 33 finished with value: 0.5915492957746479 and parameters: {'max_depth': 7, 'learning_rate': 0.040338409359276746, 'n_estimators': 63, 'min_child_weight': 1}. Best is trial 33 with value: 0.5915492957746479.\n",
      "[I 2023-10-14 14:47:00,250] Trial 34 finished with value: 0.5352112676056338 and parameters: {'max_depth': 5, 'learning_rate': 0.0379948662124654, 'n_estimators': 65, 'min_child_weight': 1}. Best is trial 33 with value: 0.5915492957746479.\n",
      "[I 2023-10-14 14:47:00,467] Trial 35 finished with value: 0.5492957746478874 and parameters: {'max_depth': 7, 'learning_rate': 0.01408275459863511, 'n_estimators': 63, 'min_child_weight': 1}. Best is trial 33 with value: 0.5915492957746479.\n",
      "[I 2023-10-14 14:47:00,660] Trial 36 finished with value: 0.5352112676056338 and parameters: {'max_depth': 6, 'learning_rate': 0.04057605819644694, 'n_estimators': 84, 'min_child_weight': 2}. Best is trial 33 with value: 0.5915492957746479.\n",
      "[I 2023-10-14 14:47:00,860] Trial 37 finished with value: 0.5633802816901409 and parameters: {'max_depth': 7, 'learning_rate': 0.012083070684058485, 'n_estimators': 80, 'min_child_weight': 1}. Best is trial 33 with value: 0.5915492957746479.\n",
      "[I 2023-10-14 14:47:01,028] Trial 38 finished with value: 0.5070422535211268 and parameters: {'max_depth': 7, 'learning_rate': 0.0498637252157609, 'n_estimators': 97, 'min_child_weight': 2}. Best is trial 33 with value: 0.5915492957746479.\n",
      "[I 2023-10-14 14:47:01,179] Trial 39 finished with value: 0.49295774647887325 and parameters: {'max_depth': 8, 'learning_rate': 0.029185944219163838, 'n_estimators': 107, 'min_child_weight': 8}. Best is trial 33 with value: 0.5915492957746479.\n",
      "[I 2023-10-14 14:47:01,275] Trial 40 finished with value: 0.5070422535211268 and parameters: {'max_depth': 6, 'learning_rate': 0.025991412241948408, 'n_estimators': 54, 'min_child_weight': 5}. Best is trial 33 with value: 0.5915492957746479.\n",
      "[I 2023-10-14 14:47:01,415] Trial 41 finished with value: 0.5633802816901409 and parameters: {'max_depth': 7, 'learning_rate': 0.04777078949818804, 'n_estimators': 74, 'min_child_weight': 1}. Best is trial 33 with value: 0.5915492957746479.\n",
      "[I 2023-10-14 14:47:01,531] Trial 42 finished with value: 0.5352112676056338 and parameters: {'max_depth': 8, 'learning_rate': 0.06550668158763383, 'n_estimators': 58, 'min_child_weight': 6}. Best is trial 33 with value: 0.5915492957746479.\n",
      "[I 2023-10-14 14:47:01,820] Trial 43 finished with value: 0.5211267605633803 and parameters: {'max_depth': 7, 'learning_rate': 0.07078968525978764, 'n_estimators': 196, 'min_child_weight': 2}. Best is trial 33 with value: 0.5915492957746479.\n",
      "[I 2023-10-14 14:47:02,097] Trial 44 finished with value: 0.5633802816901409 and parameters: {'max_depth': 8, 'learning_rate': 0.050924676049299136, 'n_estimators': 149, 'min_child_weight': 1}. Best is trial 33 with value: 0.5915492957746479.\n",
      "[I 2023-10-14 14:47:02,365] Trial 45 finished with value: 0.49295774647887325 and parameters: {'max_depth': 6, 'learning_rate': 0.03012447413666177, 'n_estimators': 170, 'min_child_weight': 2}. Best is trial 33 with value: 0.5915492957746479.\n",
      "[I 2023-10-14 14:47:02,640] Trial 46 finished with value: 0.5352112676056338 and parameters: {'max_depth': 9, 'learning_rate': 0.10215523099191667, 'n_estimators': 116, 'min_child_weight': 3}. Best is trial 33 with value: 0.5915492957746479.\n",
      "[I 2023-10-14 14:47:02,818] Trial 47 finished with value: 0.5070422535211268 and parameters: {'max_depth': 4, 'learning_rate': 0.08431258332269873, 'n_estimators': 98, 'min_child_weight': 10}. Best is trial 33 with value: 0.5915492957746479.\n",
      "[I 2023-10-14 14:47:02,985] Trial 48 finished with value: 0.5774647887323944 and parameters: {'max_depth': 7, 'learning_rate': 0.05506087579679, 'n_estimators': 80, 'min_child_weight': 1}. Best is trial 33 with value: 0.5915492957746479.\n",
      "[I 2023-10-14 14:47:03,148] Trial 49 finished with value: 0.5774647887323944 and parameters: {'max_depth': 7, 'learning_rate': 0.055388036018384046, 'n_estimators': 79, 'min_child_weight': 1}. Best is trial 33 with value: 0.5915492957746479.\n",
      "[I 2023-10-14 14:47:03,295] Trial 50 finished with value: 0.5492957746478874 and parameters: {'max_depth': 6, 'learning_rate': 0.059121344267145166, 'n_estimators': 80, 'min_child_weight': 1}. Best is trial 33 with value: 0.5915492957746479.\n",
      "[I 2023-10-14 14:47:03,435] Trial 51 finished with value: 0.5633802816901409 and parameters: {'max_depth': 7, 'learning_rate': 0.043947129663448166, 'n_estimators': 70, 'min_child_weight': 1}. Best is trial 33 with value: 0.5915492957746479.\n",
      "[I 2023-10-14 14:47:03,585] Trial 52 finished with value: 0.5492957746478874 and parameters: {'max_depth': 7, 'learning_rate': 0.02122584283645116, 'n_estimators': 81, 'min_child_weight': 2}. Best is trial 33 with value: 0.5915492957746479.\n",
      "[I 2023-10-14 14:47:03,765] Trial 53 finished with value: 0.5352112676056338 and parameters: {'max_depth': 8, 'learning_rate': 0.0593453474734196, 'n_estimators': 93, 'min_child_weight': 1}. Best is trial 33 with value: 0.5915492957746479.\n",
      "[I 2023-10-14 14:47:03,875] Trial 54 finished with value: 0.5352112676056338 and parameters: {'max_depth': 5, 'learning_rate': 0.03753678232064032, 'n_estimators': 59, 'min_child_weight': 1}. Best is trial 33 with value: 0.5915492957746479.\n",
      "[I 2023-10-14 14:47:04,050] Trial 55 finished with value: 0.5352112676056338 and parameters: {'max_depth': 7, 'learning_rate': 0.07428364032314047, 'n_estimators': 104, 'min_child_weight': 2}. Best is trial 33 with value: 0.5915492957746479.\n",
      "[I 2023-10-14 14:47:04,196] Trial 56 finished with value: 0.5070422535211268 and parameters: {'max_depth': 8, 'learning_rate': 0.05263231665124742, 'n_estimators': 74, 'min_child_weight': 2}. Best is trial 33 with value: 0.5915492957746479.\n",
      "[I 2023-10-14 14:47:04,329] Trial 57 finished with value: 0.5070422535211268 and parameters: {'max_depth': 6, 'learning_rate': 0.06673558964349806, 'n_estimators': 86, 'min_child_weight': 8}. Best is trial 33 with value: 0.5915492957746479.\n",
      "[I 2023-10-14 14:47:04,477] Trial 58 finished with value: 0.5211267605633803 and parameters: {'max_depth': 7, 'learning_rate': 0.023938774821473566, 'n_estimators': 66, 'min_child_weight': 6}. Best is trial 33 with value: 0.5915492957746479.\n",
      "[I 2023-10-14 14:47:04,715] Trial 59 finished with value: 0.5633802816901409 and parameters: {'max_depth': 7, 'learning_rate': 0.011163499459308751, 'n_estimators': 95, 'min_child_weight': 1}. Best is trial 33 with value: 0.5915492957746479.\n",
      "[I 2023-10-14 14:47:04,890] Trial 60 finished with value: 0.49295774647887325 and parameters: {'max_depth': 8, 'learning_rate': 0.043650814752208125, 'n_estimators': 78, 'min_child_weight': 7}. Best is trial 33 with value: 0.5915492957746479.\n",
      "[I 2023-10-14 14:47:05,100] Trial 61 finished with value: 0.4507042253521127 and parameters: {'max_depth': 9, 'learning_rate': 0.09156842346970089, 'n_estimators': 132, 'min_child_weight': 4}. Best is trial 33 with value: 0.5915492957746479.\n",
      "[I 2023-10-14 14:47:05,350] Trial 62 finished with value: 0.5211267605633803 and parameters: {'max_depth': 7, 'learning_rate': 0.07973353350171386, 'n_estimators': 166, 'min_child_weight': 3}. Best is trial 33 with value: 0.5915492957746479.\n",
      "[I 2023-10-14 14:47:05,580] Trial 63 finished with value: 0.5211267605633803 and parameters: {'max_depth': 8, 'learning_rate': 0.06529643899556413, 'n_estimators': 127, 'min_child_weight': 2}. Best is trial 33 with value: 0.5915492957746479.\n",
      "[I 2023-10-14 14:47:05,760] Trial 64 finished with value: 0.5492957746478874 and parameters: {'max_depth': 6, 'learning_rate': 0.10416173385327548, 'n_estimators': 119, 'min_child_weight': 3}. Best is trial 33 with value: 0.5915492957746479.\n",
      "[I 2023-10-14 14:47:06,035] Trial 65 finished with value: 0.5070422535211268 and parameters: {'max_depth': 9, 'learning_rate': 0.05420927773904186, 'n_estimators': 145, 'min_child_weight': 1}. Best is trial 33 with value: 0.5915492957746479.\n",
      "[I 2023-10-14 14:47:06,220] Trial 66 finished with value: 0.5492957746478874 and parameters: {'max_depth': 7, 'learning_rate': 0.08524655330779055, 'n_estimators': 108, 'min_child_weight': 1}. Best is trial 33 with value: 0.5915492957746479.\n",
      "[I 2023-10-14 14:47:06,415] Trial 67 finished with value: 0.5070422535211268 and parameters: {'max_depth': 8, 'learning_rate': 0.032824446996627774, 'n_estimators': 85, 'min_child_weight': 2}. Best is trial 33 with value: 0.5915492957746479.\n",
      "[I 2023-10-14 14:47:06,690] Trial 68 finished with value: 0.5070422535211268 and parameters: {'max_depth': 8, 'learning_rate': 0.020958729211402086, 'n_estimators': 101, 'min_child_weight': 1}. Best is trial 33 with value: 0.5915492957746479.\n",
      "[I 2023-10-14 14:47:06,934] Trial 69 finished with value: 0.5211267605633803 and parameters: {'max_depth': 6, 'learning_rate': 0.04061490825094157, 'n_estimators': 138, 'min_child_weight': 7}. Best is trial 33 with value: 0.5915492957746479.\n",
      "[I 2023-10-14 14:47:07,057] Trial 70 finished with value: 0.5211267605633803 and parameters: {'max_depth': 7, 'learning_rate': 0.07380343661884509, 'n_estimators': 61, 'min_child_weight': 3}. Best is trial 33 with value: 0.5915492957746479.\n",
      "[I 2023-10-14 14:47:07,197] Trial 71 finished with value: 0.5492957746478874 and parameters: {'max_depth': 7, 'learning_rate': 0.08137634905395494, 'n_estimators': 91, 'min_child_weight': 6}. Best is trial 33 with value: 0.5915492957746479.\n",
      "[I 2023-10-14 14:47:07,355] Trial 72 finished with value: 0.5352112676056338 and parameters: {'max_depth': 7, 'learning_rate': 0.056795740608780926, 'n_estimators': 88, 'min_child_weight': 5}. Best is trial 33 with value: 0.5915492957746479.\n",
      "[I 2023-10-14 14:47:07,485] Trial 73 finished with value: 0.5492957746478874 and parameters: {'max_depth': 7, 'learning_rate': 0.09674142874099051, 'n_estimators': 71, 'min_child_weight': 3}. Best is trial 33 with value: 0.5915492957746479.\n",
      "[I 2023-10-14 14:47:07,678] Trial 74 finished with value: 0.5774647887323944 and parameters: {'max_depth': 6, 'learning_rate': 0.04540173537603272, 'n_estimators': 110, 'min_child_weight': 4}. Best is trial 33 with value: 0.5915492957746479.\n",
      "[I 2023-10-14 14:47:07,908] Trial 75 finished with value: 0.5352112676056338 and parameters: {'max_depth': 6, 'learning_rate': 0.0483461991002303, 'n_estimators': 110, 'min_child_weight': 4}. Best is trial 33 with value: 0.5915492957746479.\n",
      "[I 2023-10-14 14:47:08,109] Trial 76 finished with value: 0.5492957746478874 and parameters: {'max_depth': 6, 'learning_rate': 0.036283924386774746, 'n_estimators': 123, 'min_child_weight': 4}. Best is trial 33 with value: 0.5915492957746479.\n",
      "[I 2023-10-14 14:47:08,248] Trial 77 finished with value: 0.5352112676056338 and parameters: {'max_depth': 5, 'learning_rate': 0.032457245061194656, 'n_estimators': 67, 'min_child_weight': 1}. Best is trial 33 with value: 0.5915492957746479.\n",
      "[I 2023-10-14 14:47:08,461] Trial 78 finished with value: 0.4788732394366197 and parameters: {'max_depth': 8, 'learning_rate': 0.060800626290147305, 'n_estimators': 117, 'min_child_weight': 5}. Best is trial 33 with value: 0.5915492957746479.\n",
      "[I 2023-10-14 14:47:08,600] Trial 79 finished with value: 0.49295774647887325 and parameters: {'max_depth': 3, 'learning_rate': 0.025927392248345588, 'n_estimators': 77, 'min_child_weight': 2}. Best is trial 33 with value: 0.5915492957746479.\n",
      "[I 2023-10-14 14:47:08,845] Trial 80 finished with value: 0.5070422535211268 and parameters: {'max_depth': 9, 'learning_rate': 0.04629863804354095, 'n_estimators': 83, 'min_child_weight': 2}. Best is trial 33 with value: 0.5915492957746479.\n",
      "[I 2023-10-14 14:47:09,074] Trial 81 finished with value: 0.5070422535211268 and parameters: {'max_depth': 7, 'learning_rate': 0.07055560354878361, 'n_estimators': 103, 'min_child_weight': 4}. Best is trial 33 with value: 0.5915492957746479.\n",
      "[I 2023-10-14 14:47:09,265] Trial 82 finished with value: 0.5211267605633803 and parameters: {'max_depth': 7, 'learning_rate': 0.11161761031183579, 'n_estimators': 112, 'min_child_weight': 3}. Best is trial 33 with value: 0.5915492957746479.\n",
      "[I 2023-10-14 14:47:09,445] Trial 83 finished with value: 0.5492957746478874 and parameters: {'max_depth': 6, 'learning_rate': 0.05318964887922573, 'n_estimators': 90, 'min_child_weight': 1}. Best is trial 33 with value: 0.5915492957746479.\n",
      "[I 2023-10-14 14:47:09,641] Trial 84 finished with value: 0.5492957746478874 and parameters: {'max_depth': 6, 'learning_rate': 0.062205559582593314, 'n_estimators': 96, 'min_child_weight': 1}. Best is trial 33 with value: 0.5915492957746479.\n",
      "[I 2023-10-14 14:47:09,770] Trial 85 finished with value: 0.5211267605633803 and parameters: {'max_depth': 7, 'learning_rate': 0.07722888809770945, 'n_estimators': 56, 'min_child_weight': 3}. Best is trial 33 with value: 0.5915492957746479.\n",
      "[I 2023-10-14 14:47:09,948] Trial 86 finished with value: 0.5352112676056338 and parameters: {'max_depth': 10, 'learning_rate': 0.04418328023505608, 'n_estimators': 74, 'min_child_weight': 2}. Best is trial 33 with value: 0.5915492957746479.\n",
      "[I 2023-10-14 14:47:10,100] Trial 87 finished with value: 0.5211267605633803 and parameters: {'max_depth': 7, 'learning_rate': 0.0887418201670909, 'n_estimators': 82, 'min_child_weight': 6}. Best is trial 33 with value: 0.5915492957746479.\n",
      "[I 2023-10-14 14:47:10,215] Trial 88 finished with value: 0.49295774647887325 and parameters: {'max_depth': 7, 'learning_rate': 0.01706456324368273, 'n_estimators': 50, 'min_child_weight': 5}. Best is trial 33 with value: 0.5915492957746479.\n",
      "[I 2023-10-14 14:47:10,415] Trial 89 finished with value: 0.5352112676056338 and parameters: {'max_depth': 8, 'learning_rate': 0.0370374114241393, 'n_estimators': 77, 'min_child_weight': 1}. Best is trial 33 with value: 0.5915492957746479.\n",
      "[I 2023-10-14 14:47:10,695] Trial 90 finished with value: 0.5352112676056338 and parameters: {'max_depth': 6, 'learning_rate': 0.06438483436626205, 'n_estimators': 130, 'min_child_weight': 2}. Best is trial 33 with value: 0.5915492957746479.\n",
      "[I 2023-10-14 14:47:10,959] Trial 91 finished with value: 0.5633802816901409 and parameters: {'max_depth': 7, 'learning_rate': 0.01122000861594398, 'n_estimators': 89, 'min_child_weight': 1}. Best is trial 33 with value: 0.5915492957746479.\n",
      "[I 2023-10-14 14:47:11,250] Trial 92 finished with value: 0.5915492957746479 and parameters: {'max_depth': 7, 'learning_rate': 0.01963260042614251, 'n_estimators': 136, 'min_child_weight': 1}. Best is trial 33 with value: 0.5915492957746479.\n",
      "[I 2023-10-14 14:47:11,515] Trial 93 finished with value: 0.5492957746478874 and parameters: {'max_depth': 7, 'learning_rate': 0.02906114264820007, 'n_estimators': 135, 'min_child_weight': 1}. Best is trial 33 with value: 0.5915492957746479.\n",
      "[I 2023-10-14 14:47:11,805] Trial 94 finished with value: 0.5774647887323944 and parameters: {'max_depth': 7, 'learning_rate': 0.020513118559554136, 'n_estimators': 145, 'min_child_weight': 1}. Best is trial 33 with value: 0.5915492957746479.\n",
      "[I 2023-10-14 14:47:12,200] Trial 95 finished with value: 0.5352112676056338 and parameters: {'max_depth': 8, 'learning_rate': 0.021049272906298135, 'n_estimators': 150, 'min_child_weight': 1}. Best is trial 33 with value: 0.5915492957746479.\n",
      "[I 2023-10-14 14:47:12,485] Trial 96 finished with value: 0.5352112676056338 and parameters: {'max_depth': 7, 'learning_rate': 0.033865259245730334, 'n_estimators': 145, 'min_child_weight': 1}. Best is trial 33 with value: 0.5915492957746479.\n",
      "[I 2023-10-14 14:47:12,857] Trial 97 finished with value: 0.5352112676056338 and parameters: {'max_depth': 8, 'learning_rate': 0.026324827497251714, 'n_estimators': 141, 'min_child_weight': 1}. Best is trial 33 with value: 0.5915492957746479.\n",
      "[I 2023-10-14 14:47:13,208] Trial 98 finished with value: 0.5352112676056338 and parameters: {'max_depth': 6, 'learning_rate': 0.016174176987664463, 'n_estimators': 158, 'min_child_weight': 2}. Best is trial 33 with value: 0.5915492957746479.\n",
      "[I 2023-10-14 14:47:13,535] Trial 99 finished with value: 0.5774647887323944 and parameters: {'max_depth': 7, 'learning_rate': 0.0410904381424519, 'n_estimators': 145, 'min_child_weight': 1}. Best is trial 33 with value: 0.5915492957746479.\n"
     ]
    },
    {
     "name": "stdout",
     "output_type": "stream",
     "text": [
      "Best Hyperparameters: {'max_depth': 7, 'learning_rate': 0.040338409359276746, 'n_estimators': 63, 'min_child_weight': 1}\n",
      "Best Accuracy: 59.15%\n"
     ]
    }
   ],
   "source": [
    "import optuna\n",
    "\n",
    "def objective(trial):\n",
    "    params = {\n",
    "        'objective': 'multi:softmax',\n",
    "        'max_depth': trial.suggest_int('max_depth', 3, 10),\n",
    "        'learning_rate': trial.suggest_float('learning_rate', 0.01, 0.3),\n",
    "        'n_estimators': trial.suggest_int('n_estimators', 50, 200),\n",
    "        'min_child_weight': trial.suggest_int('min_child_weight', 1, 10),\n",
    "    }\n",
    "\n",
    "    model = xgb.XGBClassifier(**params)\n",
    "    model.fit(X_train, y_train)\n",
    "    y_pred = model.predict(X_test)\n",
    "    accuracy = accuracy_score(y_test, y_pred)\n",
    "    return accuracy\n",
    "\n",
    "study = optuna.create_study(direction='maximize')\n",
    "study.optimize(objective, n_trials=100)\n",
    "best_params = study.best_params\n",
    "best_accuracy = study.best_value\n",
    "print(\"Best Hyperparameters:\", best_params)\n",
    "print(\"Best Accuracy: %.2f%%\" % (best_accuracy * 100))\n"
   ]
  },
  {
   "cell_type": "code",
   "execution_count": 29,
   "metadata": {},
   "outputs": [
    {
     "name": "stdout",
     "output_type": "stream",
     "text": [
      "Best Hyperparameters: {'max_depth': 7, 'learning_rate': 0.040338409359276746, 'n_estimators': 63, 'min_child_weight': 1}\n",
      "Best Accuracy: 59.15%\n"
     ]
    }
   ],
   "source": [
    "best_params = study.best_params\n",
    "best_accuracy = study.best_value\n",
    "print(\"Best Hyperparameters:\", best_params)\n",
    "print(\"Best Accuracy: %.2f%%\" % (best_accuracy * 100))"
   ]
  },
  {
   "cell_type": "code",
   "execution_count": 30,
   "metadata": {},
   "outputs": [
    {
     "data": {
      "application/vnd.plotly.v1+json": {
       "config": {
        "plotlyServerURL": "https://plot.ly"
       },
       "data": [
        {
         "marker": {
          "color": [
           0,
           1,
           2,
           3,
           4,
           5,
           6,
           7,
           8,
           9,
           10,
           11,
           12,
           13,
           14,
           15,
           16,
           17,
           18,
           19,
           20,
           21,
           22,
           23,
           24,
           25,
           26,
           27,
           28,
           29,
           30,
           31,
           32,
           33,
           34,
           35,
           36,
           37,
           38,
           39,
           40,
           41,
           42,
           43,
           44,
           45,
           46,
           47,
           48,
           49,
           50,
           51,
           52,
           53,
           54,
           55,
           56,
           57,
           58,
           59,
           60,
           61,
           62,
           63,
           64,
           65,
           66,
           67,
           68,
           69,
           70,
           71,
           72,
           73,
           74,
           75,
           76,
           77,
           78,
           79,
           80,
           81,
           82,
           83,
           84,
           85,
           86,
           87,
           88,
           89,
           90,
           91,
           92,
           93,
           94,
           95,
           96,
           97,
           98,
           99
          ],
          "colorbar": {
           "title": {
            "text": "Trial"
           },
           "x": 1,
           "xpad": 40
          },
          "colorscale": [
           [
            0,
            "rgb(247,251,255)"
           ],
           [
            0.125,
            "rgb(222,235,247)"
           ],
           [
            0.25,
            "rgb(198,219,239)"
           ],
           [
            0.375,
            "rgb(158,202,225)"
           ],
           [
            0.5,
            "rgb(107,174,214)"
           ],
           [
            0.625,
            "rgb(66,146,198)"
           ],
           [
            0.75,
            "rgb(33,113,181)"
           ],
           [
            0.875,
            "rgb(8,81,156)"
           ],
           [
            1,
            "rgb(8,48,107)"
           ]
          ],
          "line": {
           "color": "Grey",
           "width": 0.5
          },
          "showscale": true
         },
         "mode": "markers",
         "showlegend": false,
         "type": "scatter",
         "x": [
          0.0817895288865087,
          0.019200356360620622,
          0.010728192709063318,
          0.08376593388411818,
          0.12184859247019435,
          0.2642787303334677,
          0.06461137567422373,
          0.11978467962965561,
          0.26216843348817226,
          0.1562601216209764,
          0.18667023348060108,
          0.10761653966653419,
          0.16000403955375103,
          0.05719137372892559,
          0.11633833946080803,
          0.19429999871677334,
          0.08869636803028166,
          0.05666384568282721,
          0.12547226290666608,
          0.1327653976659717,
          0.038343721090291966,
          0.09244440957846381,
          0.13944919741272885,
          0.09635928609712313,
          0.06739097832012649,
          0.11706055115450478,
          0.1411561546612181,
          0.07729691006113872,
          0.0782537469987943,
          0.03084685727666764,
          0.029592243618975854,
          0.03983902077230846,
          0.01680665030972145,
          0.040338409359276746,
          0.0379948662124654,
          0.01408275459863511,
          0.04057605819644694,
          0.012083070684058485,
          0.0498637252157609,
          0.029185944219163838,
          0.025991412241948408,
          0.04777078949818804,
          0.06550668158763383,
          0.07078968525978764,
          0.050924676049299136,
          0.03012447413666177,
          0.10215523099191667,
          0.08431258332269873,
          0.05506087579679,
          0.055388036018384046,
          0.059121344267145166,
          0.043947129663448166,
          0.02122584283645116,
          0.0593453474734196,
          0.03753678232064032,
          0.07428364032314047,
          0.05263231665124742,
          0.06673558964349806,
          0.023938774821473566,
          0.011163499459308751,
          0.043650814752208125,
          0.09156842346970089,
          0.07973353350171386,
          0.06529643899556413,
          0.10416173385327548,
          0.05420927773904186,
          0.08524655330779055,
          0.032824446996627774,
          0.020958729211402086,
          0.04061490825094157,
          0.07380343661884509,
          0.08137634905395494,
          0.056795740608780926,
          0.09674142874099051,
          0.04540173537603272,
          0.0483461991002303,
          0.036283924386774746,
          0.032457245061194656,
          0.060800626290147305,
          0.025927392248345588,
          0.04629863804354095,
          0.07055560354878361,
          0.11161761031183579,
          0.05318964887922573,
          0.062205559582593314,
          0.07722888809770945,
          0.04418328023505608,
          0.0887418201670909,
          0.01706456324368273,
          0.0370374114241393,
          0.06438483436626205,
          0.01122000861594398,
          0.01963260042614251,
          0.02906114264820007,
          0.020513118559554136,
          0.021049272906298135,
          0.033865259245730334,
          0.026324827497251714,
          0.016174176987664463,
          0.0410904381424519
         ],
         "xaxis": "x",
         "y": [
          0.5633802816901409,
          0.4788732394366197,
          0.49295774647887325,
          0.4788732394366197,
          0.5211267605633803,
          0.5352112676056338,
          0.4788732394366197,
          0.5492957746478874,
          0.49295774647887325,
          0.5070422535211268,
          0.5492957746478874,
          0.5352112676056338,
          0.5492957746478874,
          0.4788732394366197,
          0.5070422535211268,
          0.4647887323943662,
          0.5492957746478874,
          0.49295774647887325,
          0.5633802816901409,
          0.4788732394366197,
          0.5070422535211268,
          0.5352112676056338,
          0.4788732394366197,
          0.5352112676056338,
          0.4647887323943662,
          0.4788732394366197,
          0.5070422535211268,
          0.5633802816901409,
          0.4788732394366197,
          0.4788732394366197,
          0.5774647887323944,
          0.5774647887323944,
          0.49295774647887325,
          0.5915492957746479,
          0.5352112676056338,
          0.5492957746478874,
          0.5352112676056338,
          0.5633802816901409,
          0.5070422535211268,
          0.49295774647887325,
          0.5070422535211268,
          0.5633802816901409,
          0.5352112676056338,
          0.5211267605633803,
          0.5633802816901409,
          0.49295774647887325,
          0.5352112676056338,
          0.5070422535211268,
          0.5774647887323944,
          0.5774647887323944,
          0.5492957746478874,
          0.5633802816901409,
          0.5492957746478874,
          0.5352112676056338,
          0.5352112676056338,
          0.5352112676056338,
          0.5070422535211268,
          0.5070422535211268,
          0.5211267605633803,
          0.5633802816901409,
          0.49295774647887325,
          0.4507042253521127,
          0.5211267605633803,
          0.5211267605633803,
          0.5492957746478874,
          0.5070422535211268,
          0.5492957746478874,
          0.5070422535211268,
          0.5070422535211268,
          0.5211267605633803,
          0.5211267605633803,
          0.5492957746478874,
          0.5352112676056338,
          0.5492957746478874,
          0.5774647887323944,
          0.5352112676056338,
          0.5492957746478874,
          0.5352112676056338,
          0.4788732394366197,
          0.49295774647887325,
          0.5070422535211268,
          0.5070422535211268,
          0.5211267605633803,
          0.5492957746478874,
          0.5492957746478874,
          0.5211267605633803,
          0.5352112676056338,
          0.5211267605633803,
          0.49295774647887325,
          0.5352112676056338,
          0.5352112676056338,
          0.5633802816901409,
          0.5915492957746479,
          0.5492957746478874,
          0.5774647887323944,
          0.5352112676056338,
          0.5352112676056338,
          0.5352112676056338,
          0.5352112676056338,
          0.5774647887323944
         ],
         "yaxis": "y"
        },
        {
         "marker": {
          "color": [
           0,
           1,
           2,
           3,
           4,
           5,
           6,
           7,
           8,
           9,
           10,
           11,
           12,
           13,
           14,
           15,
           16,
           17,
           18,
           19,
           20,
           21,
           22,
           23,
           24,
           25,
           26,
           27,
           28,
           29,
           30,
           31,
           32,
           33,
           34,
           35,
           36,
           37,
           38,
           39,
           40,
           41,
           42,
           43,
           44,
           45,
           46,
           47,
           48,
           49,
           50,
           51,
           52,
           53,
           54,
           55,
           56,
           57,
           58,
           59,
           60,
           61,
           62,
           63,
           64,
           65,
           66,
           67,
           68,
           69,
           70,
           71,
           72,
           73,
           74,
           75,
           76,
           77,
           78,
           79,
           80,
           81,
           82,
           83,
           84,
           85,
           86,
           87,
           88,
           89,
           90,
           91,
           92,
           93,
           94,
           95,
           96,
           97,
           98,
           99
          ],
          "colorbar": {
           "title": {
            "text": "Trial"
           },
           "x": 1,
           "xpad": 40
          },
          "colorscale": [
           [
            0,
            "rgb(247,251,255)"
           ],
           [
            0.125,
            "rgb(222,235,247)"
           ],
           [
            0.25,
            "rgb(198,219,239)"
           ],
           [
            0.375,
            "rgb(158,202,225)"
           ],
           [
            0.5,
            "rgb(107,174,214)"
           ],
           [
            0.625,
            "rgb(66,146,198)"
           ],
           [
            0.75,
            "rgb(33,113,181)"
           ],
           [
            0.875,
            "rgb(8,81,156)"
           ],
           [
            1,
            "rgb(8,48,107)"
           ]
          ],
          "line": {
           "color": "Grey",
           "width": 0.5
          },
          "showscale": false
         },
         "mode": "markers",
         "showlegend": false,
         "type": "scatter",
         "x": [
          8,
          8,
          5,
          7,
          4,
          7,
          9,
          10,
          8,
          6,
          3,
          10,
          10,
          9,
          9,
          10,
          8,
          6,
          9,
          8,
          7,
          9,
          10,
          9,
          8,
          10,
          9,
          7,
          6,
          5,
          7,
          7,
          8,
          7,
          5,
          7,
          6,
          7,
          7,
          8,
          6,
          7,
          8,
          7,
          8,
          6,
          9,
          4,
          7,
          7,
          6,
          7,
          7,
          8,
          5,
          7,
          8,
          6,
          7,
          7,
          8,
          9,
          7,
          8,
          6,
          9,
          7,
          8,
          8,
          6,
          7,
          7,
          7,
          7,
          6,
          6,
          6,
          5,
          8,
          3,
          9,
          7,
          7,
          6,
          6,
          7,
          10,
          7,
          7,
          8,
          6,
          7,
          7,
          7,
          7,
          8,
          7,
          8,
          6,
          7
         ],
         "xaxis": "x2",
         "y": [
          0.5633802816901409,
          0.4788732394366197,
          0.49295774647887325,
          0.4788732394366197,
          0.5211267605633803,
          0.5352112676056338,
          0.4788732394366197,
          0.5492957746478874,
          0.49295774647887325,
          0.5070422535211268,
          0.5492957746478874,
          0.5352112676056338,
          0.5492957746478874,
          0.4788732394366197,
          0.5070422535211268,
          0.4647887323943662,
          0.5492957746478874,
          0.49295774647887325,
          0.5633802816901409,
          0.4788732394366197,
          0.5070422535211268,
          0.5352112676056338,
          0.4788732394366197,
          0.5352112676056338,
          0.4647887323943662,
          0.4788732394366197,
          0.5070422535211268,
          0.5633802816901409,
          0.4788732394366197,
          0.4788732394366197,
          0.5774647887323944,
          0.5774647887323944,
          0.49295774647887325,
          0.5915492957746479,
          0.5352112676056338,
          0.5492957746478874,
          0.5352112676056338,
          0.5633802816901409,
          0.5070422535211268,
          0.49295774647887325,
          0.5070422535211268,
          0.5633802816901409,
          0.5352112676056338,
          0.5211267605633803,
          0.5633802816901409,
          0.49295774647887325,
          0.5352112676056338,
          0.5070422535211268,
          0.5774647887323944,
          0.5774647887323944,
          0.5492957746478874,
          0.5633802816901409,
          0.5492957746478874,
          0.5352112676056338,
          0.5352112676056338,
          0.5352112676056338,
          0.5070422535211268,
          0.5070422535211268,
          0.5211267605633803,
          0.5633802816901409,
          0.49295774647887325,
          0.4507042253521127,
          0.5211267605633803,
          0.5211267605633803,
          0.5492957746478874,
          0.5070422535211268,
          0.5492957746478874,
          0.5070422535211268,
          0.5070422535211268,
          0.5211267605633803,
          0.5211267605633803,
          0.5492957746478874,
          0.5352112676056338,
          0.5492957746478874,
          0.5774647887323944,
          0.5352112676056338,
          0.5492957746478874,
          0.5352112676056338,
          0.4788732394366197,
          0.49295774647887325,
          0.5070422535211268,
          0.5070422535211268,
          0.5211267605633803,
          0.5492957746478874,
          0.5492957746478874,
          0.5211267605633803,
          0.5352112676056338,
          0.5211267605633803,
          0.49295774647887325,
          0.5352112676056338,
          0.5352112676056338,
          0.5633802816901409,
          0.5915492957746479,
          0.5492957746478874,
          0.5774647887323944,
          0.5352112676056338,
          0.5352112676056338,
          0.5352112676056338,
          0.5352112676056338,
          0.5774647887323944
         ],
         "yaxis": "y2"
        },
        {
         "marker": {
          "color": [
           0,
           1,
           2,
           3,
           4,
           5,
           6,
           7,
           8,
           9,
           10,
           11,
           12,
           13,
           14,
           15,
           16,
           17,
           18,
           19,
           20,
           21,
           22,
           23,
           24,
           25,
           26,
           27,
           28,
           29,
           30,
           31,
           32,
           33,
           34,
           35,
           36,
           37,
           38,
           39,
           40,
           41,
           42,
           43,
           44,
           45,
           46,
           47,
           48,
           49,
           50,
           51,
           52,
           53,
           54,
           55,
           56,
           57,
           58,
           59,
           60,
           61,
           62,
           63,
           64,
           65,
           66,
           67,
           68,
           69,
           70,
           71,
           72,
           73,
           74,
           75,
           76,
           77,
           78,
           79,
           80,
           81,
           82,
           83,
           84,
           85,
           86,
           87,
           88,
           89,
           90,
           91,
           92,
           93,
           94,
           95,
           96,
           97,
           98,
           99
          ],
          "colorbar": {
           "title": {
            "text": "Trial"
           },
           "x": 1,
           "xpad": 40
          },
          "colorscale": [
           [
            0,
            "rgb(247,251,255)"
           ],
           [
            0.125,
            "rgb(222,235,247)"
           ],
           [
            0.25,
            "rgb(198,219,239)"
           ],
           [
            0.375,
            "rgb(158,202,225)"
           ],
           [
            0.5,
            "rgb(107,174,214)"
           ],
           [
            0.625,
            "rgb(66,146,198)"
           ],
           [
            0.75,
            "rgb(33,113,181)"
           ],
           [
            0.875,
            "rgb(8,81,156)"
           ],
           [
            1,
            "rgb(8,48,107)"
           ]
          ],
          "line": {
           "color": "Grey",
           "width": 0.5
          },
          "showscale": false
         },
         "mode": "markers",
         "showlegend": false,
         "type": "scatter",
         "x": [
          6,
          5,
          6,
          5,
          2,
          1,
          10,
          3,
          9,
          6,
          8,
          3,
          3,
          4,
          7,
          4,
          1,
          7,
          3,
          4,
          7,
          3,
          2,
          2,
          5,
          4,
          6,
          3,
          2,
          5,
          1,
          1,
          1,
          1,
          1,
          1,
          2,
          1,
          2,
          8,
          5,
          1,
          6,
          2,
          1,
          2,
          3,
          10,
          1,
          1,
          1,
          1,
          2,
          1,
          1,
          2,
          2,
          8,
          6,
          1,
          7,
          4,
          3,
          2,
          3,
          1,
          1,
          2,
          1,
          7,
          3,
          6,
          5,
          3,
          4,
          4,
          4,
          1,
          5,
          2,
          2,
          4,
          3,
          1,
          1,
          3,
          2,
          6,
          5,
          1,
          2,
          1,
          1,
          1,
          1,
          1,
          1,
          1,
          2,
          1
         ],
         "xaxis": "x3",
         "y": [
          0.5633802816901409,
          0.4788732394366197,
          0.49295774647887325,
          0.4788732394366197,
          0.5211267605633803,
          0.5352112676056338,
          0.4788732394366197,
          0.5492957746478874,
          0.49295774647887325,
          0.5070422535211268,
          0.5492957746478874,
          0.5352112676056338,
          0.5492957746478874,
          0.4788732394366197,
          0.5070422535211268,
          0.4647887323943662,
          0.5492957746478874,
          0.49295774647887325,
          0.5633802816901409,
          0.4788732394366197,
          0.5070422535211268,
          0.5352112676056338,
          0.4788732394366197,
          0.5352112676056338,
          0.4647887323943662,
          0.4788732394366197,
          0.5070422535211268,
          0.5633802816901409,
          0.4788732394366197,
          0.4788732394366197,
          0.5774647887323944,
          0.5774647887323944,
          0.49295774647887325,
          0.5915492957746479,
          0.5352112676056338,
          0.5492957746478874,
          0.5352112676056338,
          0.5633802816901409,
          0.5070422535211268,
          0.49295774647887325,
          0.5070422535211268,
          0.5633802816901409,
          0.5352112676056338,
          0.5211267605633803,
          0.5633802816901409,
          0.49295774647887325,
          0.5352112676056338,
          0.5070422535211268,
          0.5774647887323944,
          0.5774647887323944,
          0.5492957746478874,
          0.5633802816901409,
          0.5492957746478874,
          0.5352112676056338,
          0.5352112676056338,
          0.5352112676056338,
          0.5070422535211268,
          0.5070422535211268,
          0.5211267605633803,
          0.5633802816901409,
          0.49295774647887325,
          0.4507042253521127,
          0.5211267605633803,
          0.5211267605633803,
          0.5492957746478874,
          0.5070422535211268,
          0.5492957746478874,
          0.5070422535211268,
          0.5070422535211268,
          0.5211267605633803,
          0.5211267605633803,
          0.5492957746478874,
          0.5352112676056338,
          0.5492957746478874,
          0.5774647887323944,
          0.5352112676056338,
          0.5492957746478874,
          0.5352112676056338,
          0.4788732394366197,
          0.49295774647887325,
          0.5070422535211268,
          0.5070422535211268,
          0.5211267605633803,
          0.5492957746478874,
          0.5492957746478874,
          0.5211267605633803,
          0.5352112676056338,
          0.5211267605633803,
          0.49295774647887325,
          0.5352112676056338,
          0.5352112676056338,
          0.5633802816901409,
          0.5915492957746479,
          0.5492957746478874,
          0.5774647887323944,
          0.5352112676056338,
          0.5352112676056338,
          0.5352112676056338,
          0.5352112676056338,
          0.5774647887323944
         ],
         "yaxis": "y3"
        },
        {
         "marker": {
          "color": [
           0,
           1,
           2,
           3,
           4,
           5,
           6,
           7,
           8,
           9,
           10,
           11,
           12,
           13,
           14,
           15,
           16,
           17,
           18,
           19,
           20,
           21,
           22,
           23,
           24,
           25,
           26,
           27,
           28,
           29,
           30,
           31,
           32,
           33,
           34,
           35,
           36,
           37,
           38,
           39,
           40,
           41,
           42,
           43,
           44,
           45,
           46,
           47,
           48,
           49,
           50,
           51,
           52,
           53,
           54,
           55,
           56,
           57,
           58,
           59,
           60,
           61,
           62,
           63,
           64,
           65,
           66,
           67,
           68,
           69,
           70,
           71,
           72,
           73,
           74,
           75,
           76,
           77,
           78,
           79,
           80,
           81,
           82,
           83,
           84,
           85,
           86,
           87,
           88,
           89,
           90,
           91,
           92,
           93,
           94,
           95,
           96,
           97,
           98,
           99
          ],
          "colorbar": {
           "title": {
            "text": "Trial"
           },
           "x": 1,
           "xpad": 40
          },
          "colorscale": [
           [
            0,
            "rgb(247,251,255)"
           ],
           [
            0.125,
            "rgb(222,235,247)"
           ],
           [
            0.25,
            "rgb(198,219,239)"
           ],
           [
            0.375,
            "rgb(158,202,225)"
           ],
           [
            0.5,
            "rgb(107,174,214)"
           ],
           [
            0.625,
            "rgb(66,146,198)"
           ],
           [
            0.75,
            "rgb(33,113,181)"
           ],
           [
            0.875,
            "rgb(8,81,156)"
           ],
           [
            1,
            "rgb(8,48,107)"
           ]
          ],
          "line": {
           "color": "Grey",
           "width": 0.5
          },
          "showscale": false
         },
         "mode": "markers",
         "showlegend": false,
         "type": "scatter",
         "x": [
          121,
          99,
          72,
          198,
          185,
          76,
          51,
          134,
          76,
          140,
          160,
          123,
          121,
          141,
          101,
          156,
          173,
          106,
          143,
          157,
          114,
          141,
          134,
          129,
          92,
          152,
          113,
          88,
          89,
          52,
          91,
          87,
          69,
          63,
          65,
          63,
          84,
          80,
          97,
          107,
          54,
          74,
          58,
          196,
          149,
          170,
          116,
          98,
          80,
          79,
          80,
          70,
          81,
          93,
          59,
          104,
          74,
          86,
          66,
          95,
          78,
          132,
          166,
          127,
          119,
          145,
          108,
          85,
          101,
          138,
          61,
          91,
          88,
          71,
          110,
          110,
          123,
          67,
          117,
          77,
          83,
          103,
          112,
          90,
          96,
          56,
          74,
          82,
          50,
          77,
          130,
          89,
          136,
          135,
          145,
          150,
          145,
          141,
          158,
          145
         ],
         "xaxis": "x4",
         "y": [
          0.5633802816901409,
          0.4788732394366197,
          0.49295774647887325,
          0.4788732394366197,
          0.5211267605633803,
          0.5352112676056338,
          0.4788732394366197,
          0.5492957746478874,
          0.49295774647887325,
          0.5070422535211268,
          0.5492957746478874,
          0.5352112676056338,
          0.5492957746478874,
          0.4788732394366197,
          0.5070422535211268,
          0.4647887323943662,
          0.5492957746478874,
          0.49295774647887325,
          0.5633802816901409,
          0.4788732394366197,
          0.5070422535211268,
          0.5352112676056338,
          0.4788732394366197,
          0.5352112676056338,
          0.4647887323943662,
          0.4788732394366197,
          0.5070422535211268,
          0.5633802816901409,
          0.4788732394366197,
          0.4788732394366197,
          0.5774647887323944,
          0.5774647887323944,
          0.49295774647887325,
          0.5915492957746479,
          0.5352112676056338,
          0.5492957746478874,
          0.5352112676056338,
          0.5633802816901409,
          0.5070422535211268,
          0.49295774647887325,
          0.5070422535211268,
          0.5633802816901409,
          0.5352112676056338,
          0.5211267605633803,
          0.5633802816901409,
          0.49295774647887325,
          0.5352112676056338,
          0.5070422535211268,
          0.5774647887323944,
          0.5774647887323944,
          0.5492957746478874,
          0.5633802816901409,
          0.5492957746478874,
          0.5352112676056338,
          0.5352112676056338,
          0.5352112676056338,
          0.5070422535211268,
          0.5070422535211268,
          0.5211267605633803,
          0.5633802816901409,
          0.49295774647887325,
          0.4507042253521127,
          0.5211267605633803,
          0.5211267605633803,
          0.5492957746478874,
          0.5070422535211268,
          0.5492957746478874,
          0.5070422535211268,
          0.5070422535211268,
          0.5211267605633803,
          0.5211267605633803,
          0.5492957746478874,
          0.5352112676056338,
          0.5492957746478874,
          0.5774647887323944,
          0.5352112676056338,
          0.5492957746478874,
          0.5352112676056338,
          0.4788732394366197,
          0.49295774647887325,
          0.5070422535211268,
          0.5070422535211268,
          0.5211267605633803,
          0.5492957746478874,
          0.5492957746478874,
          0.5211267605633803,
          0.5352112676056338,
          0.5211267605633803,
          0.49295774647887325,
          0.5352112676056338,
          0.5352112676056338,
          0.5633802816901409,
          0.5915492957746479,
          0.5492957746478874,
          0.5774647887323944,
          0.5352112676056338,
          0.5352112676056338,
          0.5352112676056338,
          0.5352112676056338,
          0.5774647887323944
         ],
         "yaxis": "y4"
        }
       ],
       "layout": {
        "template": {
         "data": {
          "bar": [
           {
            "error_x": {
             "color": "#2a3f5f"
            },
            "error_y": {
             "color": "#2a3f5f"
            },
            "marker": {
             "line": {
              "color": "#E5ECF6",
              "width": 0.5
             },
             "pattern": {
              "fillmode": "overlay",
              "size": 10,
              "solidity": 0.2
             }
            },
            "type": "bar"
           }
          ],
          "barpolar": [
           {
            "marker": {
             "line": {
              "color": "#E5ECF6",
              "width": 0.5
             },
             "pattern": {
              "fillmode": "overlay",
              "size": 10,
              "solidity": 0.2
             }
            },
            "type": "barpolar"
           }
          ],
          "carpet": [
           {
            "aaxis": {
             "endlinecolor": "#2a3f5f",
             "gridcolor": "white",
             "linecolor": "white",
             "minorgridcolor": "white",
             "startlinecolor": "#2a3f5f"
            },
            "baxis": {
             "endlinecolor": "#2a3f5f",
             "gridcolor": "white",
             "linecolor": "white",
             "minorgridcolor": "white",
             "startlinecolor": "#2a3f5f"
            },
            "type": "carpet"
           }
          ],
          "choropleth": [
           {
            "colorbar": {
             "outlinewidth": 0,
             "ticks": ""
            },
            "type": "choropleth"
           }
          ],
          "contour": [
           {
            "colorbar": {
             "outlinewidth": 0,
             "ticks": ""
            },
            "colorscale": [
             [
              0,
              "#0d0887"
             ],
             [
              0.1111111111111111,
              "#46039f"
             ],
             [
              0.2222222222222222,
              "#7201a8"
             ],
             [
              0.3333333333333333,
              "#9c179e"
             ],
             [
              0.4444444444444444,
              "#bd3786"
             ],
             [
              0.5555555555555556,
              "#d8576b"
             ],
             [
              0.6666666666666666,
              "#ed7953"
             ],
             [
              0.7777777777777778,
              "#fb9f3a"
             ],
             [
              0.8888888888888888,
              "#fdca26"
             ],
             [
              1,
              "#f0f921"
             ]
            ],
            "type": "contour"
           }
          ],
          "contourcarpet": [
           {
            "colorbar": {
             "outlinewidth": 0,
             "ticks": ""
            },
            "type": "contourcarpet"
           }
          ],
          "heatmap": [
           {
            "colorbar": {
             "outlinewidth": 0,
             "ticks": ""
            },
            "colorscale": [
             [
              0,
              "#0d0887"
             ],
             [
              0.1111111111111111,
              "#46039f"
             ],
             [
              0.2222222222222222,
              "#7201a8"
             ],
             [
              0.3333333333333333,
              "#9c179e"
             ],
             [
              0.4444444444444444,
              "#bd3786"
             ],
             [
              0.5555555555555556,
              "#d8576b"
             ],
             [
              0.6666666666666666,
              "#ed7953"
             ],
             [
              0.7777777777777778,
              "#fb9f3a"
             ],
             [
              0.8888888888888888,
              "#fdca26"
             ],
             [
              1,
              "#f0f921"
             ]
            ],
            "type": "heatmap"
           }
          ],
          "heatmapgl": [
           {
            "colorbar": {
             "outlinewidth": 0,
             "ticks": ""
            },
            "colorscale": [
             [
              0,
              "#0d0887"
             ],
             [
              0.1111111111111111,
              "#46039f"
             ],
             [
              0.2222222222222222,
              "#7201a8"
             ],
             [
              0.3333333333333333,
              "#9c179e"
             ],
             [
              0.4444444444444444,
              "#bd3786"
             ],
             [
              0.5555555555555556,
              "#d8576b"
             ],
             [
              0.6666666666666666,
              "#ed7953"
             ],
             [
              0.7777777777777778,
              "#fb9f3a"
             ],
             [
              0.8888888888888888,
              "#fdca26"
             ],
             [
              1,
              "#f0f921"
             ]
            ],
            "type": "heatmapgl"
           }
          ],
          "histogram": [
           {
            "marker": {
             "pattern": {
              "fillmode": "overlay",
              "size": 10,
              "solidity": 0.2
             }
            },
            "type": "histogram"
           }
          ],
          "histogram2d": [
           {
            "colorbar": {
             "outlinewidth": 0,
             "ticks": ""
            },
            "colorscale": [
             [
              0,
              "#0d0887"
             ],
             [
              0.1111111111111111,
              "#46039f"
             ],
             [
              0.2222222222222222,
              "#7201a8"
             ],
             [
              0.3333333333333333,
              "#9c179e"
             ],
             [
              0.4444444444444444,
              "#bd3786"
             ],
             [
              0.5555555555555556,
              "#d8576b"
             ],
             [
              0.6666666666666666,
              "#ed7953"
             ],
             [
              0.7777777777777778,
              "#fb9f3a"
             ],
             [
              0.8888888888888888,
              "#fdca26"
             ],
             [
              1,
              "#f0f921"
             ]
            ],
            "type": "histogram2d"
           }
          ],
          "histogram2dcontour": [
           {
            "colorbar": {
             "outlinewidth": 0,
             "ticks": ""
            },
            "colorscale": [
             [
              0,
              "#0d0887"
             ],
             [
              0.1111111111111111,
              "#46039f"
             ],
             [
              0.2222222222222222,
              "#7201a8"
             ],
             [
              0.3333333333333333,
              "#9c179e"
             ],
             [
              0.4444444444444444,
              "#bd3786"
             ],
             [
              0.5555555555555556,
              "#d8576b"
             ],
             [
              0.6666666666666666,
              "#ed7953"
             ],
             [
              0.7777777777777778,
              "#fb9f3a"
             ],
             [
              0.8888888888888888,
              "#fdca26"
             ],
             [
              1,
              "#f0f921"
             ]
            ],
            "type": "histogram2dcontour"
           }
          ],
          "mesh3d": [
           {
            "colorbar": {
             "outlinewidth": 0,
             "ticks": ""
            },
            "type": "mesh3d"
           }
          ],
          "parcoords": [
           {
            "line": {
             "colorbar": {
              "outlinewidth": 0,
              "ticks": ""
             }
            },
            "type": "parcoords"
           }
          ],
          "pie": [
           {
            "automargin": true,
            "type": "pie"
           }
          ],
          "scatter": [
           {
            "fillpattern": {
             "fillmode": "overlay",
             "size": 10,
             "solidity": 0.2
            },
            "type": "scatter"
           }
          ],
          "scatter3d": [
           {
            "line": {
             "colorbar": {
              "outlinewidth": 0,
              "ticks": ""
             }
            },
            "marker": {
             "colorbar": {
              "outlinewidth": 0,
              "ticks": ""
             }
            },
            "type": "scatter3d"
           }
          ],
          "scattercarpet": [
           {
            "marker": {
             "colorbar": {
              "outlinewidth": 0,
              "ticks": ""
             }
            },
            "type": "scattercarpet"
           }
          ],
          "scattergeo": [
           {
            "marker": {
             "colorbar": {
              "outlinewidth": 0,
              "ticks": ""
             }
            },
            "type": "scattergeo"
           }
          ],
          "scattergl": [
           {
            "marker": {
             "colorbar": {
              "outlinewidth": 0,
              "ticks": ""
             }
            },
            "type": "scattergl"
           }
          ],
          "scattermapbox": [
           {
            "marker": {
             "colorbar": {
              "outlinewidth": 0,
              "ticks": ""
             }
            },
            "type": "scattermapbox"
           }
          ],
          "scatterpolar": [
           {
            "marker": {
             "colorbar": {
              "outlinewidth": 0,
              "ticks": ""
             }
            },
            "type": "scatterpolar"
           }
          ],
          "scatterpolargl": [
           {
            "marker": {
             "colorbar": {
              "outlinewidth": 0,
              "ticks": ""
             }
            },
            "type": "scatterpolargl"
           }
          ],
          "scatterternary": [
           {
            "marker": {
             "colorbar": {
              "outlinewidth": 0,
              "ticks": ""
             }
            },
            "type": "scatterternary"
           }
          ],
          "surface": [
           {
            "colorbar": {
             "outlinewidth": 0,
             "ticks": ""
            },
            "colorscale": [
             [
              0,
              "#0d0887"
             ],
             [
              0.1111111111111111,
              "#46039f"
             ],
             [
              0.2222222222222222,
              "#7201a8"
             ],
             [
              0.3333333333333333,
              "#9c179e"
             ],
             [
              0.4444444444444444,
              "#bd3786"
             ],
             [
              0.5555555555555556,
              "#d8576b"
             ],
             [
              0.6666666666666666,
              "#ed7953"
             ],
             [
              0.7777777777777778,
              "#fb9f3a"
             ],
             [
              0.8888888888888888,
              "#fdca26"
             ],
             [
              1,
              "#f0f921"
             ]
            ],
            "type": "surface"
           }
          ],
          "table": [
           {
            "cells": {
             "fill": {
              "color": "#EBF0F8"
             },
             "line": {
              "color": "white"
             }
            },
            "header": {
             "fill": {
              "color": "#C8D4E3"
             },
             "line": {
              "color": "white"
             }
            },
            "type": "table"
           }
          ]
         },
         "layout": {
          "annotationdefaults": {
           "arrowcolor": "#2a3f5f",
           "arrowhead": 0,
           "arrowwidth": 1
          },
          "autotypenumbers": "strict",
          "coloraxis": {
           "colorbar": {
            "outlinewidth": 0,
            "ticks": ""
           }
          },
          "colorscale": {
           "diverging": [
            [
             0,
             "#8e0152"
            ],
            [
             0.1,
             "#c51b7d"
            ],
            [
             0.2,
             "#de77ae"
            ],
            [
             0.3,
             "#f1b6da"
            ],
            [
             0.4,
             "#fde0ef"
            ],
            [
             0.5,
             "#f7f7f7"
            ],
            [
             0.6,
             "#e6f5d0"
            ],
            [
             0.7,
             "#b8e186"
            ],
            [
             0.8,
             "#7fbc41"
            ],
            [
             0.9,
             "#4d9221"
            ],
            [
             1,
             "#276419"
            ]
           ],
           "sequential": [
            [
             0,
             "#0d0887"
            ],
            [
             0.1111111111111111,
             "#46039f"
            ],
            [
             0.2222222222222222,
             "#7201a8"
            ],
            [
             0.3333333333333333,
             "#9c179e"
            ],
            [
             0.4444444444444444,
             "#bd3786"
            ],
            [
             0.5555555555555556,
             "#d8576b"
            ],
            [
             0.6666666666666666,
             "#ed7953"
            ],
            [
             0.7777777777777778,
             "#fb9f3a"
            ],
            [
             0.8888888888888888,
             "#fdca26"
            ],
            [
             1,
             "#f0f921"
            ]
           ],
           "sequentialminus": [
            [
             0,
             "#0d0887"
            ],
            [
             0.1111111111111111,
             "#46039f"
            ],
            [
             0.2222222222222222,
             "#7201a8"
            ],
            [
             0.3333333333333333,
             "#9c179e"
            ],
            [
             0.4444444444444444,
             "#bd3786"
            ],
            [
             0.5555555555555556,
             "#d8576b"
            ],
            [
             0.6666666666666666,
             "#ed7953"
            ],
            [
             0.7777777777777778,
             "#fb9f3a"
            ],
            [
             0.8888888888888888,
             "#fdca26"
            ],
            [
             1,
             "#f0f921"
            ]
           ]
          },
          "colorway": [
           "#636efa",
           "#EF553B",
           "#00cc96",
           "#ab63fa",
           "#FFA15A",
           "#19d3f3",
           "#FF6692",
           "#B6E880",
           "#FF97FF",
           "#FECB52"
          ],
          "font": {
           "color": "#2a3f5f"
          },
          "geo": {
           "bgcolor": "white",
           "lakecolor": "white",
           "landcolor": "#E5ECF6",
           "showlakes": true,
           "showland": true,
           "subunitcolor": "white"
          },
          "hoverlabel": {
           "align": "left"
          },
          "hovermode": "closest",
          "mapbox": {
           "style": "light"
          },
          "paper_bgcolor": "white",
          "plot_bgcolor": "#E5ECF6",
          "polar": {
           "angularaxis": {
            "gridcolor": "white",
            "linecolor": "white",
            "ticks": ""
           },
           "bgcolor": "#E5ECF6",
           "radialaxis": {
            "gridcolor": "white",
            "linecolor": "white",
            "ticks": ""
           }
          },
          "scene": {
           "xaxis": {
            "backgroundcolor": "#E5ECF6",
            "gridcolor": "white",
            "gridwidth": 2,
            "linecolor": "white",
            "showbackground": true,
            "ticks": "",
            "zerolinecolor": "white"
           },
           "yaxis": {
            "backgroundcolor": "#E5ECF6",
            "gridcolor": "white",
            "gridwidth": 2,
            "linecolor": "white",
            "showbackground": true,
            "ticks": "",
            "zerolinecolor": "white"
           },
           "zaxis": {
            "backgroundcolor": "#E5ECF6",
            "gridcolor": "white",
            "gridwidth": 2,
            "linecolor": "white",
            "showbackground": true,
            "ticks": "",
            "zerolinecolor": "white"
           }
          },
          "shapedefaults": {
           "line": {
            "color": "#2a3f5f"
           }
          },
          "ternary": {
           "aaxis": {
            "gridcolor": "white",
            "linecolor": "white",
            "ticks": ""
           },
           "baxis": {
            "gridcolor": "white",
            "linecolor": "white",
            "ticks": ""
           },
           "bgcolor": "#E5ECF6",
           "caxis": {
            "gridcolor": "white",
            "linecolor": "white",
            "ticks": ""
           }
          },
          "title": {
           "x": 0.05
          },
          "xaxis": {
           "automargin": true,
           "gridcolor": "white",
           "linecolor": "white",
           "ticks": "",
           "title": {
            "standoff": 15
           },
           "zerolinecolor": "white",
           "zerolinewidth": 2
          },
          "yaxis": {
           "automargin": true,
           "gridcolor": "white",
           "linecolor": "white",
           "ticks": "",
           "title": {
            "standoff": 15
           },
           "zerolinecolor": "white",
           "zerolinewidth": 2
          }
         }
        },
        "title": {
         "text": "Slice Plot"
        },
        "width": 1200,
        "xaxis": {
         "anchor": "y",
         "domain": [
          0,
          0.2125
         ],
         "title": {
          "text": "learning_rate"
         }
        },
        "xaxis2": {
         "anchor": "y2",
         "domain": [
          0.2625,
          0.475
         ],
         "title": {
          "text": "max_depth"
         }
        },
        "xaxis3": {
         "anchor": "y3",
         "domain": [
          0.525,
          0.7375
         ],
         "title": {
          "text": "min_child_weight"
         }
        },
        "xaxis4": {
         "anchor": "y4",
         "domain": [
          0.7875,
          1
         ],
         "title": {
          "text": "n_estimators"
         }
        },
        "yaxis": {
         "anchor": "x",
         "domain": [
          0,
          1
         ],
         "title": {
          "text": "Objective Value"
         }
        },
        "yaxis2": {
         "anchor": "x2",
         "domain": [
          0,
          1
         ],
         "matches": "y",
         "showticklabels": false
        },
        "yaxis3": {
         "anchor": "x3",
         "domain": [
          0,
          1
         ],
         "matches": "y",
         "showticklabels": false
        },
        "yaxis4": {
         "anchor": "x4",
         "domain": [
          0,
          1
         ],
         "matches": "y",
         "showticklabels": false
        }
       }
      }
     },
     "metadata": {},
     "output_type": "display_data"
    }
   ],
   "source": [
    "import plotly\n",
    "\n",
    "fig = optuna.visualization.plot_slice(study, params=[\"max_depth\", \"learning_rate\", 'n_estimators', 'min_child_weight'])\n",
    "fig.show()"
   ]
  },
  {
   "cell_type": "code",
   "execution_count": 31,
   "metadata": {},
   "outputs": [
    {
     "data": {
      "application/vnd.plotly.v1+json": {
       "config": {
        "plotlyServerURL": "https://plot.ly"
       },
       "data": [
        {
         "cliponaxis": false,
         "hovertemplate": [
          "learning_rate (FloatDistribution): 0.11499882007347387<extra></extra>",
          "max_depth (IntDistribution): 0.1591367173442274<extra></extra>",
          "n_estimators (IntDistribution): 0.21892622381492205<extra></extra>",
          "min_child_weight (IntDistribution): 0.5069382387673766<extra></extra>"
         ],
         "marker": {
          "color": "rgb(66,146,198)"
         },
         "orientation": "h",
         "text": [
          "0.11",
          "0.16",
          "0.22",
          "0.51"
         ],
         "textposition": "outside",
         "type": "bar",
         "x": [
          0.11499882007347387,
          0.1591367173442274,
          0.21892622381492205,
          0.5069382387673766
         ],
         "y": [
          "learning_rate",
          "max_depth",
          "n_estimators",
          "min_child_weight"
         ]
        }
       ],
       "layout": {
        "showlegend": false,
        "template": {
         "data": {
          "bar": [
           {
            "error_x": {
             "color": "#2a3f5f"
            },
            "error_y": {
             "color": "#2a3f5f"
            },
            "marker": {
             "line": {
              "color": "#E5ECF6",
              "width": 0.5
             },
             "pattern": {
              "fillmode": "overlay",
              "size": 10,
              "solidity": 0.2
             }
            },
            "type": "bar"
           }
          ],
          "barpolar": [
           {
            "marker": {
             "line": {
              "color": "#E5ECF6",
              "width": 0.5
             },
             "pattern": {
              "fillmode": "overlay",
              "size": 10,
              "solidity": 0.2
             }
            },
            "type": "barpolar"
           }
          ],
          "carpet": [
           {
            "aaxis": {
             "endlinecolor": "#2a3f5f",
             "gridcolor": "white",
             "linecolor": "white",
             "minorgridcolor": "white",
             "startlinecolor": "#2a3f5f"
            },
            "baxis": {
             "endlinecolor": "#2a3f5f",
             "gridcolor": "white",
             "linecolor": "white",
             "minorgridcolor": "white",
             "startlinecolor": "#2a3f5f"
            },
            "type": "carpet"
           }
          ],
          "choropleth": [
           {
            "colorbar": {
             "outlinewidth": 0,
             "ticks": ""
            },
            "type": "choropleth"
           }
          ],
          "contour": [
           {
            "colorbar": {
             "outlinewidth": 0,
             "ticks": ""
            },
            "colorscale": [
             [
              0,
              "#0d0887"
             ],
             [
              0.1111111111111111,
              "#46039f"
             ],
             [
              0.2222222222222222,
              "#7201a8"
             ],
             [
              0.3333333333333333,
              "#9c179e"
             ],
             [
              0.4444444444444444,
              "#bd3786"
             ],
             [
              0.5555555555555556,
              "#d8576b"
             ],
             [
              0.6666666666666666,
              "#ed7953"
             ],
             [
              0.7777777777777778,
              "#fb9f3a"
             ],
             [
              0.8888888888888888,
              "#fdca26"
             ],
             [
              1,
              "#f0f921"
             ]
            ],
            "type": "contour"
           }
          ],
          "contourcarpet": [
           {
            "colorbar": {
             "outlinewidth": 0,
             "ticks": ""
            },
            "type": "contourcarpet"
           }
          ],
          "heatmap": [
           {
            "colorbar": {
             "outlinewidth": 0,
             "ticks": ""
            },
            "colorscale": [
             [
              0,
              "#0d0887"
             ],
             [
              0.1111111111111111,
              "#46039f"
             ],
             [
              0.2222222222222222,
              "#7201a8"
             ],
             [
              0.3333333333333333,
              "#9c179e"
             ],
             [
              0.4444444444444444,
              "#bd3786"
             ],
             [
              0.5555555555555556,
              "#d8576b"
             ],
             [
              0.6666666666666666,
              "#ed7953"
             ],
             [
              0.7777777777777778,
              "#fb9f3a"
             ],
             [
              0.8888888888888888,
              "#fdca26"
             ],
             [
              1,
              "#f0f921"
             ]
            ],
            "type": "heatmap"
           }
          ],
          "heatmapgl": [
           {
            "colorbar": {
             "outlinewidth": 0,
             "ticks": ""
            },
            "colorscale": [
             [
              0,
              "#0d0887"
             ],
             [
              0.1111111111111111,
              "#46039f"
             ],
             [
              0.2222222222222222,
              "#7201a8"
             ],
             [
              0.3333333333333333,
              "#9c179e"
             ],
             [
              0.4444444444444444,
              "#bd3786"
             ],
             [
              0.5555555555555556,
              "#d8576b"
             ],
             [
              0.6666666666666666,
              "#ed7953"
             ],
             [
              0.7777777777777778,
              "#fb9f3a"
             ],
             [
              0.8888888888888888,
              "#fdca26"
             ],
             [
              1,
              "#f0f921"
             ]
            ],
            "type": "heatmapgl"
           }
          ],
          "histogram": [
           {
            "marker": {
             "pattern": {
              "fillmode": "overlay",
              "size": 10,
              "solidity": 0.2
             }
            },
            "type": "histogram"
           }
          ],
          "histogram2d": [
           {
            "colorbar": {
             "outlinewidth": 0,
             "ticks": ""
            },
            "colorscale": [
             [
              0,
              "#0d0887"
             ],
             [
              0.1111111111111111,
              "#46039f"
             ],
             [
              0.2222222222222222,
              "#7201a8"
             ],
             [
              0.3333333333333333,
              "#9c179e"
             ],
             [
              0.4444444444444444,
              "#bd3786"
             ],
             [
              0.5555555555555556,
              "#d8576b"
             ],
             [
              0.6666666666666666,
              "#ed7953"
             ],
             [
              0.7777777777777778,
              "#fb9f3a"
             ],
             [
              0.8888888888888888,
              "#fdca26"
             ],
             [
              1,
              "#f0f921"
             ]
            ],
            "type": "histogram2d"
           }
          ],
          "histogram2dcontour": [
           {
            "colorbar": {
             "outlinewidth": 0,
             "ticks": ""
            },
            "colorscale": [
             [
              0,
              "#0d0887"
             ],
             [
              0.1111111111111111,
              "#46039f"
             ],
             [
              0.2222222222222222,
              "#7201a8"
             ],
             [
              0.3333333333333333,
              "#9c179e"
             ],
             [
              0.4444444444444444,
              "#bd3786"
             ],
             [
              0.5555555555555556,
              "#d8576b"
             ],
             [
              0.6666666666666666,
              "#ed7953"
             ],
             [
              0.7777777777777778,
              "#fb9f3a"
             ],
             [
              0.8888888888888888,
              "#fdca26"
             ],
             [
              1,
              "#f0f921"
             ]
            ],
            "type": "histogram2dcontour"
           }
          ],
          "mesh3d": [
           {
            "colorbar": {
             "outlinewidth": 0,
             "ticks": ""
            },
            "type": "mesh3d"
           }
          ],
          "parcoords": [
           {
            "line": {
             "colorbar": {
              "outlinewidth": 0,
              "ticks": ""
             }
            },
            "type": "parcoords"
           }
          ],
          "pie": [
           {
            "automargin": true,
            "type": "pie"
           }
          ],
          "scatter": [
           {
            "fillpattern": {
             "fillmode": "overlay",
             "size": 10,
             "solidity": 0.2
            },
            "type": "scatter"
           }
          ],
          "scatter3d": [
           {
            "line": {
             "colorbar": {
              "outlinewidth": 0,
              "ticks": ""
             }
            },
            "marker": {
             "colorbar": {
              "outlinewidth": 0,
              "ticks": ""
             }
            },
            "type": "scatter3d"
           }
          ],
          "scattercarpet": [
           {
            "marker": {
             "colorbar": {
              "outlinewidth": 0,
              "ticks": ""
             }
            },
            "type": "scattercarpet"
           }
          ],
          "scattergeo": [
           {
            "marker": {
             "colorbar": {
              "outlinewidth": 0,
              "ticks": ""
             }
            },
            "type": "scattergeo"
           }
          ],
          "scattergl": [
           {
            "marker": {
             "colorbar": {
              "outlinewidth": 0,
              "ticks": ""
             }
            },
            "type": "scattergl"
           }
          ],
          "scattermapbox": [
           {
            "marker": {
             "colorbar": {
              "outlinewidth": 0,
              "ticks": ""
             }
            },
            "type": "scattermapbox"
           }
          ],
          "scatterpolar": [
           {
            "marker": {
             "colorbar": {
              "outlinewidth": 0,
              "ticks": ""
             }
            },
            "type": "scatterpolar"
           }
          ],
          "scatterpolargl": [
           {
            "marker": {
             "colorbar": {
              "outlinewidth": 0,
              "ticks": ""
             }
            },
            "type": "scatterpolargl"
           }
          ],
          "scatterternary": [
           {
            "marker": {
             "colorbar": {
              "outlinewidth": 0,
              "ticks": ""
             }
            },
            "type": "scatterternary"
           }
          ],
          "surface": [
           {
            "colorbar": {
             "outlinewidth": 0,
             "ticks": ""
            },
            "colorscale": [
             [
              0,
              "#0d0887"
             ],
             [
              0.1111111111111111,
              "#46039f"
             ],
             [
              0.2222222222222222,
              "#7201a8"
             ],
             [
              0.3333333333333333,
              "#9c179e"
             ],
             [
              0.4444444444444444,
              "#bd3786"
             ],
             [
              0.5555555555555556,
              "#d8576b"
             ],
             [
              0.6666666666666666,
              "#ed7953"
             ],
             [
              0.7777777777777778,
              "#fb9f3a"
             ],
             [
              0.8888888888888888,
              "#fdca26"
             ],
             [
              1,
              "#f0f921"
             ]
            ],
            "type": "surface"
           }
          ],
          "table": [
           {
            "cells": {
             "fill": {
              "color": "#EBF0F8"
             },
             "line": {
              "color": "white"
             }
            },
            "header": {
             "fill": {
              "color": "#C8D4E3"
             },
             "line": {
              "color": "white"
             }
            },
            "type": "table"
           }
          ]
         },
         "layout": {
          "annotationdefaults": {
           "arrowcolor": "#2a3f5f",
           "arrowhead": 0,
           "arrowwidth": 1
          },
          "autotypenumbers": "strict",
          "coloraxis": {
           "colorbar": {
            "outlinewidth": 0,
            "ticks": ""
           }
          },
          "colorscale": {
           "diverging": [
            [
             0,
             "#8e0152"
            ],
            [
             0.1,
             "#c51b7d"
            ],
            [
             0.2,
             "#de77ae"
            ],
            [
             0.3,
             "#f1b6da"
            ],
            [
             0.4,
             "#fde0ef"
            ],
            [
             0.5,
             "#f7f7f7"
            ],
            [
             0.6,
             "#e6f5d0"
            ],
            [
             0.7,
             "#b8e186"
            ],
            [
             0.8,
             "#7fbc41"
            ],
            [
             0.9,
             "#4d9221"
            ],
            [
             1,
             "#276419"
            ]
           ],
           "sequential": [
            [
             0,
             "#0d0887"
            ],
            [
             0.1111111111111111,
             "#46039f"
            ],
            [
             0.2222222222222222,
             "#7201a8"
            ],
            [
             0.3333333333333333,
             "#9c179e"
            ],
            [
             0.4444444444444444,
             "#bd3786"
            ],
            [
             0.5555555555555556,
             "#d8576b"
            ],
            [
             0.6666666666666666,
             "#ed7953"
            ],
            [
             0.7777777777777778,
             "#fb9f3a"
            ],
            [
             0.8888888888888888,
             "#fdca26"
            ],
            [
             1,
             "#f0f921"
            ]
           ],
           "sequentialminus": [
            [
             0,
             "#0d0887"
            ],
            [
             0.1111111111111111,
             "#46039f"
            ],
            [
             0.2222222222222222,
             "#7201a8"
            ],
            [
             0.3333333333333333,
             "#9c179e"
            ],
            [
             0.4444444444444444,
             "#bd3786"
            ],
            [
             0.5555555555555556,
             "#d8576b"
            ],
            [
             0.6666666666666666,
             "#ed7953"
            ],
            [
             0.7777777777777778,
             "#fb9f3a"
            ],
            [
             0.8888888888888888,
             "#fdca26"
            ],
            [
             1,
             "#f0f921"
            ]
           ]
          },
          "colorway": [
           "#636efa",
           "#EF553B",
           "#00cc96",
           "#ab63fa",
           "#FFA15A",
           "#19d3f3",
           "#FF6692",
           "#B6E880",
           "#FF97FF",
           "#FECB52"
          ],
          "font": {
           "color": "#2a3f5f"
          },
          "geo": {
           "bgcolor": "white",
           "lakecolor": "white",
           "landcolor": "#E5ECF6",
           "showlakes": true,
           "showland": true,
           "subunitcolor": "white"
          },
          "hoverlabel": {
           "align": "left"
          },
          "hovermode": "closest",
          "mapbox": {
           "style": "light"
          },
          "paper_bgcolor": "white",
          "plot_bgcolor": "#E5ECF6",
          "polar": {
           "angularaxis": {
            "gridcolor": "white",
            "linecolor": "white",
            "ticks": ""
           },
           "bgcolor": "#E5ECF6",
           "radialaxis": {
            "gridcolor": "white",
            "linecolor": "white",
            "ticks": ""
           }
          },
          "scene": {
           "xaxis": {
            "backgroundcolor": "#E5ECF6",
            "gridcolor": "white",
            "gridwidth": 2,
            "linecolor": "white",
            "showbackground": true,
            "ticks": "",
            "zerolinecolor": "white"
           },
           "yaxis": {
            "backgroundcolor": "#E5ECF6",
            "gridcolor": "white",
            "gridwidth": 2,
            "linecolor": "white",
            "showbackground": true,
            "ticks": "",
            "zerolinecolor": "white"
           },
           "zaxis": {
            "backgroundcolor": "#E5ECF6",
            "gridcolor": "white",
            "gridwidth": 2,
            "linecolor": "white",
            "showbackground": true,
            "ticks": "",
            "zerolinecolor": "white"
           }
          },
          "shapedefaults": {
           "line": {
            "color": "#2a3f5f"
           }
          },
          "ternary": {
           "aaxis": {
            "gridcolor": "white",
            "linecolor": "white",
            "ticks": ""
           },
           "baxis": {
            "gridcolor": "white",
            "linecolor": "white",
            "ticks": ""
           },
           "bgcolor": "#E5ECF6",
           "caxis": {
            "gridcolor": "white",
            "linecolor": "white",
            "ticks": ""
           }
          },
          "title": {
           "x": 0.05
          },
          "xaxis": {
           "automargin": true,
           "gridcolor": "white",
           "linecolor": "white",
           "ticks": "",
           "title": {
            "standoff": 15
           },
           "zerolinecolor": "white",
           "zerolinewidth": 2
          },
          "yaxis": {
           "automargin": true,
           "gridcolor": "white",
           "linecolor": "white",
           "ticks": "",
           "title": {
            "standoff": 15
           },
           "zerolinecolor": "white",
           "zerolinewidth": 2
          }
         }
        },
        "title": {
         "text": "Hyperparameter Importances"
        },
        "xaxis": {
         "title": {
          "text": "Importance for Objective Value"
         }
        },
        "yaxis": {
         "title": {
          "text": "Hyperparameter"
         }
        }
       }
      }
     },
     "metadata": {},
     "output_type": "display_data"
    }
   ],
   "source": [
    "fig = optuna.visualization.plot_param_importances(study)\n",
    "fig.show()"
   ]
  },
  {
   "cell_type": "code",
   "execution_count": 32,
   "metadata": {},
   "outputs": [
    {
     "data": {
      "text/plain": [
       "{'max_depth': 7,\n",
       " 'learning_rate': 0.040338409359276746,\n",
       " 'n_estimators': 63,\n",
       " 'min_child_weight': 1}"
      ]
     },
     "execution_count": 32,
     "metadata": {},
     "output_type": "execute_result"
    }
   ],
   "source": [
    "best_params"
   ]
  },
  {
   "cell_type": "code",
   "execution_count": 33,
   "metadata": {},
   "outputs": [
    {
     "data": {
      "text/html": [
       "<style>#sk-container-id-1 {color: black;background-color: white;}#sk-container-id-1 pre{padding: 0;}#sk-container-id-1 div.sk-toggleable {background-color: white;}#sk-container-id-1 label.sk-toggleable__label {cursor: pointer;display: block;width: 100%;margin-bottom: 0;padding: 0.3em;box-sizing: border-box;text-align: center;}#sk-container-id-1 label.sk-toggleable__label-arrow:before {content: \"▸\";float: left;margin-right: 0.25em;color: #696969;}#sk-container-id-1 label.sk-toggleable__label-arrow:hover:before {color: black;}#sk-container-id-1 div.sk-estimator:hover label.sk-toggleable__label-arrow:before {color: black;}#sk-container-id-1 div.sk-toggleable__content {max-height: 0;max-width: 0;overflow: hidden;text-align: left;background-color: #f0f8ff;}#sk-container-id-1 div.sk-toggleable__content pre {margin: 0.2em;color: black;border-radius: 0.25em;background-color: #f0f8ff;}#sk-container-id-1 input.sk-toggleable__control:checked~div.sk-toggleable__content {max-height: 200px;max-width: 100%;overflow: auto;}#sk-container-id-1 input.sk-toggleable__control:checked~label.sk-toggleable__label-arrow:before {content: \"▾\";}#sk-container-id-1 div.sk-estimator input.sk-toggleable__control:checked~label.sk-toggleable__label {background-color: #d4ebff;}#sk-container-id-1 div.sk-label input.sk-toggleable__control:checked~label.sk-toggleable__label {background-color: #d4ebff;}#sk-container-id-1 input.sk-hidden--visually {border: 0;clip: rect(1px 1px 1px 1px);clip: rect(1px, 1px, 1px, 1px);height: 1px;margin: -1px;overflow: hidden;padding: 0;position: absolute;width: 1px;}#sk-container-id-1 div.sk-estimator {font-family: monospace;background-color: #f0f8ff;border: 1px dotted black;border-radius: 0.25em;box-sizing: border-box;margin-bottom: 0.5em;}#sk-container-id-1 div.sk-estimator:hover {background-color: #d4ebff;}#sk-container-id-1 div.sk-parallel-item::after {content: \"\";width: 100%;border-bottom: 1px solid gray;flex-grow: 1;}#sk-container-id-1 div.sk-label:hover label.sk-toggleable__label {background-color: #d4ebff;}#sk-container-id-1 div.sk-serial::before {content: \"\";position: absolute;border-left: 1px solid gray;box-sizing: border-box;top: 0;bottom: 0;left: 50%;z-index: 0;}#sk-container-id-1 div.sk-serial {display: flex;flex-direction: column;align-items: center;background-color: white;padding-right: 0.2em;padding-left: 0.2em;position: relative;}#sk-container-id-1 div.sk-item {position: relative;z-index: 1;}#sk-container-id-1 div.sk-parallel {display: flex;align-items: stretch;justify-content: center;background-color: white;position: relative;}#sk-container-id-1 div.sk-item::before, #sk-container-id-1 div.sk-parallel-item::before {content: \"\";position: absolute;border-left: 1px solid gray;box-sizing: border-box;top: 0;bottom: 0;left: 50%;z-index: -1;}#sk-container-id-1 div.sk-parallel-item {display: flex;flex-direction: column;z-index: 1;position: relative;background-color: white;}#sk-container-id-1 div.sk-parallel-item:first-child::after {align-self: flex-end;width: 50%;}#sk-container-id-1 div.sk-parallel-item:last-child::after {align-self: flex-start;width: 50%;}#sk-container-id-1 div.sk-parallel-item:only-child::after {width: 0;}#sk-container-id-1 div.sk-dashed-wrapped {border: 1px dashed gray;margin: 0 0.4em 0.5em 0.4em;box-sizing: border-box;padding-bottom: 0.4em;background-color: white;}#sk-container-id-1 div.sk-label label {font-family: monospace;font-weight: bold;display: inline-block;line-height: 1.2em;}#sk-container-id-1 div.sk-label-container {text-align: center;}#sk-container-id-1 div.sk-container {/* jupyter's `normalize.less` sets `[hidden] { display: none; }` but bootstrap.min.css set `[hidden] { display: none !important; }` so we also need the `!important` here to be able to override the default hidden behavior on the sphinx rendered scikit-learn.org. See: https://github.com/scikit-learn/scikit-learn/issues/21755 */display: inline-block !important;position: relative;}#sk-container-id-1 div.sk-text-repr-fallback {display: none;}</style><div id=\"sk-container-id-1\" class=\"sk-top-container\"><div class=\"sk-text-repr-fallback\"><pre>XGBClassifier(base_score=None, booster=None, callbacks=None,\n",
       "              colsample_bylevel=None, colsample_bynode=None,\n",
       "              colsample_bytree=None, early_stopping_rounds=None,\n",
       "              enable_categorical=False, eval_metric=None, feature_types=None,\n",
       "              gamma=None, gpu_id=None, grow_policy=None, importance_type=None,\n",
       "              interaction_constraints=None, learning_rate=0.040338409359276746,\n",
       "              max_bin=None, max_cat_threshold=None, max_cat_to_onehot=None,\n",
       "              max_delta_step=None, max_depth=7, max_leaves=None,\n",
       "              min_child_weight=1, missing=nan, monotone_constraints=None,\n",
       "              n_estimators=63, n_jobs=None, num_parallel_tree=None,\n",
       "              objective=&#x27;multi:softprob&#x27;, predictor=None, ...)</pre><b>In a Jupyter environment, please rerun this cell to show the HTML representation or trust the notebook. <br />On GitHub, the HTML representation is unable to render, please try loading this page with nbviewer.org.</b></div><div class=\"sk-container\" hidden><div class=\"sk-item\"><div class=\"sk-estimator sk-toggleable\"><input class=\"sk-toggleable__control sk-hidden--visually\" id=\"sk-estimator-id-1\" type=\"checkbox\" checked><label for=\"sk-estimator-id-1\" class=\"sk-toggleable__label sk-toggleable__label-arrow\">XGBClassifier</label><div class=\"sk-toggleable__content\"><pre>XGBClassifier(base_score=None, booster=None, callbacks=None,\n",
       "              colsample_bylevel=None, colsample_bynode=None,\n",
       "              colsample_bytree=None, early_stopping_rounds=None,\n",
       "              enable_categorical=False, eval_metric=None, feature_types=None,\n",
       "              gamma=None, gpu_id=None, grow_policy=None, importance_type=None,\n",
       "              interaction_constraints=None, learning_rate=0.040338409359276746,\n",
       "              max_bin=None, max_cat_threshold=None, max_cat_to_onehot=None,\n",
       "              max_delta_step=None, max_depth=7, max_leaves=None,\n",
       "              min_child_weight=1, missing=nan, monotone_constraints=None,\n",
       "              n_estimators=63, n_jobs=None, num_parallel_tree=None,\n",
       "              objective=&#x27;multi:softprob&#x27;, predictor=None, ...)</pre></div></div></div></div></div>"
      ],
      "text/plain": [
       "XGBClassifier(base_score=None, booster=None, callbacks=None,\n",
       "              colsample_bylevel=None, colsample_bynode=None,\n",
       "              colsample_bytree=None, early_stopping_rounds=None,\n",
       "              enable_categorical=False, eval_metric=None, feature_types=None,\n",
       "              gamma=None, gpu_id=None, grow_policy=None, importance_type=None,\n",
       "              interaction_constraints=None, learning_rate=0.040338409359276746,\n",
       "              max_bin=None, max_cat_threshold=None, max_cat_to_onehot=None,\n",
       "              max_delta_step=None, max_depth=7, max_leaves=None,\n",
       "              min_child_weight=1, missing=nan, monotone_constraints=None,\n",
       "              n_estimators=63, n_jobs=None, num_parallel_tree=None,\n",
       "              objective='multi:softprob', predictor=None, ...)"
      ]
     },
     "execution_count": 33,
     "metadata": {},
     "output_type": "execute_result"
    }
   ],
   "source": [
    "model = xgb.XGBClassifier(**best_params)\n",
    "model.fit(X_train, y_train)"
   ]
  },
  {
   "cell_type": "code",
   "execution_count": 35,
   "metadata": {},
   "outputs": [],
   "source": [
    "import pickle\n",
    "\n",
    "with open('eeg_to_mh_state.pkl', 'wb') as model_file:\n",
    "    pickle.dump(model, model_file)"
   ]
  }
 ],
 "metadata": {
  "kernelspec": {
   "display_name": "brainwave_project",
   "language": "python",
   "name": "python3"
  },
  "language_info": {
   "codemirror_mode": {
    "name": "ipython",
    "version": 3
   },
   "file_extension": ".py",
   "mimetype": "text/x-python",
   "name": "python",
   "nbconvert_exporter": "python",
   "pygments_lexer": "ipython3",
   "version": "3.10.13"
  }
 },
 "nbformat": 4,
 "nbformat_minor": 2
}
