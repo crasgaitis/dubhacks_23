{
 "cells": [
  {
   "cell_type": "code",
   "execution_count": 1,
   "metadata": {},
   "outputs": [],
   "source": [
    "import re\n",
    "import numpy as np\n",
    "import pandas as pd"
   ]
  },
  {
   "cell_type": "markdown",
   "metadata": {},
   "source": [
    "### Mega dataset"
   ]
  },
  {
   "cell_type": "code",
   "execution_count": 2,
   "metadata": {},
   "outputs": [],
   "source": [
    "def compute_average(group_name, df):\n",
    "    group_columns = [col for col in df.columns if group_name in col]\n",
    "    return df[group_columns].mean(axis=1)"
   ]
  },
  {
   "cell_type": "code",
   "execution_count": 3,
   "metadata": {},
   "outputs": [
    {
     "data": {
      "text/html": [
       "<div>\n",
       "<style scoped>\n",
       "    .dataframe tbody tr th:only-of-type {\n",
       "        vertical-align: middle;\n",
       "    }\n",
       "\n",
       "    .dataframe tbody tr th {\n",
       "        vertical-align: top;\n",
       "    }\n",
       "\n",
       "    .dataframe thead th {\n",
       "        text-align: right;\n",
       "    }\n",
       "</style>\n",
       "<table border=\"1\" class=\"dataframe\">\n",
       "  <thead>\n",
       "    <tr style=\"text-align: right;\">\n",
       "      <th></th>\n",
       "      <th>specific.disorder</th>\n",
       "      <th>Alpha</th>\n",
       "      <th>Beta</th>\n",
       "      <th>Delta</th>\n",
       "      <th>Theta</th>\n",
       "    </tr>\n",
       "  </thead>\n",
       "  <tbody>\n",
       "    <tr>\n",
       "      <th>31</th>\n",
       "      <td>Acute stress disorder</td>\n",
       "      <td>38.488424</td>\n",
       "      <td>40.882201</td>\n",
       "      <td>39.141091</td>\n",
       "      <td>45.713918</td>\n",
       "    </tr>\n",
       "    <tr>\n",
       "      <th>32</th>\n",
       "      <td>Acute stress disorder</td>\n",
       "      <td>47.368559</td>\n",
       "      <td>48.817112</td>\n",
       "      <td>56.639885</td>\n",
       "      <td>50.719569</td>\n",
       "    </tr>\n",
       "    <tr>\n",
       "      <th>33</th>\n",
       "      <td>Acute stress disorder</td>\n",
       "      <td>51.872822</td>\n",
       "      <td>22.322245</td>\n",
       "      <td>23.398190</td>\n",
       "      <td>37.223425</td>\n",
       "    </tr>\n",
       "    <tr>\n",
       "      <th>34</th>\n",
       "      <td>Acute stress disorder</td>\n",
       "      <td>36.092599</td>\n",
       "      <td>32.847147</td>\n",
       "      <td>35.471763</td>\n",
       "      <td>43.941132</td>\n",
       "    </tr>\n",
       "    <tr>\n",
       "      <th>35</th>\n",
       "      <td>Acute stress disorder</td>\n",
       "      <td>28.514535</td>\n",
       "      <td>29.422266</td>\n",
       "      <td>33.819716</td>\n",
       "      <td>28.055607</td>\n",
       "    </tr>\n",
       "  </tbody>\n",
       "</table>\n",
       "</div>"
      ],
      "text/plain": [
       "        specific.disorder      Alpha       Beta      Delta      Theta\n",
       "31  Acute stress disorder  38.488424  40.882201  39.141091  45.713918\n",
       "32  Acute stress disorder  47.368559  48.817112  56.639885  50.719569\n",
       "33  Acute stress disorder  51.872822  22.322245  23.398190  37.223425\n",
       "34  Acute stress disorder  36.092599  32.847147  35.471763  43.941132\n",
       "35  Acute stress disorder  28.514535  29.422266  33.819716  28.055607"
      ]
     },
     "execution_count": 3,
     "metadata": {},
     "output_type": "execute_result"
    }
   ],
   "source": [
    "df2 = pd.read_csv('../build_dataset/paper_data.csv')\n",
    "\n",
    "# Initialize a new DataFrame to store the average values\n",
    "paper_df = pd.DataFrame()\n",
    "\n",
    "# Sort\n",
    "df2 = df2[df2['specific.disorder'].isin(['Acute stress disorder', 'Healthy control', 'Depressive disorder'])]\n",
    "\n",
    "paper_df['specific.disorder'] = df2['specific.disorder']\n",
    "\n",
    "# Iterate through each group and compute the average\n",
    "groups = ['alpha', 'beta', 'delta', 'theta']\n",
    "for group in groups:\n",
    "    paper_df[f'{group}'] = compute_average(group, df2)\n",
    "\n",
    "new_column_names = {'alpha': 'Alpha', 'beta': 'Beta', 'theta': 'Theta', 'delta': 'Delta'}\n",
    "paper_df.rename(columns=new_column_names, inplace=True)\n",
    "\n",
    "paper_df.head()"
   ]
  },
  {
   "cell_type": "code",
   "execution_count": 4,
   "metadata": {},
   "outputs": [
    {
     "data": {
      "text/html": [
       "<div>\n",
       "<style scoped>\n",
       "    .dataframe tbody tr th:only-of-type {\n",
       "        vertical-align: middle;\n",
       "    }\n",
       "\n",
       "    .dataframe tbody tr th {\n",
       "        vertical-align: top;\n",
       "    }\n",
       "\n",
       "    .dataframe thead th {\n",
       "        text-align: right;\n",
       "    }\n",
       "</style>\n",
       "<table border=\"1\" class=\"dataframe\">\n",
       "  <thead>\n",
       "    <tr style=\"text-align: right;\">\n",
       "      <th></th>\n",
       "      <th>Delta</th>\n",
       "      <th>Theta</th>\n",
       "      <th>Alpha</th>\n",
       "      <th>Beta</th>\n",
       "      <th>specific.disorder</th>\n",
       "    </tr>\n",
       "  </thead>\n",
       "  <tbody>\n",
       "    <tr>\n",
       "      <th>0</th>\n",
       "      <td>12.245460</td>\n",
       "      <td>8.674308</td>\n",
       "      <td>7.131809</td>\n",
       "      <td>10.013944</td>\n",
       "      <td>happy</td>\n",
       "    </tr>\n",
       "    <tr>\n",
       "      <th>1</th>\n",
       "      <td>18.082690</td>\n",
       "      <td>15.852509</td>\n",
       "      <td>12.739708</td>\n",
       "      <td>14.830145</td>\n",
       "      <td>happy</td>\n",
       "    </tr>\n",
       "    <tr>\n",
       "      <th>2</th>\n",
       "      <td>18.653089</td>\n",
       "      <td>15.062034</td>\n",
       "      <td>11.989570</td>\n",
       "      <td>15.140479</td>\n",
       "      <td>happy</td>\n",
       "    </tr>\n",
       "    <tr>\n",
       "      <th>3</th>\n",
       "      <td>21.838218</td>\n",
       "      <td>17.541182</td>\n",
       "      <td>13.624017</td>\n",
       "      <td>17.053419</td>\n",
       "      <td>happy</td>\n",
       "    </tr>\n",
       "    <tr>\n",
       "      <th>4</th>\n",
       "      <td>22.067904</td>\n",
       "      <td>17.228788</td>\n",
       "      <td>14.240932</td>\n",
       "      <td>17.332920</td>\n",
       "      <td>happy</td>\n",
       "    </tr>\n",
       "  </tbody>\n",
       "</table>\n",
       "</div>"
      ],
      "text/plain": [
       "       Delta      Theta      Alpha       Beta specific.disorder\n",
       "0  12.245460   8.674308   7.131809  10.013944             happy\n",
       "1  18.082690  15.852509  12.739708  14.830145             happy\n",
       "2  18.653089  15.062034  11.989570  15.140479             happy\n",
       "3  21.838218  17.541182  13.624017  17.053419             happy\n",
       "4  22.067904  17.228788  14.240932  17.332920             happy"
      ]
     },
     "execution_count": 4,
     "metadata": {},
     "output_type": "execute_result"
    }
   ],
   "source": [
    "import pandas as pd\n",
    "\n",
    "df1 = pd.read_csv('../build_dataset/mega_preprocessed_data.csv')\n",
    "\n",
    "df = pd.concat([df1, paper_df], axis=0, ignore_index=True)\n",
    "df.head()"
   ]
  },
  {
   "cell_type": "code",
   "execution_count": 5,
   "metadata": {},
   "outputs": [
    {
     "data": {
      "text/plain": [
       "Depressive disorder      199\n",
       "Healthy control           95\n",
       "Acute stress disorder     38\n",
       "happy                      6\n",
       "Name: specific.disorder, dtype: int64"
      ]
     },
     "execution_count": 5,
     "metadata": {},
     "output_type": "execute_result"
    }
   ],
   "source": [
    "df['specific.disorder'].value_counts()"
   ]
  },
  {
   "cell_type": "code",
   "execution_count": 6,
   "metadata": {},
   "outputs": [
    {
     "name": "stdout",
     "output_type": "stream",
     "text": [
      "<class 'pandas.core.frame.DataFrame'>\n",
      "RangeIndex: 338 entries, 0 to 337\n",
      "Data columns (total 5 columns):\n",
      " #   Column             Non-Null Count  Dtype  \n",
      "---  ------             --------------  -----  \n",
      " 0   Delta              338 non-null    float64\n",
      " 1   Theta              338 non-null    float64\n",
      " 2   Alpha              338 non-null    float64\n",
      " 3   Beta               338 non-null    float64\n",
      " 4   specific.disorder  338 non-null    object \n",
      "dtypes: float64(4), object(1)\n",
      "memory usage: 13.3+ KB\n"
     ]
    }
   ],
   "source": [
    "df.info()"
   ]
  },
  {
   "cell_type": "code",
   "execution_count": 7,
   "metadata": {},
   "outputs": [
    {
     "name": "stdout",
     "output_type": "stream",
     "text": [
      "       Delta      Theta      Alpha       Beta specific.disorder\n",
      "0  12.245460   8.674308   7.131809  10.013944             happy\n",
      "1  18.082690  15.852509  12.739708  14.830145             happy\n",
      "2  18.653089  15.062034  11.989570  15.140479             happy\n",
      "3  21.838218  17.541182  13.624017  17.053419             happy\n",
      "4  22.067904  17.228788  14.240932  17.332920             happy\n"
     ]
    }
   ],
   "source": [
    "print(df.head())"
   ]
  },
  {
   "cell_type": "code",
   "execution_count": 8,
   "metadata": {},
   "outputs": [
    {
     "data": {
      "text/plain": [
       "Depressive disorder      199\n",
       "Healthy control           95\n",
       "Acute stress disorder     38\n",
       "happy                      6\n",
       "Name: specific.disorder, dtype: int64"
      ]
     },
     "execution_count": 8,
     "metadata": {},
     "output_type": "execute_result"
    }
   ],
   "source": [
    "df['specific.disorder'].value_counts()"
   ]
  },
  {
   "cell_type": "markdown",
   "metadata": {},
   "source": [
    "### Build model"
   ]
  },
  {
   "cell_type": "code",
   "execution_count": 9,
   "metadata": {},
   "outputs": [
    {
     "name": "stdout",
     "output_type": "stream",
     "text": [
      "Accuracy: 52.94%\n"
     ]
    }
   ],
   "source": [
    "import pandas as pd\n",
    "import xgboost as xgb\n",
    "from sklearn.model_selection import train_test_split\n",
    "from sklearn.preprocessing import LabelEncoder\n",
    "from sklearn.metrics import accuracy_score\n",
    "\n",
    "X = df[['Delta', 'Theta', 'Alpha', 'Beta']]\n",
    "y = df['specific.disorder']\n",
    "\n",
    "label_encoder = LabelEncoder()\n",
    "y = label_encoder.fit_transform(y)\n",
    "\n",
    "X_train, X_test, y_train, y_test = train_test_split(X, y, test_size=0.2, random_state=42)\n",
    "\n",
    "model = xgb.XGBClassifier(objective='multi:softmax')\n",
    "\n",
    "# Train the model\n",
    "model.fit(X_train, y_train)\n",
    "\n",
    "# Make predictions on the test data\n",
    "y_pred = model.predict(X_test)\n",
    "\n",
    "# Evaluate the model\n",
    "accuracy = accuracy_score(y_test, y_pred)\n",
    "print(\"Accuracy: %.2f%%\" % (accuracy * 100))\n"
   ]
  },
  {
   "cell_type": "code",
   "execution_count": 10,
   "metadata": {},
   "outputs": [
    {
     "name": "stdout",
     "output_type": "stream",
     "text": [
      "Label Encoding Mapping:\n",
      "Acute stress disorder -> 0\n",
      "Depressive disorder -> 1\n",
      "Healthy control -> 2\n",
      "happy -> 3\n"
     ]
    }
   ],
   "source": [
    "encoding_mapping = dict(zip(label_encoder.classes_, label_encoder.transform(label_encoder.classes_)))\n",
    "\n",
    "# Print the mapping\n",
    "print(\"Label Encoding Mapping:\")\n",
    "for class_name, encoded_value in encoding_mapping.items():\n",
    "    print(f\"{class_name} -> {encoded_value}\")"
   ]
  },
  {
   "cell_type": "code",
   "execution_count": 11,
   "metadata": {},
   "outputs": [
    {
     "data": {
      "text/plain": [
       "array([0, 1, 2, 2, 1, 1, 1, 1, 0, 1, 2, 1, 1, 1, 1, 2, 0, 1, 1, 1, 1, 2,\n",
       "       2, 1, 1, 1, 1, 1, 1, 1, 1, 1, 1, 3, 1, 2, 1, 1, 1, 3, 1, 1, 1, 1,\n",
       "       1, 1, 0, 1, 2, 2, 1, 1, 2, 0, 1, 1, 2, 1, 1, 1, 1, 1, 1, 2, 1, 1,\n",
       "       1, 2])"
      ]
     },
     "execution_count": 11,
     "metadata": {},
     "output_type": "execute_result"
    }
   ],
   "source": [
    "y_pred"
   ]
  },
  {
   "cell_type": "markdown",
   "metadata": {},
   "source": [
    "#### Optuna"
   ]
  },
  {
   "cell_type": "code",
   "execution_count": 12,
   "metadata": {},
   "outputs": [
    {
     "name": "stderr",
     "output_type": "stream",
     "text": [
      "c:\\Users\\catra\\anaconda3\\envs\\brainwave_project\\lib\\site-packages\\tqdm\\auto.py:22: TqdmWarning: IProgress not found. Please update jupyter and ipywidgets. See https://ipywidgets.readthedocs.io/en/stable/user_install.html\n",
      "  from .autonotebook import tqdm as notebook_tqdm\n",
      "[I 2023-10-14 14:25:43,399] A new study created in memory with name: no-name-ab106fce-0cf7-452b-875b-88315204cd4f\n",
      "[I 2023-10-14 14:25:43,904] Trial 0 finished with value: 0.5294117647058824 and parameters: {'max_depth': 10, 'learning_rate': 0.04593273909656244, 'n_estimators': 188, 'min_child_weight': 3}. Best is trial 0 with value: 0.5294117647058824.\n",
      "[I 2023-10-14 14:25:44,089] Trial 1 finished with value: 0.5294117647058824 and parameters: {'max_depth': 3, 'learning_rate': 0.17551448888924445, 'n_estimators': 157, 'min_child_weight': 5}. Best is trial 0 with value: 0.5294117647058824.\n",
      "[I 2023-10-14 14:25:44,380] Trial 2 finished with value: 0.47058823529411764 and parameters: {'max_depth': 4, 'learning_rate': 0.13431661555086566, 'n_estimators': 187, 'min_child_weight': 7}. Best is trial 0 with value: 0.5294117647058824.\n",
      "[I 2023-10-14 14:25:44,910] Trial 3 finished with value: 0.5 and parameters: {'max_depth': 10, 'learning_rate': 0.06813144938618915, 'n_estimators': 152, 'min_child_weight': 1}. Best is trial 0 with value: 0.5294117647058824.\n",
      "[I 2023-10-14 14:25:45,020] Trial 4 finished with value: 0.5147058823529411 and parameters: {'max_depth': 8, 'learning_rate': 0.12407243743525735, 'n_estimators': 51, 'min_child_weight': 6}. Best is trial 0 with value: 0.5294117647058824.\n",
      "[I 2023-10-14 14:25:45,274] Trial 5 finished with value: 0.4852941176470588 and parameters: {'max_depth': 5, 'learning_rate': 0.0743389938085515, 'n_estimators': 156, 'min_child_weight': 6}. Best is trial 0 with value: 0.5294117647058824.\n",
      "[I 2023-10-14 14:25:45,499] Trial 6 finished with value: 0.5 and parameters: {'max_depth': 5, 'learning_rate': 0.039038785548858965, 'n_estimators': 179, 'min_child_weight': 10}. Best is trial 0 with value: 0.5294117647058824.\n",
      "[I 2023-10-14 14:25:45,654] Trial 7 finished with value: 0.5147058823529411 and parameters: {'max_depth': 7, 'learning_rate': 0.2793533491113778, 'n_estimators': 90, 'min_child_weight': 3}. Best is trial 0 with value: 0.5294117647058824.\n",
      "[I 2023-10-14 14:25:45,909] Trial 8 finished with value: 0.4852941176470588 and parameters: {'max_depth': 6, 'learning_rate': 0.09232250050840184, 'n_estimators': 169, 'min_child_weight': 7}. Best is trial 0 with value: 0.5294117647058824.\n",
      "[I 2023-10-14 14:25:46,239] Trial 9 finished with value: 0.47058823529411764 and parameters: {'max_depth': 8, 'learning_rate': 0.02122433610461805, 'n_estimators': 174, 'min_child_weight': 10}. Best is trial 0 with value: 0.5294117647058824.\n",
      "[I 2023-10-14 14:25:46,650] Trial 10 finished with value: 0.4411764705882353 and parameters: {'max_depth': 10, 'learning_rate': 0.02537388854001832, 'n_estimators': 118, 'min_child_weight': 1}. Best is trial 0 with value: 0.5294117647058824.\n",
      "[I 2023-10-14 14:25:46,939] Trial 11 finished with value: 0.47058823529411764 and parameters: {'max_depth': 3, 'learning_rate': 0.18714528890145576, 'n_estimators': 200, 'min_child_weight': 4}. Best is trial 0 with value: 0.5294117647058824.\n",
      "[I 2023-10-14 14:25:47,124] Trial 12 finished with value: 0.47058823529411764 and parameters: {'max_depth': 3, 'learning_rate': 0.1683681520708778, 'n_estimators': 130, 'min_child_weight': 4}. Best is trial 0 with value: 0.5294117647058824.\n",
      "[I 2023-10-14 14:25:47,449] Trial 13 finished with value: 0.5294117647058824 and parameters: {'max_depth': 9, 'learning_rate': 0.19957925979210717, 'n_estimators': 147, 'min_child_weight': 3}. Best is trial 0 with value: 0.5294117647058824.\n",
      "[I 2023-10-14 14:25:47,684] Trial 14 finished with value: 0.47058823529411764 and parameters: {'max_depth': 6, 'learning_rate': 0.11455708809813019, 'n_estimators': 118, 'min_child_weight': 4}. Best is trial 0 with value: 0.5294117647058824.\n",
      "[I 2023-10-14 14:25:48,109] Trial 15 finished with value: 0.5294117647058824 and parameters: {'max_depth': 8, 'learning_rate': 0.15995125297424062, 'n_estimators': 197, 'min_child_weight': 2}. Best is trial 0 with value: 0.5294117647058824.\n",
      "[I 2023-10-14 14:25:48,350] Trial 16 finished with value: 0.4117647058823529 and parameters: {'max_depth': 4, 'learning_rate': 0.21863478425003852, 'n_estimators': 140, 'min_child_weight': 8}. Best is trial 0 with value: 0.5294117647058824.\n",
      "[I 2023-10-14 14:25:48,596] Trial 17 finished with value: 0.5294117647058824 and parameters: {'max_depth': 7, 'learning_rate': 0.055706635600081475, 'n_estimators': 99, 'min_child_weight': 5}. Best is trial 0 with value: 0.5294117647058824.\n",
      "[I 2023-10-14 14:25:48,984] Trial 18 finished with value: 0.4852941176470588 and parameters: {'max_depth': 9, 'learning_rate': 0.1420520856650353, 'n_estimators': 166, 'min_child_weight': 5}. Best is trial 0 with value: 0.5294117647058824.\n",
      "[I 2023-10-14 14:25:49,343] Trial 19 finished with value: 0.4852941176470588 and parameters: {'max_depth': 5, 'learning_rate': 0.09183396165802442, 'n_estimators': 184, 'min_child_weight': 2}. Best is trial 0 with value: 0.5294117647058824.\n",
      "[I 2023-10-14 14:25:49,545] Trial 20 finished with value: 0.5588235294117647 and parameters: {'max_depth': 9, 'learning_rate': 0.10249788397004489, 'n_estimators': 59, 'min_child_weight': 3}. Best is trial 20 with value: 0.5588235294117647.\n",
      "[I 2023-10-14 14:25:49,749] Trial 21 finished with value: 0.5294117647058824 and parameters: {'max_depth': 9, 'learning_rate': 0.10520111388922243, 'n_estimators': 62, 'min_child_weight': 3}. Best is trial 20 with value: 0.5588235294117647.\n",
      "[I 2023-10-14 14:25:50,004] Trial 22 finished with value: 0.5147058823529411 and parameters: {'max_depth': 10, 'learning_rate': 0.0449799661232186, 'n_estimators': 73, 'min_child_weight': 2}. Best is trial 20 with value: 0.5588235294117647.\n",
      "[I 2023-10-14 14:25:50,279] Trial 23 finished with value: 0.4852941176470588 and parameters: {'max_depth': 9, 'learning_rate': 0.08541132830174218, 'n_estimators': 98, 'min_child_weight': 4}. Best is trial 20 with value: 0.5588235294117647.\n",
      "[I 2023-10-14 14:25:50,684] Trial 24 finished with value: 0.5147058823529411 and parameters: {'max_depth': 10, 'learning_rate': 0.010861006772450832, 'n_estimators': 136, 'min_child_weight': 5}. Best is trial 20 with value: 0.5588235294117647.\n",
      "[I 2023-10-14 14:25:50,979] Trial 25 finished with value: 0.5147058823529411 and parameters: {'max_depth': 8, 'learning_rate': 0.06110491637470243, 'n_estimators': 81, 'min_child_weight': 3}. Best is trial 20 with value: 0.5588235294117647.\n",
      "[I 2023-10-14 14:25:51,514] Trial 26 finished with value: 0.5 and parameters: {'max_depth': 7, 'learning_rate': 0.10991427033227238, 'n_estimators': 159, 'min_child_weight': 2}. Best is trial 20 with value: 0.5588235294117647.\n",
      "[I 2023-10-14 14:25:51,960] Trial 27 finished with value: 0.4264705882352941 and parameters: {'max_depth': 9, 'learning_rate': 0.1467910623504205, 'n_estimators': 190, 'min_child_weight': 7}. Best is trial 20 with value: 0.5588235294117647.\n",
      "[I 2023-10-14 14:25:52,200] Trial 28 finished with value: 0.5294117647058824 and parameters: {'max_depth': 4, 'learning_rate': 0.04787337621502285, 'n_estimators': 114, 'min_child_weight': 5}. Best is trial 20 with value: 0.5588235294117647.\n",
      "[I 2023-10-14 14:25:52,754] Trial 29 finished with value: 0.4852941176470588 and parameters: {'max_depth': 10, 'learning_rate': 0.12810850836101076, 'n_estimators': 187, 'min_child_weight': 6}. Best is trial 20 with value: 0.5588235294117647.\n",
      "[I 2023-10-14 14:25:53,044] Trial 30 finished with value: 0.4852941176470588 and parameters: {'max_depth': 6, 'learning_rate': 0.07617619812319804, 'n_estimators': 143, 'min_child_weight': 8}. Best is trial 20 with value: 0.5588235294117647.\n",
      "[I 2023-10-14 14:25:53,484] Trial 31 finished with value: 0.5294117647058824 and parameters: {'max_depth': 9, 'learning_rate': 0.19947642593227455, 'n_estimators': 147, 'min_child_weight': 3}. Best is trial 20 with value: 0.5588235294117647.\n",
      "[I 2023-10-14 14:25:54,034] Trial 32 finished with value: 0.5147058823529411 and parameters: {'max_depth': 9, 'learning_rate': 0.13607378410714488, 'n_estimators': 165, 'min_child_weight': 1}. Best is trial 20 with value: 0.5588235294117647.\n",
      "[I 2023-10-14 14:25:54,382] Trial 33 finished with value: 0.5 and parameters: {'max_depth': 10, 'learning_rate': 0.17212044391564535, 'n_estimators': 128, 'min_child_weight': 3}. Best is trial 20 with value: 0.5588235294117647.\n",
      "[I 2023-10-14 14:25:54,684] Trial 34 finished with value: 0.5 and parameters: {'max_depth': 8, 'learning_rate': 0.21434373242347163, 'n_estimators': 155, 'min_child_weight': 4}. Best is trial 20 with value: 0.5588235294117647.\n",
      "[I 2023-10-14 14:25:55,076] Trial 35 finished with value: 0.5441176470588235 and parameters: {'max_depth': 10, 'learning_rate': 0.06941949680128899, 'n_estimators': 147, 'min_child_weight': 2}. Best is trial 20 with value: 0.5588235294117647.\n",
      "[I 2023-10-14 14:25:55,564] Trial 36 finished with value: 0.5147058823529411 and parameters: {'max_depth': 10, 'learning_rate': 0.07134923756916464, 'n_estimators': 176, 'min_child_weight': 1}. Best is trial 20 with value: 0.5588235294117647.\n",
      "[I 2023-10-14 14:25:55,999] Trial 37 finished with value: 0.5294117647058824 and parameters: {'max_depth': 10, 'learning_rate': 0.05988425100599103, 'n_estimators': 159, 'min_child_weight': 2}. Best is trial 20 with value: 0.5588235294117647.\n",
      "[I 2023-10-14 14:25:56,134] Trial 38 finished with value: 0.4852941176470588 and parameters: {'max_depth': 5, 'learning_rate': 0.031657313025583965, 'n_estimators': 51, 'min_child_weight': 6}. Best is trial 20 with value: 0.5588235294117647.\n",
      "[I 2023-10-14 14:25:56,599] Trial 39 finished with value: 0.4852941176470588 and parameters: {'max_depth': 8, 'learning_rate': 0.036446156266276966, 'n_estimators': 174, 'min_child_weight': 1}. Best is trial 20 with value: 0.5588235294117647.\n",
      "[I 2023-10-14 14:25:56,979] Trial 40 finished with value: 0.5294117647058824 and parameters: {'max_depth': 10, 'learning_rate': 0.07757059165865343, 'n_estimators': 134, 'min_child_weight': 2}. Best is trial 20 with value: 0.5588235294117647.\n",
      "[I 2023-10-14 14:25:57,342] Trial 41 finished with value: 0.5441176470588235 and parameters: {'max_depth': 9, 'learning_rate': 0.10453356279488248, 'n_estimators': 148, 'min_child_weight': 3}. Best is trial 20 with value: 0.5588235294117647.\n",
      "[I 2023-10-14 14:25:57,709] Trial 42 finished with value: 0.5147058823529411 and parameters: {'max_depth': 9, 'learning_rate': 0.09688098179307778, 'n_estimators': 151, 'min_child_weight': 3}. Best is trial 20 with value: 0.5588235294117647.\n",
      "[I 2023-10-14 14:25:58,011] Trial 43 finished with value: 0.5441176470588235 and parameters: {'max_depth': 10, 'learning_rate': 0.11787838737832207, 'n_estimators': 109, 'min_child_weight': 4}. Best is trial 20 with value: 0.5588235294117647.\n",
      "[I 2023-10-14 14:25:58,219] Trial 44 finished with value: 0.5294117647058824 and parameters: {'max_depth': 10, 'learning_rate': 0.11594892217866692, 'n_estimators': 65, 'min_child_weight': 4}. Best is trial 20 with value: 0.5588235294117647.\n",
      "[I 2023-10-14 14:25:58,496] Trial 45 finished with value: 0.5441176470588235 and parameters: {'max_depth': 9, 'learning_rate': 0.1028199405660791, 'n_estimators': 107, 'min_child_weight': 4}. Best is trial 20 with value: 0.5588235294117647.\n",
      "[I 2023-10-14 14:25:58,754] Trial 46 finished with value: 0.5441176470588235 and parameters: {'max_depth': 9, 'learning_rate': 0.10002342144013347, 'n_estimators': 108, 'min_child_weight': 4}. Best is trial 20 with value: 0.5588235294117647.\n",
      "[I 2023-10-14 14:25:58,999] Trial 47 finished with value: 0.5441176470588235 and parameters: {'max_depth': 8, 'learning_rate': 0.11765024037916402, 'n_estimators': 87, 'min_child_weight': 3}. Best is trial 20 with value: 0.5588235294117647.\n",
      "[I 2023-10-14 14:25:59,284] Trial 48 finished with value: 0.5294117647058824 and parameters: {'max_depth': 9, 'learning_rate': 0.10544984478575548, 'n_estimators': 122, 'min_child_weight': 4}. Best is trial 20 with value: 0.5588235294117647.\n",
      "[I 2023-10-14 14:25:59,504] Trial 49 finished with value: 0.5294117647058824 and parameters: {'max_depth': 10, 'learning_rate': 0.08580661981006235, 'n_estimators': 101, 'min_child_weight': 3}. Best is trial 20 with value: 0.5588235294117647.\n",
      "[I 2023-10-14 14:25:59,709] Trial 50 finished with value: 0.5441176470588235 and parameters: {'max_depth': 7, 'learning_rate': 0.1282686214681963, 'n_estimators': 105, 'min_child_weight': 2}. Best is trial 20 with value: 0.5588235294117647.\n",
      "[I 2023-10-14 14:25:59,919] Trial 51 finished with value: 0.5294117647058824 and parameters: {'max_depth': 9, 'learning_rate': 0.1263540887197195, 'n_estimators': 111, 'min_child_weight': 4}. Best is trial 20 with value: 0.5588235294117647.\n",
      "[I 2023-10-14 14:26:00,124] Trial 52 finished with value: 0.47058823529411764 and parameters: {'max_depth': 9, 'learning_rate': 0.09718151304242548, 'n_estimators': 92, 'min_child_weight': 5}. Best is trial 20 with value: 0.5588235294117647.\n",
      "[I 2023-10-14 14:26:00,384] Trial 53 finished with value: 0.5 and parameters: {'max_depth': 8, 'learning_rate': 0.10158461247616213, 'n_estimators': 109, 'min_child_weight': 4}. Best is trial 20 with value: 0.5588235294117647.\n",
      "[I 2023-10-14 14:26:00,664] Trial 54 finished with value: 0.5294117647058824 and parameters: {'max_depth': 9, 'learning_rate': 0.08433874488289356, 'n_estimators': 123, 'min_child_weight': 3}. Best is trial 20 with value: 0.5588235294117647.\n",
      "[I 2023-10-14 14:26:00,869] Trial 55 finished with value: 0.5147058823529411 and parameters: {'max_depth': 10, 'learning_rate': 0.11632331551191756, 'n_estimators': 80, 'min_child_weight': 4}. Best is trial 20 with value: 0.5588235294117647.\n",
      "[I 2023-10-14 14:26:01,109] Trial 56 finished with value: 0.5294117647058824 and parameters: {'max_depth': 9, 'learning_rate': 0.06828718971381957, 'n_estimators': 117, 'min_child_weight': 5}. Best is trial 20 with value: 0.5588235294117647.\n",
      "[I 2023-10-14 14:26:01,263] Trial 57 finished with value: 0.5441176470588235 and parameters: {'max_depth': 8, 'learning_rate': 0.09442817125569593, 'n_estimators': 57, 'min_child_weight': 2}. Best is trial 20 with value: 0.5588235294117647.\n",
      "[I 2023-10-14 14:26:01,584] Trial 58 finished with value: 0.5294117647058824 and parameters: {'max_depth': 10, 'learning_rate': 0.10438555210886663, 'n_estimators': 131, 'min_child_weight': 3}. Best is trial 20 with value: 0.5588235294117647.\n",
      "[I 2023-10-14 14:26:01,774] Trial 59 finished with value: 0.5 and parameters: {'max_depth': 9, 'learning_rate': 0.14516480530473824, 'n_estimators': 94, 'min_child_weight': 4}. Best is trial 20 with value: 0.5588235294117647.\n",
      "[I 2023-10-14 14:26:02,011] Trial 60 finished with value: 0.47058823529411764 and parameters: {'max_depth': 10, 'learning_rate': 0.08722800943685324, 'n_estimators': 141, 'min_child_weight': 6}. Best is trial 20 with value: 0.5588235294117647.\n",
      "[I 2023-10-14 14:26:02,181] Trial 61 finished with value: 0.5441176470588235 and parameters: {'max_depth': 8, 'learning_rate': 0.11758752205294298, 'n_estimators': 85, 'min_child_weight': 3}. Best is trial 20 with value: 0.5588235294117647.\n",
      "[I 2023-10-14 14:26:02,404] Trial 62 finished with value: 0.5147058823529411 and parameters: {'max_depth': 9, 'learning_rate': 0.12064808986787597, 'n_estimators': 107, 'min_child_weight': 2}. Best is trial 20 with value: 0.5588235294117647.\n",
      "[I 2023-10-14 14:26:02,629] Trial 63 finished with value: 0.5 and parameters: {'max_depth': 8, 'learning_rate': 0.10684244424380429, 'n_estimators': 103, 'min_child_weight': 3}. Best is trial 20 with value: 0.5588235294117647.\n",
      "[I 2023-10-14 14:26:02,829] Trial 64 finished with value: 0.5294117647058824 and parameters: {'max_depth': 9, 'learning_rate': 0.13447150717128473, 'n_estimators': 86, 'min_child_weight': 4}. Best is trial 20 with value: 0.5588235294117647.\n",
      "[I 2023-10-14 14:26:03,004] Trial 65 finished with value: 0.5147058823529411 and parameters: {'max_depth': 8, 'learning_rate': 0.0801801719735439, 'n_estimators': 69, 'min_child_weight': 3}. Best is trial 20 with value: 0.5588235294117647.\n",
      "[I 2023-10-14 14:26:03,189] Trial 66 finished with value: 0.45588235294117646 and parameters: {'max_depth': 10, 'learning_rate': 0.09305273156327598, 'n_estimators': 75, 'min_child_weight': 2}. Best is trial 20 with value: 0.5588235294117647.\n",
      "[I 2023-10-14 14:26:03,359] Trial 67 finished with value: 0.5147058823529411 and parameters: {'max_depth': 7, 'learning_rate': 0.11132431131939174, 'n_estimators': 97, 'min_child_weight': 5}. Best is trial 20 with value: 0.5588235294117647.\n",
      "[I 2023-10-14 14:26:03,599] Trial 68 finished with value: 0.5147058823529411 and parameters: {'max_depth': 9, 'learning_rate': 0.06422790819742387, 'n_estimators': 116, 'min_child_weight': 4}. Best is trial 20 with value: 0.5588235294117647.\n",
      "[I 2023-10-14 14:26:03,812] Trial 69 finished with value: 0.5147058823529411 and parameters: {'max_depth': 10, 'learning_rate': 0.1512813824797279, 'n_estimators': 112, 'min_child_weight': 3}. Best is trial 20 with value: 0.5588235294117647.\n",
      "[I 2023-10-14 14:26:04,001] Trial 70 finished with value: 0.4852941176470588 and parameters: {'max_depth': 9, 'learning_rate': 0.07454773788679755, 'n_estimators': 126, 'min_child_weight': 9}. Best is trial 20 with value: 0.5588235294117647.\n",
      "[I 2023-10-14 14:26:04,192] Trial 71 finished with value: 0.5 and parameters: {'max_depth': 7, 'learning_rate': 0.12574676785781233, 'n_estimators': 103, 'min_child_weight': 2}. Best is trial 20 with value: 0.5588235294117647.\n",
      "[I 2023-10-14 14:26:04,364] Trial 72 finished with value: 0.5 and parameters: {'max_depth': 6, 'learning_rate': 0.13374240577225513, 'n_estimators': 89, 'min_child_weight': 1}. Best is trial 20 with value: 0.5588235294117647.\n",
      "[I 2023-10-14 14:26:04,560] Trial 73 finished with value: 0.47058823529411764 and parameters: {'max_depth': 7, 'learning_rate': 0.11225930322386994, 'n_estimators': 107, 'min_child_weight': 2}. Best is trial 20 with value: 0.5588235294117647.\n",
      "[I 2023-10-14 14:26:04,791] Trial 74 finished with value: 0.5294117647058824 and parameters: {'max_depth': 8, 'learning_rate': 0.12546444057006698, 'n_estimators': 120, 'min_child_weight': 3}. Best is trial 20 with value: 0.5588235294117647.\n",
      "[I 2023-10-14 14:26:05,034] Trial 75 finished with value: 0.4852941176470588 and parameters: {'max_depth': 7, 'learning_rate': 0.10090156394057784, 'n_estimators': 137, 'min_child_weight': 3}. Best is trial 20 with value: 0.5588235294117647.\n",
      "[I 2023-10-14 14:26:05,169] Trial 76 finished with value: 0.5588235294117647 and parameters: {'max_depth': 8, 'learning_rate': 0.13762071643089785, 'n_estimators': 58, 'min_child_weight': 2}. Best is trial 20 with value: 0.5588235294117647.\n",
      "[I 2023-10-14 14:26:05,314] Trial 77 finished with value: 0.5 and parameters: {'max_depth': 9, 'learning_rate': 0.13604273820753243, 'n_estimators': 57, 'min_child_weight': 1}. Best is trial 20 with value: 0.5588235294117647.\n",
      "[I 2023-10-14 14:26:05,440] Trial 78 finished with value: 0.5147058823529411 and parameters: {'max_depth': 8, 'learning_rate': 0.1580546723765427, 'n_estimators': 52, 'min_child_weight': 4}. Best is trial 20 with value: 0.5588235294117647.\n",
      "[I 2023-10-14 14:26:05,624] Trial 79 finished with value: 0.5294117647058824 and parameters: {'max_depth': 10, 'learning_rate': 0.08816026389685803, 'n_estimators': 75, 'min_child_weight': 2}. Best is trial 20 with value: 0.5588235294117647.\n",
      "[I 2023-10-14 14:26:05,779] Trial 80 finished with value: 0.5147058823529411 and parameters: {'max_depth': 9, 'learning_rate': 0.11101155655941614, 'n_estimators': 64, 'min_child_weight': 5}. Best is trial 20 with value: 0.5588235294117647.\n",
      "[I 2023-10-14 14:26:06,007] Trial 81 finished with value: 0.5294117647058824 and parameters: {'max_depth': 8, 'learning_rate': 0.11937044666905833, 'n_estimators': 96, 'min_child_weight': 2}. Best is trial 20 with value: 0.5588235294117647.\n",
      "[I 2023-10-14 14:26:06,254] Trial 82 finished with value: 0.5 and parameters: {'max_depth': 6, 'learning_rate': 0.09816827622455541, 'n_estimators': 146, 'min_child_weight': 2}. Best is trial 20 with value: 0.5588235294117647.\n",
      "[I 2023-10-14 14:26:06,407] Trial 83 finished with value: 0.4852941176470588 and parameters: {'max_depth': 7, 'learning_rate': 0.14330595694638376, 'n_estimators': 70, 'min_child_weight': 1}. Best is trial 20 with value: 0.5588235294117647.\n",
      "[I 2023-10-14 14:26:06,609] Trial 84 finished with value: 0.5147058823529411 and parameters: {'max_depth': 9, 'learning_rate': 0.13028562112021627, 'n_estimators': 105, 'min_child_weight': 3}. Best is trial 20 with value: 0.5588235294117647.\n",
      "[I 2023-10-14 14:26:06,749] Trial 85 finished with value: 0.5588235294117647 and parameters: {'max_depth': 8, 'learning_rate': 0.12243709984932634, 'n_estimators': 57, 'min_child_weight': 2}. Best is trial 20 with value: 0.5588235294117647.\n",
      "[I 2023-10-14 14:26:06,883] Trial 86 finished with value: 0.5147058823529411 and parameters: {'max_depth': 8, 'learning_rate': 0.12065193161009402, 'n_estimators': 58, 'min_child_weight': 3}. Best is trial 20 with value: 0.5588235294117647.\n",
      "[I 2023-10-14 14:26:07,009] Trial 87 finished with value: 0.5441176470588235 and parameters: {'max_depth': 9, 'learning_rate': 0.10735046288569666, 'n_estimators': 54, 'min_child_weight': 4}. Best is trial 20 with value: 0.5588235294117647.\n",
      "[I 2023-10-14 14:26:07,159] Trial 88 finished with value: 0.5 and parameters: {'max_depth': 8, 'learning_rate': 0.09177810778476278, 'n_estimators': 60, 'min_child_weight': 2}. Best is trial 20 with value: 0.5588235294117647.\n",
      "[I 2023-10-14 14:26:07,313] Trial 89 finished with value: 0.5294117647058824 and parameters: {'max_depth': 10, 'learning_rate': 0.14182284790016725, 'n_estimators': 64, 'min_child_weight': 3}. Best is trial 20 with value: 0.5588235294117647.\n",
      "[I 2023-10-14 14:26:07,509] Trial 90 finished with value: 0.4852941176470588 and parameters: {'max_depth': 9, 'learning_rate': 0.08031545363319181, 'n_estimators': 79, 'min_child_weight': 1}. Best is trial 20 with value: 0.5588235294117647.\n",
      "[I 2023-10-14 14:26:07,809] Trial 91 finished with value: 0.5147058823529411 and parameters: {'max_depth': 8, 'learning_rate': 0.12542098633288315, 'n_estimators': 163, 'min_child_weight': 2}. Best is trial 20 with value: 0.5588235294117647.\n",
      "[I 2023-10-14 14:26:07,940] Trial 92 finished with value: 0.5441176470588235 and parameters: {'max_depth': 7, 'learning_rate': 0.11370366456795597, 'n_estimators': 67, 'min_child_weight': 2}. Best is trial 20 with value: 0.5588235294117647.\n",
      "[I 2023-10-14 14:26:08,209] Trial 93 finished with value: 0.5 and parameters: {'max_depth': 8, 'learning_rate': 0.101980277117079, 'n_estimators': 151, 'min_child_weight': 4}. Best is trial 20 with value: 0.5588235294117647.\n",
      "[I 2023-10-14 14:26:08,349] Trial 94 finished with value: 0.5 and parameters: {'max_depth': 10, 'learning_rate': 0.13057662421035068, 'n_estimators': 50, 'min_child_weight': 2}. Best is trial 20 with value: 0.5588235294117647.\n",
      "[I 2023-10-14 14:26:08,574] Trial 95 finished with value: 0.5 and parameters: {'max_depth': 9, 'learning_rate': 0.10765012277435856, 'n_estimators': 112, 'min_child_weight': 3}. Best is trial 20 with value: 0.5588235294117647.\n",
      "[I 2023-10-14 14:26:08,784] Trial 96 finished with value: 0.5294117647058824 and parameters: {'max_depth': 8, 'learning_rate': 0.12255560126605065, 'n_estimators': 90, 'min_child_weight': 1}. Best is trial 20 with value: 0.5588235294117647.\n",
      "[I 2023-10-14 14:26:09,029] Trial 97 finished with value: 0.5588235294117647 and parameters: {'max_depth': 9, 'learning_rate': 0.11682028944728641, 'n_estimators': 101, 'min_child_weight': 3}. Best is trial 20 with value: 0.5588235294117647.\n",
      "[I 2023-10-14 14:26:09,273] Trial 98 finished with value: 0.5441176470588235 and parameters: {'max_depth': 9, 'learning_rate': 0.0981539424889765, 'n_estimators': 100, 'min_child_weight': 3}. Best is trial 20 with value: 0.5588235294117647.\n",
      "[I 2023-10-14 14:26:09,486] Trial 99 finished with value: 0.5294117647058824 and parameters: {'max_depth': 10, 'learning_rate': 0.11619405973842979, 'n_estimators': 85, 'min_child_weight': 4}. Best is trial 20 with value: 0.5588235294117647.\n"
     ]
    },
    {
     "name": "stdout",
     "output_type": "stream",
     "text": [
      "Best Hyperparameters: {'max_depth': 9, 'learning_rate': 0.10249788397004489, 'n_estimators': 59, 'min_child_weight': 3}\n",
      "Best Accuracy: 55.88%\n"
     ]
    }
   ],
   "source": [
    "import optuna\n",
    "\n",
    "def objective(trial):\n",
    "    params = {\n",
    "        'objective': 'multi:softmax',\n",
    "        'num_class': 4,\n",
    "        'max_depth': trial.suggest_int('max_depth', 3, 10),\n",
    "        'learning_rate': trial.suggest_float('learning_rate', 0.01, 0.3),\n",
    "        'n_estimators': trial.suggest_int('n_estimators', 50, 200),\n",
    "        'min_child_weight': trial.suggest_int('min_child_weight', 1, 10),\n",
    "    }\n",
    "\n",
    "    model = xgb.XGBClassifier(**params)\n",
    "    model.fit(X_train, y_train)\n",
    "    y_pred = model.predict(X_test)\n",
    "    accuracy = accuracy_score(y_test, y_pred)\n",
    "    return accuracy\n",
    "\n",
    "study = optuna.create_study(direction='maximize')\n",
    "study.optimize(objective, n_trials=100)\n",
    "best_params = study.best_params\n",
    "best_accuracy = study.best_value\n",
    "print(\"Best Hyperparameters:\", best_params)\n",
    "print(\"Best Accuracy: %.2f%%\" % (best_accuracy * 100))\n"
   ]
  },
  {
   "cell_type": "code",
   "execution_count": 13,
   "metadata": {},
   "outputs": [
    {
     "name": "stdout",
     "output_type": "stream",
     "text": [
      "Best Hyperparameters: {'max_depth': 9, 'learning_rate': 0.10249788397004489, 'n_estimators': 59, 'min_child_weight': 3}\n",
      "Best Accuracy: 55.88%\n"
     ]
    }
   ],
   "source": [
    "best_params = study.best_params\n",
    "best_accuracy = study.best_value\n",
    "print(\"Best Hyperparameters:\", best_params)\n",
    "print(\"Best Accuracy: %.2f%%\" % (best_accuracy * 100))"
   ]
  },
  {
   "cell_type": "code",
   "execution_count": 14,
   "metadata": {},
   "outputs": [
    {
     "data": {
      "application/vnd.plotly.v1+json": {
       "config": {
        "plotlyServerURL": "https://plot.ly"
       },
       "data": [
        {
         "marker": {
          "color": [
           0,
           1,
           2,
           3,
           4,
           5,
           6,
           7,
           8,
           9,
           10,
           11,
           12,
           13,
           14,
           15,
           16,
           17,
           18,
           19,
           20,
           21,
           22,
           23,
           24,
           25,
           26,
           27,
           28,
           29,
           30,
           31,
           32,
           33,
           34,
           35,
           36,
           37,
           38,
           39,
           40,
           41,
           42,
           43,
           44,
           45,
           46,
           47,
           48,
           49,
           50,
           51,
           52,
           53,
           54,
           55,
           56,
           57,
           58,
           59,
           60,
           61,
           62,
           63,
           64,
           65,
           66,
           67,
           68,
           69,
           70,
           71,
           72,
           73,
           74,
           75,
           76,
           77,
           78,
           79,
           80,
           81,
           82,
           83,
           84,
           85,
           86,
           87,
           88,
           89,
           90,
           91,
           92,
           93,
           94,
           95,
           96,
           97,
           98,
           99
          ],
          "colorbar": {
           "title": {
            "text": "Trial"
           },
           "x": 1,
           "xpad": 40
          },
          "colorscale": [
           [
            0,
            "rgb(247,251,255)"
           ],
           [
            0.125,
            "rgb(222,235,247)"
           ],
           [
            0.25,
            "rgb(198,219,239)"
           ],
           [
            0.375,
            "rgb(158,202,225)"
           ],
           [
            0.5,
            "rgb(107,174,214)"
           ],
           [
            0.625,
            "rgb(66,146,198)"
           ],
           [
            0.75,
            "rgb(33,113,181)"
           ],
           [
            0.875,
            "rgb(8,81,156)"
           ],
           [
            1,
            "rgb(8,48,107)"
           ]
          ],
          "line": {
           "color": "Grey",
           "width": 0.5
          },
          "showscale": true
         },
         "mode": "markers",
         "showlegend": false,
         "type": "scatter",
         "x": [
          0.04593273909656244,
          0.17551448888924445,
          0.13431661555086566,
          0.06813144938618915,
          0.12407243743525735,
          0.0743389938085515,
          0.039038785548858965,
          0.2793533491113778,
          0.09232250050840184,
          0.02122433610461805,
          0.02537388854001832,
          0.18714528890145576,
          0.1683681520708778,
          0.19957925979210717,
          0.11455708809813019,
          0.15995125297424062,
          0.21863478425003852,
          0.055706635600081475,
          0.1420520856650353,
          0.09183396165802442,
          0.10249788397004489,
          0.10520111388922243,
          0.0449799661232186,
          0.08541132830174218,
          0.010861006772450832,
          0.06110491637470243,
          0.10991427033227238,
          0.1467910623504205,
          0.04787337621502285,
          0.12810850836101076,
          0.07617619812319804,
          0.19947642593227455,
          0.13607378410714488,
          0.17212044391564535,
          0.21434373242347163,
          0.06941949680128899,
          0.07134923756916464,
          0.05988425100599103,
          0.031657313025583965,
          0.036446156266276966,
          0.07757059165865343,
          0.10453356279488248,
          0.09688098179307778,
          0.11787838737832207,
          0.11594892217866692,
          0.1028199405660791,
          0.10002342144013347,
          0.11765024037916402,
          0.10544984478575548,
          0.08580661981006235,
          0.1282686214681963,
          0.1263540887197195,
          0.09718151304242548,
          0.10158461247616213,
          0.08433874488289356,
          0.11632331551191756,
          0.06828718971381957,
          0.09442817125569593,
          0.10438555210886663,
          0.14516480530473824,
          0.08722800943685324,
          0.11758752205294298,
          0.12064808986787597,
          0.10684244424380429,
          0.13447150717128473,
          0.0801801719735439,
          0.09305273156327598,
          0.11132431131939174,
          0.06422790819742387,
          0.1512813824797279,
          0.07454773788679755,
          0.12574676785781233,
          0.13374240577225513,
          0.11225930322386994,
          0.12546444057006698,
          0.10090156394057784,
          0.13762071643089785,
          0.13604273820753243,
          0.1580546723765427,
          0.08816026389685803,
          0.11101155655941614,
          0.11937044666905833,
          0.09816827622455541,
          0.14330595694638376,
          0.13028562112021627,
          0.12243709984932634,
          0.12065193161009402,
          0.10735046288569666,
          0.09177810778476278,
          0.14182284790016725,
          0.08031545363319181,
          0.12542098633288315,
          0.11370366456795597,
          0.101980277117079,
          0.13057662421035068,
          0.10765012277435856,
          0.12255560126605065,
          0.11682028944728641,
          0.0981539424889765,
          0.11619405973842979
         ],
         "xaxis": "x",
         "y": [
          0.5294117647058824,
          0.5294117647058824,
          0.47058823529411764,
          0.5,
          0.5147058823529411,
          0.4852941176470588,
          0.5,
          0.5147058823529411,
          0.4852941176470588,
          0.47058823529411764,
          0.4411764705882353,
          0.47058823529411764,
          0.47058823529411764,
          0.5294117647058824,
          0.47058823529411764,
          0.5294117647058824,
          0.4117647058823529,
          0.5294117647058824,
          0.4852941176470588,
          0.4852941176470588,
          0.5588235294117647,
          0.5294117647058824,
          0.5147058823529411,
          0.4852941176470588,
          0.5147058823529411,
          0.5147058823529411,
          0.5,
          0.4264705882352941,
          0.5294117647058824,
          0.4852941176470588,
          0.4852941176470588,
          0.5294117647058824,
          0.5147058823529411,
          0.5,
          0.5,
          0.5441176470588235,
          0.5147058823529411,
          0.5294117647058824,
          0.4852941176470588,
          0.4852941176470588,
          0.5294117647058824,
          0.5441176470588235,
          0.5147058823529411,
          0.5441176470588235,
          0.5294117647058824,
          0.5441176470588235,
          0.5441176470588235,
          0.5441176470588235,
          0.5294117647058824,
          0.5294117647058824,
          0.5441176470588235,
          0.5294117647058824,
          0.47058823529411764,
          0.5,
          0.5294117647058824,
          0.5147058823529411,
          0.5294117647058824,
          0.5441176470588235,
          0.5294117647058824,
          0.5,
          0.47058823529411764,
          0.5441176470588235,
          0.5147058823529411,
          0.5,
          0.5294117647058824,
          0.5147058823529411,
          0.45588235294117646,
          0.5147058823529411,
          0.5147058823529411,
          0.5147058823529411,
          0.4852941176470588,
          0.5,
          0.5,
          0.47058823529411764,
          0.5294117647058824,
          0.4852941176470588,
          0.5588235294117647,
          0.5,
          0.5147058823529411,
          0.5294117647058824,
          0.5147058823529411,
          0.5294117647058824,
          0.5,
          0.4852941176470588,
          0.5147058823529411,
          0.5588235294117647,
          0.5147058823529411,
          0.5441176470588235,
          0.5,
          0.5294117647058824,
          0.4852941176470588,
          0.5147058823529411,
          0.5441176470588235,
          0.5,
          0.5,
          0.5,
          0.5294117647058824,
          0.5588235294117647,
          0.5441176470588235,
          0.5294117647058824
         ],
         "yaxis": "y"
        },
        {
         "marker": {
          "color": [
           0,
           1,
           2,
           3,
           4,
           5,
           6,
           7,
           8,
           9,
           10,
           11,
           12,
           13,
           14,
           15,
           16,
           17,
           18,
           19,
           20,
           21,
           22,
           23,
           24,
           25,
           26,
           27,
           28,
           29,
           30,
           31,
           32,
           33,
           34,
           35,
           36,
           37,
           38,
           39,
           40,
           41,
           42,
           43,
           44,
           45,
           46,
           47,
           48,
           49,
           50,
           51,
           52,
           53,
           54,
           55,
           56,
           57,
           58,
           59,
           60,
           61,
           62,
           63,
           64,
           65,
           66,
           67,
           68,
           69,
           70,
           71,
           72,
           73,
           74,
           75,
           76,
           77,
           78,
           79,
           80,
           81,
           82,
           83,
           84,
           85,
           86,
           87,
           88,
           89,
           90,
           91,
           92,
           93,
           94,
           95,
           96,
           97,
           98,
           99
          ],
          "colorbar": {
           "title": {
            "text": "Trial"
           },
           "x": 1,
           "xpad": 40
          },
          "colorscale": [
           [
            0,
            "rgb(247,251,255)"
           ],
           [
            0.125,
            "rgb(222,235,247)"
           ],
           [
            0.25,
            "rgb(198,219,239)"
           ],
           [
            0.375,
            "rgb(158,202,225)"
           ],
           [
            0.5,
            "rgb(107,174,214)"
           ],
           [
            0.625,
            "rgb(66,146,198)"
           ],
           [
            0.75,
            "rgb(33,113,181)"
           ],
           [
            0.875,
            "rgb(8,81,156)"
           ],
           [
            1,
            "rgb(8,48,107)"
           ]
          ],
          "line": {
           "color": "Grey",
           "width": 0.5
          },
          "showscale": false
         },
         "mode": "markers",
         "showlegend": false,
         "type": "scatter",
         "x": [
          10,
          3,
          4,
          10,
          8,
          5,
          5,
          7,
          6,
          8,
          10,
          3,
          3,
          9,
          6,
          8,
          4,
          7,
          9,
          5,
          9,
          9,
          10,
          9,
          10,
          8,
          7,
          9,
          4,
          10,
          6,
          9,
          9,
          10,
          8,
          10,
          10,
          10,
          5,
          8,
          10,
          9,
          9,
          10,
          10,
          9,
          9,
          8,
          9,
          10,
          7,
          9,
          9,
          8,
          9,
          10,
          9,
          8,
          10,
          9,
          10,
          8,
          9,
          8,
          9,
          8,
          10,
          7,
          9,
          10,
          9,
          7,
          6,
          7,
          8,
          7,
          8,
          9,
          8,
          10,
          9,
          8,
          6,
          7,
          9,
          8,
          8,
          9,
          8,
          10,
          9,
          8,
          7,
          8,
          10,
          9,
          8,
          9,
          9,
          10
         ],
         "xaxis": "x2",
         "y": [
          0.5294117647058824,
          0.5294117647058824,
          0.47058823529411764,
          0.5,
          0.5147058823529411,
          0.4852941176470588,
          0.5,
          0.5147058823529411,
          0.4852941176470588,
          0.47058823529411764,
          0.4411764705882353,
          0.47058823529411764,
          0.47058823529411764,
          0.5294117647058824,
          0.47058823529411764,
          0.5294117647058824,
          0.4117647058823529,
          0.5294117647058824,
          0.4852941176470588,
          0.4852941176470588,
          0.5588235294117647,
          0.5294117647058824,
          0.5147058823529411,
          0.4852941176470588,
          0.5147058823529411,
          0.5147058823529411,
          0.5,
          0.4264705882352941,
          0.5294117647058824,
          0.4852941176470588,
          0.4852941176470588,
          0.5294117647058824,
          0.5147058823529411,
          0.5,
          0.5,
          0.5441176470588235,
          0.5147058823529411,
          0.5294117647058824,
          0.4852941176470588,
          0.4852941176470588,
          0.5294117647058824,
          0.5441176470588235,
          0.5147058823529411,
          0.5441176470588235,
          0.5294117647058824,
          0.5441176470588235,
          0.5441176470588235,
          0.5441176470588235,
          0.5294117647058824,
          0.5294117647058824,
          0.5441176470588235,
          0.5294117647058824,
          0.47058823529411764,
          0.5,
          0.5294117647058824,
          0.5147058823529411,
          0.5294117647058824,
          0.5441176470588235,
          0.5294117647058824,
          0.5,
          0.47058823529411764,
          0.5441176470588235,
          0.5147058823529411,
          0.5,
          0.5294117647058824,
          0.5147058823529411,
          0.45588235294117646,
          0.5147058823529411,
          0.5147058823529411,
          0.5147058823529411,
          0.4852941176470588,
          0.5,
          0.5,
          0.47058823529411764,
          0.5294117647058824,
          0.4852941176470588,
          0.5588235294117647,
          0.5,
          0.5147058823529411,
          0.5294117647058824,
          0.5147058823529411,
          0.5294117647058824,
          0.5,
          0.4852941176470588,
          0.5147058823529411,
          0.5588235294117647,
          0.5147058823529411,
          0.5441176470588235,
          0.5,
          0.5294117647058824,
          0.4852941176470588,
          0.5147058823529411,
          0.5441176470588235,
          0.5,
          0.5,
          0.5,
          0.5294117647058824,
          0.5588235294117647,
          0.5441176470588235,
          0.5294117647058824
         ],
         "yaxis": "y2"
        },
        {
         "marker": {
          "color": [
           0,
           1,
           2,
           3,
           4,
           5,
           6,
           7,
           8,
           9,
           10,
           11,
           12,
           13,
           14,
           15,
           16,
           17,
           18,
           19,
           20,
           21,
           22,
           23,
           24,
           25,
           26,
           27,
           28,
           29,
           30,
           31,
           32,
           33,
           34,
           35,
           36,
           37,
           38,
           39,
           40,
           41,
           42,
           43,
           44,
           45,
           46,
           47,
           48,
           49,
           50,
           51,
           52,
           53,
           54,
           55,
           56,
           57,
           58,
           59,
           60,
           61,
           62,
           63,
           64,
           65,
           66,
           67,
           68,
           69,
           70,
           71,
           72,
           73,
           74,
           75,
           76,
           77,
           78,
           79,
           80,
           81,
           82,
           83,
           84,
           85,
           86,
           87,
           88,
           89,
           90,
           91,
           92,
           93,
           94,
           95,
           96,
           97,
           98,
           99
          ],
          "colorbar": {
           "title": {
            "text": "Trial"
           },
           "x": 1,
           "xpad": 40
          },
          "colorscale": [
           [
            0,
            "rgb(247,251,255)"
           ],
           [
            0.125,
            "rgb(222,235,247)"
           ],
           [
            0.25,
            "rgb(198,219,239)"
           ],
           [
            0.375,
            "rgb(158,202,225)"
           ],
           [
            0.5,
            "rgb(107,174,214)"
           ],
           [
            0.625,
            "rgb(66,146,198)"
           ],
           [
            0.75,
            "rgb(33,113,181)"
           ],
           [
            0.875,
            "rgb(8,81,156)"
           ],
           [
            1,
            "rgb(8,48,107)"
           ]
          ],
          "line": {
           "color": "Grey",
           "width": 0.5
          },
          "showscale": false
         },
         "mode": "markers",
         "showlegend": false,
         "type": "scatter",
         "x": [
          3,
          5,
          7,
          1,
          6,
          6,
          10,
          3,
          7,
          10,
          1,
          4,
          4,
          3,
          4,
          2,
          8,
          5,
          5,
          2,
          3,
          3,
          2,
          4,
          5,
          3,
          2,
          7,
          5,
          6,
          8,
          3,
          1,
          3,
          4,
          2,
          1,
          2,
          6,
          1,
          2,
          3,
          3,
          4,
          4,
          4,
          4,
          3,
          4,
          3,
          2,
          4,
          5,
          4,
          3,
          4,
          5,
          2,
          3,
          4,
          6,
          3,
          2,
          3,
          4,
          3,
          2,
          5,
          4,
          3,
          9,
          2,
          1,
          2,
          3,
          3,
          2,
          1,
          4,
          2,
          5,
          2,
          2,
          1,
          3,
          2,
          3,
          4,
          2,
          3,
          1,
          2,
          2,
          4,
          2,
          3,
          1,
          3,
          3,
          4
         ],
         "xaxis": "x3",
         "y": [
          0.5294117647058824,
          0.5294117647058824,
          0.47058823529411764,
          0.5,
          0.5147058823529411,
          0.4852941176470588,
          0.5,
          0.5147058823529411,
          0.4852941176470588,
          0.47058823529411764,
          0.4411764705882353,
          0.47058823529411764,
          0.47058823529411764,
          0.5294117647058824,
          0.47058823529411764,
          0.5294117647058824,
          0.4117647058823529,
          0.5294117647058824,
          0.4852941176470588,
          0.4852941176470588,
          0.5588235294117647,
          0.5294117647058824,
          0.5147058823529411,
          0.4852941176470588,
          0.5147058823529411,
          0.5147058823529411,
          0.5,
          0.4264705882352941,
          0.5294117647058824,
          0.4852941176470588,
          0.4852941176470588,
          0.5294117647058824,
          0.5147058823529411,
          0.5,
          0.5,
          0.5441176470588235,
          0.5147058823529411,
          0.5294117647058824,
          0.4852941176470588,
          0.4852941176470588,
          0.5294117647058824,
          0.5441176470588235,
          0.5147058823529411,
          0.5441176470588235,
          0.5294117647058824,
          0.5441176470588235,
          0.5441176470588235,
          0.5441176470588235,
          0.5294117647058824,
          0.5294117647058824,
          0.5441176470588235,
          0.5294117647058824,
          0.47058823529411764,
          0.5,
          0.5294117647058824,
          0.5147058823529411,
          0.5294117647058824,
          0.5441176470588235,
          0.5294117647058824,
          0.5,
          0.47058823529411764,
          0.5441176470588235,
          0.5147058823529411,
          0.5,
          0.5294117647058824,
          0.5147058823529411,
          0.45588235294117646,
          0.5147058823529411,
          0.5147058823529411,
          0.5147058823529411,
          0.4852941176470588,
          0.5,
          0.5,
          0.47058823529411764,
          0.5294117647058824,
          0.4852941176470588,
          0.5588235294117647,
          0.5,
          0.5147058823529411,
          0.5294117647058824,
          0.5147058823529411,
          0.5294117647058824,
          0.5,
          0.4852941176470588,
          0.5147058823529411,
          0.5588235294117647,
          0.5147058823529411,
          0.5441176470588235,
          0.5,
          0.5294117647058824,
          0.4852941176470588,
          0.5147058823529411,
          0.5441176470588235,
          0.5,
          0.5,
          0.5,
          0.5294117647058824,
          0.5588235294117647,
          0.5441176470588235,
          0.5294117647058824
         ],
         "yaxis": "y3"
        },
        {
         "marker": {
          "color": [
           0,
           1,
           2,
           3,
           4,
           5,
           6,
           7,
           8,
           9,
           10,
           11,
           12,
           13,
           14,
           15,
           16,
           17,
           18,
           19,
           20,
           21,
           22,
           23,
           24,
           25,
           26,
           27,
           28,
           29,
           30,
           31,
           32,
           33,
           34,
           35,
           36,
           37,
           38,
           39,
           40,
           41,
           42,
           43,
           44,
           45,
           46,
           47,
           48,
           49,
           50,
           51,
           52,
           53,
           54,
           55,
           56,
           57,
           58,
           59,
           60,
           61,
           62,
           63,
           64,
           65,
           66,
           67,
           68,
           69,
           70,
           71,
           72,
           73,
           74,
           75,
           76,
           77,
           78,
           79,
           80,
           81,
           82,
           83,
           84,
           85,
           86,
           87,
           88,
           89,
           90,
           91,
           92,
           93,
           94,
           95,
           96,
           97,
           98,
           99
          ],
          "colorbar": {
           "title": {
            "text": "Trial"
           },
           "x": 1,
           "xpad": 40
          },
          "colorscale": [
           [
            0,
            "rgb(247,251,255)"
           ],
           [
            0.125,
            "rgb(222,235,247)"
           ],
           [
            0.25,
            "rgb(198,219,239)"
           ],
           [
            0.375,
            "rgb(158,202,225)"
           ],
           [
            0.5,
            "rgb(107,174,214)"
           ],
           [
            0.625,
            "rgb(66,146,198)"
           ],
           [
            0.75,
            "rgb(33,113,181)"
           ],
           [
            0.875,
            "rgb(8,81,156)"
           ],
           [
            1,
            "rgb(8,48,107)"
           ]
          ],
          "line": {
           "color": "Grey",
           "width": 0.5
          },
          "showscale": false
         },
         "mode": "markers",
         "showlegend": false,
         "type": "scatter",
         "x": [
          188,
          157,
          187,
          152,
          51,
          156,
          179,
          90,
          169,
          174,
          118,
          200,
          130,
          147,
          118,
          197,
          140,
          99,
          166,
          184,
          59,
          62,
          73,
          98,
          136,
          81,
          159,
          190,
          114,
          187,
          143,
          147,
          165,
          128,
          155,
          147,
          176,
          159,
          51,
          174,
          134,
          148,
          151,
          109,
          65,
          107,
          108,
          87,
          122,
          101,
          105,
          111,
          92,
          109,
          123,
          80,
          117,
          57,
          131,
          94,
          141,
          85,
          107,
          103,
          86,
          69,
          75,
          97,
          116,
          112,
          126,
          103,
          89,
          107,
          120,
          137,
          58,
          57,
          52,
          75,
          64,
          96,
          146,
          70,
          105,
          57,
          58,
          54,
          60,
          64,
          79,
          163,
          67,
          151,
          50,
          112,
          90,
          101,
          100,
          85
         ],
         "xaxis": "x4",
         "y": [
          0.5294117647058824,
          0.5294117647058824,
          0.47058823529411764,
          0.5,
          0.5147058823529411,
          0.4852941176470588,
          0.5,
          0.5147058823529411,
          0.4852941176470588,
          0.47058823529411764,
          0.4411764705882353,
          0.47058823529411764,
          0.47058823529411764,
          0.5294117647058824,
          0.47058823529411764,
          0.5294117647058824,
          0.4117647058823529,
          0.5294117647058824,
          0.4852941176470588,
          0.4852941176470588,
          0.5588235294117647,
          0.5294117647058824,
          0.5147058823529411,
          0.4852941176470588,
          0.5147058823529411,
          0.5147058823529411,
          0.5,
          0.4264705882352941,
          0.5294117647058824,
          0.4852941176470588,
          0.4852941176470588,
          0.5294117647058824,
          0.5147058823529411,
          0.5,
          0.5,
          0.5441176470588235,
          0.5147058823529411,
          0.5294117647058824,
          0.4852941176470588,
          0.4852941176470588,
          0.5294117647058824,
          0.5441176470588235,
          0.5147058823529411,
          0.5441176470588235,
          0.5294117647058824,
          0.5441176470588235,
          0.5441176470588235,
          0.5441176470588235,
          0.5294117647058824,
          0.5294117647058824,
          0.5441176470588235,
          0.5294117647058824,
          0.47058823529411764,
          0.5,
          0.5294117647058824,
          0.5147058823529411,
          0.5294117647058824,
          0.5441176470588235,
          0.5294117647058824,
          0.5,
          0.47058823529411764,
          0.5441176470588235,
          0.5147058823529411,
          0.5,
          0.5294117647058824,
          0.5147058823529411,
          0.45588235294117646,
          0.5147058823529411,
          0.5147058823529411,
          0.5147058823529411,
          0.4852941176470588,
          0.5,
          0.5,
          0.47058823529411764,
          0.5294117647058824,
          0.4852941176470588,
          0.5588235294117647,
          0.5,
          0.5147058823529411,
          0.5294117647058824,
          0.5147058823529411,
          0.5294117647058824,
          0.5,
          0.4852941176470588,
          0.5147058823529411,
          0.5588235294117647,
          0.5147058823529411,
          0.5441176470588235,
          0.5,
          0.5294117647058824,
          0.4852941176470588,
          0.5147058823529411,
          0.5441176470588235,
          0.5,
          0.5,
          0.5,
          0.5294117647058824,
          0.5588235294117647,
          0.5441176470588235,
          0.5294117647058824
         ],
         "yaxis": "y4"
        }
       ],
       "layout": {
        "template": {
         "data": {
          "bar": [
           {
            "error_x": {
             "color": "#2a3f5f"
            },
            "error_y": {
             "color": "#2a3f5f"
            },
            "marker": {
             "line": {
              "color": "#E5ECF6",
              "width": 0.5
             },
             "pattern": {
              "fillmode": "overlay",
              "size": 10,
              "solidity": 0.2
             }
            },
            "type": "bar"
           }
          ],
          "barpolar": [
           {
            "marker": {
             "line": {
              "color": "#E5ECF6",
              "width": 0.5
             },
             "pattern": {
              "fillmode": "overlay",
              "size": 10,
              "solidity": 0.2
             }
            },
            "type": "barpolar"
           }
          ],
          "carpet": [
           {
            "aaxis": {
             "endlinecolor": "#2a3f5f",
             "gridcolor": "white",
             "linecolor": "white",
             "minorgridcolor": "white",
             "startlinecolor": "#2a3f5f"
            },
            "baxis": {
             "endlinecolor": "#2a3f5f",
             "gridcolor": "white",
             "linecolor": "white",
             "minorgridcolor": "white",
             "startlinecolor": "#2a3f5f"
            },
            "type": "carpet"
           }
          ],
          "choropleth": [
           {
            "colorbar": {
             "outlinewidth": 0,
             "ticks": ""
            },
            "type": "choropleth"
           }
          ],
          "contour": [
           {
            "colorbar": {
             "outlinewidth": 0,
             "ticks": ""
            },
            "colorscale": [
             [
              0,
              "#0d0887"
             ],
             [
              0.1111111111111111,
              "#46039f"
             ],
             [
              0.2222222222222222,
              "#7201a8"
             ],
             [
              0.3333333333333333,
              "#9c179e"
             ],
             [
              0.4444444444444444,
              "#bd3786"
             ],
             [
              0.5555555555555556,
              "#d8576b"
             ],
             [
              0.6666666666666666,
              "#ed7953"
             ],
             [
              0.7777777777777778,
              "#fb9f3a"
             ],
             [
              0.8888888888888888,
              "#fdca26"
             ],
             [
              1,
              "#f0f921"
             ]
            ],
            "type": "contour"
           }
          ],
          "contourcarpet": [
           {
            "colorbar": {
             "outlinewidth": 0,
             "ticks": ""
            },
            "type": "contourcarpet"
           }
          ],
          "heatmap": [
           {
            "colorbar": {
             "outlinewidth": 0,
             "ticks": ""
            },
            "colorscale": [
             [
              0,
              "#0d0887"
             ],
             [
              0.1111111111111111,
              "#46039f"
             ],
             [
              0.2222222222222222,
              "#7201a8"
             ],
             [
              0.3333333333333333,
              "#9c179e"
             ],
             [
              0.4444444444444444,
              "#bd3786"
             ],
             [
              0.5555555555555556,
              "#d8576b"
             ],
             [
              0.6666666666666666,
              "#ed7953"
             ],
             [
              0.7777777777777778,
              "#fb9f3a"
             ],
             [
              0.8888888888888888,
              "#fdca26"
             ],
             [
              1,
              "#f0f921"
             ]
            ],
            "type": "heatmap"
           }
          ],
          "heatmapgl": [
           {
            "colorbar": {
             "outlinewidth": 0,
             "ticks": ""
            },
            "colorscale": [
             [
              0,
              "#0d0887"
             ],
             [
              0.1111111111111111,
              "#46039f"
             ],
             [
              0.2222222222222222,
              "#7201a8"
             ],
             [
              0.3333333333333333,
              "#9c179e"
             ],
             [
              0.4444444444444444,
              "#bd3786"
             ],
             [
              0.5555555555555556,
              "#d8576b"
             ],
             [
              0.6666666666666666,
              "#ed7953"
             ],
             [
              0.7777777777777778,
              "#fb9f3a"
             ],
             [
              0.8888888888888888,
              "#fdca26"
             ],
             [
              1,
              "#f0f921"
             ]
            ],
            "type": "heatmapgl"
           }
          ],
          "histogram": [
           {
            "marker": {
             "pattern": {
              "fillmode": "overlay",
              "size": 10,
              "solidity": 0.2
             }
            },
            "type": "histogram"
           }
          ],
          "histogram2d": [
           {
            "colorbar": {
             "outlinewidth": 0,
             "ticks": ""
            },
            "colorscale": [
             [
              0,
              "#0d0887"
             ],
             [
              0.1111111111111111,
              "#46039f"
             ],
             [
              0.2222222222222222,
              "#7201a8"
             ],
             [
              0.3333333333333333,
              "#9c179e"
             ],
             [
              0.4444444444444444,
              "#bd3786"
             ],
             [
              0.5555555555555556,
              "#d8576b"
             ],
             [
              0.6666666666666666,
              "#ed7953"
             ],
             [
              0.7777777777777778,
              "#fb9f3a"
             ],
             [
              0.8888888888888888,
              "#fdca26"
             ],
             [
              1,
              "#f0f921"
             ]
            ],
            "type": "histogram2d"
           }
          ],
          "histogram2dcontour": [
           {
            "colorbar": {
             "outlinewidth": 0,
             "ticks": ""
            },
            "colorscale": [
             [
              0,
              "#0d0887"
             ],
             [
              0.1111111111111111,
              "#46039f"
             ],
             [
              0.2222222222222222,
              "#7201a8"
             ],
             [
              0.3333333333333333,
              "#9c179e"
             ],
             [
              0.4444444444444444,
              "#bd3786"
             ],
             [
              0.5555555555555556,
              "#d8576b"
             ],
             [
              0.6666666666666666,
              "#ed7953"
             ],
             [
              0.7777777777777778,
              "#fb9f3a"
             ],
             [
              0.8888888888888888,
              "#fdca26"
             ],
             [
              1,
              "#f0f921"
             ]
            ],
            "type": "histogram2dcontour"
           }
          ],
          "mesh3d": [
           {
            "colorbar": {
             "outlinewidth": 0,
             "ticks": ""
            },
            "type": "mesh3d"
           }
          ],
          "parcoords": [
           {
            "line": {
             "colorbar": {
              "outlinewidth": 0,
              "ticks": ""
             }
            },
            "type": "parcoords"
           }
          ],
          "pie": [
           {
            "automargin": true,
            "type": "pie"
           }
          ],
          "scatter": [
           {
            "fillpattern": {
             "fillmode": "overlay",
             "size": 10,
             "solidity": 0.2
            },
            "type": "scatter"
           }
          ],
          "scatter3d": [
           {
            "line": {
             "colorbar": {
              "outlinewidth": 0,
              "ticks": ""
             }
            },
            "marker": {
             "colorbar": {
              "outlinewidth": 0,
              "ticks": ""
             }
            },
            "type": "scatter3d"
           }
          ],
          "scattercarpet": [
           {
            "marker": {
             "colorbar": {
              "outlinewidth": 0,
              "ticks": ""
             }
            },
            "type": "scattercarpet"
           }
          ],
          "scattergeo": [
           {
            "marker": {
             "colorbar": {
              "outlinewidth": 0,
              "ticks": ""
             }
            },
            "type": "scattergeo"
           }
          ],
          "scattergl": [
           {
            "marker": {
             "colorbar": {
              "outlinewidth": 0,
              "ticks": ""
             }
            },
            "type": "scattergl"
           }
          ],
          "scattermapbox": [
           {
            "marker": {
             "colorbar": {
              "outlinewidth": 0,
              "ticks": ""
             }
            },
            "type": "scattermapbox"
           }
          ],
          "scatterpolar": [
           {
            "marker": {
             "colorbar": {
              "outlinewidth": 0,
              "ticks": ""
             }
            },
            "type": "scatterpolar"
           }
          ],
          "scatterpolargl": [
           {
            "marker": {
             "colorbar": {
              "outlinewidth": 0,
              "ticks": ""
             }
            },
            "type": "scatterpolargl"
           }
          ],
          "scatterternary": [
           {
            "marker": {
             "colorbar": {
              "outlinewidth": 0,
              "ticks": ""
             }
            },
            "type": "scatterternary"
           }
          ],
          "surface": [
           {
            "colorbar": {
             "outlinewidth": 0,
             "ticks": ""
            },
            "colorscale": [
             [
              0,
              "#0d0887"
             ],
             [
              0.1111111111111111,
              "#46039f"
             ],
             [
              0.2222222222222222,
              "#7201a8"
             ],
             [
              0.3333333333333333,
              "#9c179e"
             ],
             [
              0.4444444444444444,
              "#bd3786"
             ],
             [
              0.5555555555555556,
              "#d8576b"
             ],
             [
              0.6666666666666666,
              "#ed7953"
             ],
             [
              0.7777777777777778,
              "#fb9f3a"
             ],
             [
              0.8888888888888888,
              "#fdca26"
             ],
             [
              1,
              "#f0f921"
             ]
            ],
            "type": "surface"
           }
          ],
          "table": [
           {
            "cells": {
             "fill": {
              "color": "#EBF0F8"
             },
             "line": {
              "color": "white"
             }
            },
            "header": {
             "fill": {
              "color": "#C8D4E3"
             },
             "line": {
              "color": "white"
             }
            },
            "type": "table"
           }
          ]
         },
         "layout": {
          "annotationdefaults": {
           "arrowcolor": "#2a3f5f",
           "arrowhead": 0,
           "arrowwidth": 1
          },
          "autotypenumbers": "strict",
          "coloraxis": {
           "colorbar": {
            "outlinewidth": 0,
            "ticks": ""
           }
          },
          "colorscale": {
           "diverging": [
            [
             0,
             "#8e0152"
            ],
            [
             0.1,
             "#c51b7d"
            ],
            [
             0.2,
             "#de77ae"
            ],
            [
             0.3,
             "#f1b6da"
            ],
            [
             0.4,
             "#fde0ef"
            ],
            [
             0.5,
             "#f7f7f7"
            ],
            [
             0.6,
             "#e6f5d0"
            ],
            [
             0.7,
             "#b8e186"
            ],
            [
             0.8,
             "#7fbc41"
            ],
            [
             0.9,
             "#4d9221"
            ],
            [
             1,
             "#276419"
            ]
           ],
           "sequential": [
            [
             0,
             "#0d0887"
            ],
            [
             0.1111111111111111,
             "#46039f"
            ],
            [
             0.2222222222222222,
             "#7201a8"
            ],
            [
             0.3333333333333333,
             "#9c179e"
            ],
            [
             0.4444444444444444,
             "#bd3786"
            ],
            [
             0.5555555555555556,
             "#d8576b"
            ],
            [
             0.6666666666666666,
             "#ed7953"
            ],
            [
             0.7777777777777778,
             "#fb9f3a"
            ],
            [
             0.8888888888888888,
             "#fdca26"
            ],
            [
             1,
             "#f0f921"
            ]
           ],
           "sequentialminus": [
            [
             0,
             "#0d0887"
            ],
            [
             0.1111111111111111,
             "#46039f"
            ],
            [
             0.2222222222222222,
             "#7201a8"
            ],
            [
             0.3333333333333333,
             "#9c179e"
            ],
            [
             0.4444444444444444,
             "#bd3786"
            ],
            [
             0.5555555555555556,
             "#d8576b"
            ],
            [
             0.6666666666666666,
             "#ed7953"
            ],
            [
             0.7777777777777778,
             "#fb9f3a"
            ],
            [
             0.8888888888888888,
             "#fdca26"
            ],
            [
             1,
             "#f0f921"
            ]
           ]
          },
          "colorway": [
           "#636efa",
           "#EF553B",
           "#00cc96",
           "#ab63fa",
           "#FFA15A",
           "#19d3f3",
           "#FF6692",
           "#B6E880",
           "#FF97FF",
           "#FECB52"
          ],
          "font": {
           "color": "#2a3f5f"
          },
          "geo": {
           "bgcolor": "white",
           "lakecolor": "white",
           "landcolor": "#E5ECF6",
           "showlakes": true,
           "showland": true,
           "subunitcolor": "white"
          },
          "hoverlabel": {
           "align": "left"
          },
          "hovermode": "closest",
          "mapbox": {
           "style": "light"
          },
          "paper_bgcolor": "white",
          "plot_bgcolor": "#E5ECF6",
          "polar": {
           "angularaxis": {
            "gridcolor": "white",
            "linecolor": "white",
            "ticks": ""
           },
           "bgcolor": "#E5ECF6",
           "radialaxis": {
            "gridcolor": "white",
            "linecolor": "white",
            "ticks": ""
           }
          },
          "scene": {
           "xaxis": {
            "backgroundcolor": "#E5ECF6",
            "gridcolor": "white",
            "gridwidth": 2,
            "linecolor": "white",
            "showbackground": true,
            "ticks": "",
            "zerolinecolor": "white"
           },
           "yaxis": {
            "backgroundcolor": "#E5ECF6",
            "gridcolor": "white",
            "gridwidth": 2,
            "linecolor": "white",
            "showbackground": true,
            "ticks": "",
            "zerolinecolor": "white"
           },
           "zaxis": {
            "backgroundcolor": "#E5ECF6",
            "gridcolor": "white",
            "gridwidth": 2,
            "linecolor": "white",
            "showbackground": true,
            "ticks": "",
            "zerolinecolor": "white"
           }
          },
          "shapedefaults": {
           "line": {
            "color": "#2a3f5f"
           }
          },
          "ternary": {
           "aaxis": {
            "gridcolor": "white",
            "linecolor": "white",
            "ticks": ""
           },
           "baxis": {
            "gridcolor": "white",
            "linecolor": "white",
            "ticks": ""
           },
           "bgcolor": "#E5ECF6",
           "caxis": {
            "gridcolor": "white",
            "linecolor": "white",
            "ticks": ""
           }
          },
          "title": {
           "x": 0.05
          },
          "xaxis": {
           "automargin": true,
           "gridcolor": "white",
           "linecolor": "white",
           "ticks": "",
           "title": {
            "standoff": 15
           },
           "zerolinecolor": "white",
           "zerolinewidth": 2
          },
          "yaxis": {
           "automargin": true,
           "gridcolor": "white",
           "linecolor": "white",
           "ticks": "",
           "title": {
            "standoff": 15
           },
           "zerolinecolor": "white",
           "zerolinewidth": 2
          }
         }
        },
        "title": {
         "text": "Slice Plot"
        },
        "width": 1200,
        "xaxis": {
         "anchor": "y",
         "domain": [
          0,
          0.2125
         ],
         "title": {
          "text": "learning_rate"
         }
        },
        "xaxis2": {
         "anchor": "y2",
         "domain": [
          0.2625,
          0.475
         ],
         "title": {
          "text": "max_depth"
         }
        },
        "xaxis3": {
         "anchor": "y3",
         "domain": [
          0.525,
          0.7375
         ],
         "title": {
          "text": "min_child_weight"
         }
        },
        "xaxis4": {
         "anchor": "y4",
         "domain": [
          0.7875,
          1
         ],
         "title": {
          "text": "n_estimators"
         }
        },
        "yaxis": {
         "anchor": "x",
         "domain": [
          0,
          1
         ],
         "title": {
          "text": "Objective Value"
         }
        },
        "yaxis2": {
         "anchor": "x2",
         "domain": [
          0,
          1
         ],
         "matches": "y",
         "showticklabels": false
        },
        "yaxis3": {
         "anchor": "x3",
         "domain": [
          0,
          1
         ],
         "matches": "y",
         "showticklabels": false
        },
        "yaxis4": {
         "anchor": "x4",
         "domain": [
          0,
          1
         ],
         "matches": "y",
         "showticklabels": false
        }
       }
      }
     },
     "metadata": {},
     "output_type": "display_data"
    }
   ],
   "source": [
    "import plotly\n",
    "\n",
    "fig = optuna.visualization.plot_slice(study, params=[\"max_depth\", \"learning_rate\", 'n_estimators', 'min_child_weight'])\n",
    "fig.show()"
   ]
  },
  {
   "cell_type": "code",
   "execution_count": 16,
   "metadata": {},
   "outputs": [
    {
     "data": {
      "application/vnd.plotly.v1+json": {
       "config": {
        "plotlyServerURL": "https://plot.ly"
       },
       "data": [
        {
         "cliponaxis": false,
         "hovertemplate": [
          "max_depth (IntDistribution): 0.07123169812361987<extra></extra>",
          "n_estimators (IntDistribution): 0.10029775646976286<extra></extra>",
          "learning_rate (FloatDistribution): 0.26333807945949783<extra></extra>",
          "min_child_weight (IntDistribution): 0.5651324659471195<extra></extra>"
         ],
         "marker": {
          "color": "rgb(66,146,198)"
         },
         "orientation": "h",
         "text": [
          "0.07",
          "0.10",
          "0.26",
          "0.57"
         ],
         "textposition": "outside",
         "type": "bar",
         "x": [
          0.07123169812361987,
          0.10029775646976286,
          0.26333807945949783,
          0.5651324659471195
         ],
         "y": [
          "max_depth",
          "n_estimators",
          "learning_rate",
          "min_child_weight"
         ]
        }
       ],
       "layout": {
        "showlegend": false,
        "template": {
         "data": {
          "bar": [
           {
            "error_x": {
             "color": "#2a3f5f"
            },
            "error_y": {
             "color": "#2a3f5f"
            },
            "marker": {
             "line": {
              "color": "#E5ECF6",
              "width": 0.5
             },
             "pattern": {
              "fillmode": "overlay",
              "size": 10,
              "solidity": 0.2
             }
            },
            "type": "bar"
           }
          ],
          "barpolar": [
           {
            "marker": {
             "line": {
              "color": "#E5ECF6",
              "width": 0.5
             },
             "pattern": {
              "fillmode": "overlay",
              "size": 10,
              "solidity": 0.2
             }
            },
            "type": "barpolar"
           }
          ],
          "carpet": [
           {
            "aaxis": {
             "endlinecolor": "#2a3f5f",
             "gridcolor": "white",
             "linecolor": "white",
             "minorgridcolor": "white",
             "startlinecolor": "#2a3f5f"
            },
            "baxis": {
             "endlinecolor": "#2a3f5f",
             "gridcolor": "white",
             "linecolor": "white",
             "minorgridcolor": "white",
             "startlinecolor": "#2a3f5f"
            },
            "type": "carpet"
           }
          ],
          "choropleth": [
           {
            "colorbar": {
             "outlinewidth": 0,
             "ticks": ""
            },
            "type": "choropleth"
           }
          ],
          "contour": [
           {
            "colorbar": {
             "outlinewidth": 0,
             "ticks": ""
            },
            "colorscale": [
             [
              0,
              "#0d0887"
             ],
             [
              0.1111111111111111,
              "#46039f"
             ],
             [
              0.2222222222222222,
              "#7201a8"
             ],
             [
              0.3333333333333333,
              "#9c179e"
             ],
             [
              0.4444444444444444,
              "#bd3786"
             ],
             [
              0.5555555555555556,
              "#d8576b"
             ],
             [
              0.6666666666666666,
              "#ed7953"
             ],
             [
              0.7777777777777778,
              "#fb9f3a"
             ],
             [
              0.8888888888888888,
              "#fdca26"
             ],
             [
              1,
              "#f0f921"
             ]
            ],
            "type": "contour"
           }
          ],
          "contourcarpet": [
           {
            "colorbar": {
             "outlinewidth": 0,
             "ticks": ""
            },
            "type": "contourcarpet"
           }
          ],
          "heatmap": [
           {
            "colorbar": {
             "outlinewidth": 0,
             "ticks": ""
            },
            "colorscale": [
             [
              0,
              "#0d0887"
             ],
             [
              0.1111111111111111,
              "#46039f"
             ],
             [
              0.2222222222222222,
              "#7201a8"
             ],
             [
              0.3333333333333333,
              "#9c179e"
             ],
             [
              0.4444444444444444,
              "#bd3786"
             ],
             [
              0.5555555555555556,
              "#d8576b"
             ],
             [
              0.6666666666666666,
              "#ed7953"
             ],
             [
              0.7777777777777778,
              "#fb9f3a"
             ],
             [
              0.8888888888888888,
              "#fdca26"
             ],
             [
              1,
              "#f0f921"
             ]
            ],
            "type": "heatmap"
           }
          ],
          "heatmapgl": [
           {
            "colorbar": {
             "outlinewidth": 0,
             "ticks": ""
            },
            "colorscale": [
             [
              0,
              "#0d0887"
             ],
             [
              0.1111111111111111,
              "#46039f"
             ],
             [
              0.2222222222222222,
              "#7201a8"
             ],
             [
              0.3333333333333333,
              "#9c179e"
             ],
             [
              0.4444444444444444,
              "#bd3786"
             ],
             [
              0.5555555555555556,
              "#d8576b"
             ],
             [
              0.6666666666666666,
              "#ed7953"
             ],
             [
              0.7777777777777778,
              "#fb9f3a"
             ],
             [
              0.8888888888888888,
              "#fdca26"
             ],
             [
              1,
              "#f0f921"
             ]
            ],
            "type": "heatmapgl"
           }
          ],
          "histogram": [
           {
            "marker": {
             "pattern": {
              "fillmode": "overlay",
              "size": 10,
              "solidity": 0.2
             }
            },
            "type": "histogram"
           }
          ],
          "histogram2d": [
           {
            "colorbar": {
             "outlinewidth": 0,
             "ticks": ""
            },
            "colorscale": [
             [
              0,
              "#0d0887"
             ],
             [
              0.1111111111111111,
              "#46039f"
             ],
             [
              0.2222222222222222,
              "#7201a8"
             ],
             [
              0.3333333333333333,
              "#9c179e"
             ],
             [
              0.4444444444444444,
              "#bd3786"
             ],
             [
              0.5555555555555556,
              "#d8576b"
             ],
             [
              0.6666666666666666,
              "#ed7953"
             ],
             [
              0.7777777777777778,
              "#fb9f3a"
             ],
             [
              0.8888888888888888,
              "#fdca26"
             ],
             [
              1,
              "#f0f921"
             ]
            ],
            "type": "histogram2d"
           }
          ],
          "histogram2dcontour": [
           {
            "colorbar": {
             "outlinewidth": 0,
             "ticks": ""
            },
            "colorscale": [
             [
              0,
              "#0d0887"
             ],
             [
              0.1111111111111111,
              "#46039f"
             ],
             [
              0.2222222222222222,
              "#7201a8"
             ],
             [
              0.3333333333333333,
              "#9c179e"
             ],
             [
              0.4444444444444444,
              "#bd3786"
             ],
             [
              0.5555555555555556,
              "#d8576b"
             ],
             [
              0.6666666666666666,
              "#ed7953"
             ],
             [
              0.7777777777777778,
              "#fb9f3a"
             ],
             [
              0.8888888888888888,
              "#fdca26"
             ],
             [
              1,
              "#f0f921"
             ]
            ],
            "type": "histogram2dcontour"
           }
          ],
          "mesh3d": [
           {
            "colorbar": {
             "outlinewidth": 0,
             "ticks": ""
            },
            "type": "mesh3d"
           }
          ],
          "parcoords": [
           {
            "line": {
             "colorbar": {
              "outlinewidth": 0,
              "ticks": ""
             }
            },
            "type": "parcoords"
           }
          ],
          "pie": [
           {
            "automargin": true,
            "type": "pie"
           }
          ],
          "scatter": [
           {
            "fillpattern": {
             "fillmode": "overlay",
             "size": 10,
             "solidity": 0.2
            },
            "type": "scatter"
           }
          ],
          "scatter3d": [
           {
            "line": {
             "colorbar": {
              "outlinewidth": 0,
              "ticks": ""
             }
            },
            "marker": {
             "colorbar": {
              "outlinewidth": 0,
              "ticks": ""
             }
            },
            "type": "scatter3d"
           }
          ],
          "scattercarpet": [
           {
            "marker": {
             "colorbar": {
              "outlinewidth": 0,
              "ticks": ""
             }
            },
            "type": "scattercarpet"
           }
          ],
          "scattergeo": [
           {
            "marker": {
             "colorbar": {
              "outlinewidth": 0,
              "ticks": ""
             }
            },
            "type": "scattergeo"
           }
          ],
          "scattergl": [
           {
            "marker": {
             "colorbar": {
              "outlinewidth": 0,
              "ticks": ""
             }
            },
            "type": "scattergl"
           }
          ],
          "scattermapbox": [
           {
            "marker": {
             "colorbar": {
              "outlinewidth": 0,
              "ticks": ""
             }
            },
            "type": "scattermapbox"
           }
          ],
          "scatterpolar": [
           {
            "marker": {
             "colorbar": {
              "outlinewidth": 0,
              "ticks": ""
             }
            },
            "type": "scatterpolar"
           }
          ],
          "scatterpolargl": [
           {
            "marker": {
             "colorbar": {
              "outlinewidth": 0,
              "ticks": ""
             }
            },
            "type": "scatterpolargl"
           }
          ],
          "scatterternary": [
           {
            "marker": {
             "colorbar": {
              "outlinewidth": 0,
              "ticks": ""
             }
            },
            "type": "scatterternary"
           }
          ],
          "surface": [
           {
            "colorbar": {
             "outlinewidth": 0,
             "ticks": ""
            },
            "colorscale": [
             [
              0,
              "#0d0887"
             ],
             [
              0.1111111111111111,
              "#46039f"
             ],
             [
              0.2222222222222222,
              "#7201a8"
             ],
             [
              0.3333333333333333,
              "#9c179e"
             ],
             [
              0.4444444444444444,
              "#bd3786"
             ],
             [
              0.5555555555555556,
              "#d8576b"
             ],
             [
              0.6666666666666666,
              "#ed7953"
             ],
             [
              0.7777777777777778,
              "#fb9f3a"
             ],
             [
              0.8888888888888888,
              "#fdca26"
             ],
             [
              1,
              "#f0f921"
             ]
            ],
            "type": "surface"
           }
          ],
          "table": [
           {
            "cells": {
             "fill": {
              "color": "#EBF0F8"
             },
             "line": {
              "color": "white"
             }
            },
            "header": {
             "fill": {
              "color": "#C8D4E3"
             },
             "line": {
              "color": "white"
             }
            },
            "type": "table"
           }
          ]
         },
         "layout": {
          "annotationdefaults": {
           "arrowcolor": "#2a3f5f",
           "arrowhead": 0,
           "arrowwidth": 1
          },
          "autotypenumbers": "strict",
          "coloraxis": {
           "colorbar": {
            "outlinewidth": 0,
            "ticks": ""
           }
          },
          "colorscale": {
           "diverging": [
            [
             0,
             "#8e0152"
            ],
            [
             0.1,
             "#c51b7d"
            ],
            [
             0.2,
             "#de77ae"
            ],
            [
             0.3,
             "#f1b6da"
            ],
            [
             0.4,
             "#fde0ef"
            ],
            [
             0.5,
             "#f7f7f7"
            ],
            [
             0.6,
             "#e6f5d0"
            ],
            [
             0.7,
             "#b8e186"
            ],
            [
             0.8,
             "#7fbc41"
            ],
            [
             0.9,
             "#4d9221"
            ],
            [
             1,
             "#276419"
            ]
           ],
           "sequential": [
            [
             0,
             "#0d0887"
            ],
            [
             0.1111111111111111,
             "#46039f"
            ],
            [
             0.2222222222222222,
             "#7201a8"
            ],
            [
             0.3333333333333333,
             "#9c179e"
            ],
            [
             0.4444444444444444,
             "#bd3786"
            ],
            [
             0.5555555555555556,
             "#d8576b"
            ],
            [
             0.6666666666666666,
             "#ed7953"
            ],
            [
             0.7777777777777778,
             "#fb9f3a"
            ],
            [
             0.8888888888888888,
             "#fdca26"
            ],
            [
             1,
             "#f0f921"
            ]
           ],
           "sequentialminus": [
            [
             0,
             "#0d0887"
            ],
            [
             0.1111111111111111,
             "#46039f"
            ],
            [
             0.2222222222222222,
             "#7201a8"
            ],
            [
             0.3333333333333333,
             "#9c179e"
            ],
            [
             0.4444444444444444,
             "#bd3786"
            ],
            [
             0.5555555555555556,
             "#d8576b"
            ],
            [
             0.6666666666666666,
             "#ed7953"
            ],
            [
             0.7777777777777778,
             "#fb9f3a"
            ],
            [
             0.8888888888888888,
             "#fdca26"
            ],
            [
             1,
             "#f0f921"
            ]
           ]
          },
          "colorway": [
           "#636efa",
           "#EF553B",
           "#00cc96",
           "#ab63fa",
           "#FFA15A",
           "#19d3f3",
           "#FF6692",
           "#B6E880",
           "#FF97FF",
           "#FECB52"
          ],
          "font": {
           "color": "#2a3f5f"
          },
          "geo": {
           "bgcolor": "white",
           "lakecolor": "white",
           "landcolor": "#E5ECF6",
           "showlakes": true,
           "showland": true,
           "subunitcolor": "white"
          },
          "hoverlabel": {
           "align": "left"
          },
          "hovermode": "closest",
          "mapbox": {
           "style": "light"
          },
          "paper_bgcolor": "white",
          "plot_bgcolor": "#E5ECF6",
          "polar": {
           "angularaxis": {
            "gridcolor": "white",
            "linecolor": "white",
            "ticks": ""
           },
           "bgcolor": "#E5ECF6",
           "radialaxis": {
            "gridcolor": "white",
            "linecolor": "white",
            "ticks": ""
           }
          },
          "scene": {
           "xaxis": {
            "backgroundcolor": "#E5ECF6",
            "gridcolor": "white",
            "gridwidth": 2,
            "linecolor": "white",
            "showbackground": true,
            "ticks": "",
            "zerolinecolor": "white"
           },
           "yaxis": {
            "backgroundcolor": "#E5ECF6",
            "gridcolor": "white",
            "gridwidth": 2,
            "linecolor": "white",
            "showbackground": true,
            "ticks": "",
            "zerolinecolor": "white"
           },
           "zaxis": {
            "backgroundcolor": "#E5ECF6",
            "gridcolor": "white",
            "gridwidth": 2,
            "linecolor": "white",
            "showbackground": true,
            "ticks": "",
            "zerolinecolor": "white"
           }
          },
          "shapedefaults": {
           "line": {
            "color": "#2a3f5f"
           }
          },
          "ternary": {
           "aaxis": {
            "gridcolor": "white",
            "linecolor": "white",
            "ticks": ""
           },
           "baxis": {
            "gridcolor": "white",
            "linecolor": "white",
            "ticks": ""
           },
           "bgcolor": "#E5ECF6",
           "caxis": {
            "gridcolor": "white",
            "linecolor": "white",
            "ticks": ""
           }
          },
          "title": {
           "x": 0.05
          },
          "xaxis": {
           "automargin": true,
           "gridcolor": "white",
           "linecolor": "white",
           "ticks": "",
           "title": {
            "standoff": 15
           },
           "zerolinecolor": "white",
           "zerolinewidth": 2
          },
          "yaxis": {
           "automargin": true,
           "gridcolor": "white",
           "linecolor": "white",
           "ticks": "",
           "title": {
            "standoff": 15
           },
           "zerolinecolor": "white",
           "zerolinewidth": 2
          }
         }
        },
        "title": {
         "text": "Hyperparameter Importances"
        },
        "xaxis": {
         "title": {
          "text": "Importance for Objective Value"
         }
        },
        "yaxis": {
         "title": {
          "text": "Hyperparameter"
         }
        }
       }
      }
     },
     "metadata": {},
     "output_type": "display_data"
    }
   ],
   "source": [
    "fig = optuna.visualization.plot_param_importances(study)\n",
    "fig.show()"
   ]
  },
  {
   "cell_type": "code",
   "execution_count": null,
   "metadata": {},
   "outputs": [],
   "source": []
  }
 ],
 "metadata": {
  "kernelspec": {
   "display_name": "brainwave_project",
   "language": "python",
   "name": "python3"
  },
  "language_info": {
   "codemirror_mode": {
    "name": "ipython",
    "version": 3
   },
   "file_extension": ".py",
   "mimetype": "text/x-python",
   "name": "python",
   "nbconvert_exporter": "python",
   "pygments_lexer": "ipython3",
   "version": "3.10.13"
  }
 },
 "nbformat": 4,
 "nbformat_minor": 2
}
